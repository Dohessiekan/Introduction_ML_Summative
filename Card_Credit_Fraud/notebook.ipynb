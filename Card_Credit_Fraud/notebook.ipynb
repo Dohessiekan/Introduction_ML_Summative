{
 "cells": [
  {
   "cell_type": "code",
   "execution_count": 178,
   "id": "f6ab1a7c-c600-4433-bd6f-075ee2994f75",
   "metadata": {},
   "outputs": [],
   "source": [
    "import numpy as np\n",
    "import matplotlib.pyplot as plt\n",
    "import pandas as pd\n",
    "from sklearn.preprocessing import LabelEncoder, StandardScaler\n",
    "import seaborn as sns\n",
    "from sklearn.model_selection import train_test_split\n",
    "from imblearn.over_sampling import SMOTE\n",
    "from sklearn.utils import class_weight\n",
    "from keras.layers import Dense, Dropout, Input\n",
    "from keras.optimizers import Adam\n",
    "from keras.regularizers import l1, l2\n",
    "from sklearn.metrics import classification_report"
   ]
  },
  {
   "cell_type": "code",
   "execution_count": 9,
   "id": "60f80c45-a26f-4780-bff4-d79139aee36b",
   "metadata": {},
   "outputs": [],
   "source": [
    "data_train = pd.read_csv(\"fraudTest.csv\")\n",
    "data_test = pd.read_csv (\"fraudTrain.csv\")"
   ]
  },
  {
   "cell_type": "code",
   "execution_count": 11,
   "id": "7cbbb287-8f6b-4f38-b3dd-d9ca1af97f1b",
   "metadata": {},
   "outputs": [],
   "source": [
    "df = pd.concat([data_train, data_test])"
   ]
  },
  {
   "cell_type": "code",
   "execution_count": 13,
   "id": "4ae8c55c-4827-42b1-899b-5145a2844827",
   "metadata": {},
   "outputs": [
    {
     "data": {
      "text/html": [
       "<div>\n",
       "<style scoped>\n",
       "    .dataframe tbody tr th:only-of-type {\n",
       "        vertical-align: middle;\n",
       "    }\n",
       "\n",
       "    .dataframe tbody tr th {\n",
       "        vertical-align: top;\n",
       "    }\n",
       "\n",
       "    .dataframe thead th {\n",
       "        text-align: right;\n",
       "    }\n",
       "</style>\n",
       "<table border=\"1\" class=\"dataframe\">\n",
       "  <thead>\n",
       "    <tr style=\"text-align: right;\">\n",
       "      <th></th>\n",
       "      <th>Unnamed: 0</th>\n",
       "      <th>trans_date_trans_time</th>\n",
       "      <th>cc_num</th>\n",
       "      <th>merchant</th>\n",
       "      <th>category</th>\n",
       "      <th>amt</th>\n",
       "      <th>first</th>\n",
       "      <th>last</th>\n",
       "      <th>gender</th>\n",
       "      <th>street</th>\n",
       "      <th>...</th>\n",
       "      <th>lat</th>\n",
       "      <th>long</th>\n",
       "      <th>city_pop</th>\n",
       "      <th>job</th>\n",
       "      <th>dob</th>\n",
       "      <th>trans_num</th>\n",
       "      <th>unix_time</th>\n",
       "      <th>merch_lat</th>\n",
       "      <th>merch_long</th>\n",
       "      <th>is_fraud</th>\n",
       "    </tr>\n",
       "  </thead>\n",
       "  <tbody>\n",
       "    <tr>\n",
       "      <th>0</th>\n",
       "      <td>0</td>\n",
       "      <td>2020-06-21 12:14:25</td>\n",
       "      <td>2291163933867244</td>\n",
       "      <td>fraud_Kirlin and Sons</td>\n",
       "      <td>personal_care</td>\n",
       "      <td>2.86</td>\n",
       "      <td>Jeff</td>\n",
       "      <td>Elliott</td>\n",
       "      <td>M</td>\n",
       "      <td>351 Darlene Green</td>\n",
       "      <td>...</td>\n",
       "      <td>33.9659</td>\n",
       "      <td>-80.9355</td>\n",
       "      <td>333497</td>\n",
       "      <td>Mechanical engineer</td>\n",
       "      <td>1968-03-19</td>\n",
       "      <td>2da90c7d74bd46a0caf3777415b3ebd3</td>\n",
       "      <td>1371816865</td>\n",
       "      <td>33.986391</td>\n",
       "      <td>-81.200714</td>\n",
       "      <td>0</td>\n",
       "    </tr>\n",
       "    <tr>\n",
       "      <th>1</th>\n",
       "      <td>1</td>\n",
       "      <td>2020-06-21 12:14:33</td>\n",
       "      <td>3573030041201292</td>\n",
       "      <td>fraud_Sporer-Keebler</td>\n",
       "      <td>personal_care</td>\n",
       "      <td>29.84</td>\n",
       "      <td>Joanne</td>\n",
       "      <td>Williams</td>\n",
       "      <td>F</td>\n",
       "      <td>3638 Marsh Union</td>\n",
       "      <td>...</td>\n",
       "      <td>40.3207</td>\n",
       "      <td>-110.4360</td>\n",
       "      <td>302</td>\n",
       "      <td>Sales professional, IT</td>\n",
       "      <td>1990-01-17</td>\n",
       "      <td>324cc204407e99f51b0d6ca0055005e7</td>\n",
       "      <td>1371816873</td>\n",
       "      <td>39.450498</td>\n",
       "      <td>-109.960431</td>\n",
       "      <td>0</td>\n",
       "    </tr>\n",
       "    <tr>\n",
       "      <th>2</th>\n",
       "      <td>2</td>\n",
       "      <td>2020-06-21 12:14:53</td>\n",
       "      <td>3598215285024754</td>\n",
       "      <td>fraud_Swaniawski, Nitzsche and Welch</td>\n",
       "      <td>health_fitness</td>\n",
       "      <td>41.28</td>\n",
       "      <td>Ashley</td>\n",
       "      <td>Lopez</td>\n",
       "      <td>F</td>\n",
       "      <td>9333 Valentine Point</td>\n",
       "      <td>...</td>\n",
       "      <td>40.6729</td>\n",
       "      <td>-73.5365</td>\n",
       "      <td>34496</td>\n",
       "      <td>Librarian, public</td>\n",
       "      <td>1970-10-21</td>\n",
       "      <td>c81755dbbbea9d5c77f094348a7579be</td>\n",
       "      <td>1371816893</td>\n",
       "      <td>40.495810</td>\n",
       "      <td>-74.196111</td>\n",
       "      <td>0</td>\n",
       "    </tr>\n",
       "    <tr>\n",
       "      <th>3</th>\n",
       "      <td>3</td>\n",
       "      <td>2020-06-21 12:15:15</td>\n",
       "      <td>3591919803438423</td>\n",
       "      <td>fraud_Haley Group</td>\n",
       "      <td>misc_pos</td>\n",
       "      <td>60.05</td>\n",
       "      <td>Brian</td>\n",
       "      <td>Williams</td>\n",
       "      <td>M</td>\n",
       "      <td>32941 Krystal Mill Apt. 552</td>\n",
       "      <td>...</td>\n",
       "      <td>28.5697</td>\n",
       "      <td>-80.8191</td>\n",
       "      <td>54767</td>\n",
       "      <td>Set designer</td>\n",
       "      <td>1987-07-25</td>\n",
       "      <td>2159175b9efe66dc301f149d3d5abf8c</td>\n",
       "      <td>1371816915</td>\n",
       "      <td>28.812398</td>\n",
       "      <td>-80.883061</td>\n",
       "      <td>0</td>\n",
       "    </tr>\n",
       "    <tr>\n",
       "      <th>4</th>\n",
       "      <td>4</td>\n",
       "      <td>2020-06-21 12:15:17</td>\n",
       "      <td>3526826139003047</td>\n",
       "      <td>fraud_Johnston-Casper</td>\n",
       "      <td>travel</td>\n",
       "      <td>3.19</td>\n",
       "      <td>Nathan</td>\n",
       "      <td>Massey</td>\n",
       "      <td>M</td>\n",
       "      <td>5783 Evan Roads Apt. 465</td>\n",
       "      <td>...</td>\n",
       "      <td>44.2529</td>\n",
       "      <td>-85.0170</td>\n",
       "      <td>1126</td>\n",
       "      <td>Furniture designer</td>\n",
       "      <td>1955-07-06</td>\n",
       "      <td>57ff021bd3f328f8738bb535c302a31b</td>\n",
       "      <td>1371816917</td>\n",
       "      <td>44.959148</td>\n",
       "      <td>-85.884734</td>\n",
       "      <td>0</td>\n",
       "    </tr>\n",
       "  </tbody>\n",
       "</table>\n",
       "<p>5 rows × 23 columns</p>\n",
       "</div>"
      ],
      "text/plain": [
       "   Unnamed: 0 trans_date_trans_time            cc_num  \\\n",
       "0           0   2020-06-21 12:14:25  2291163933867244   \n",
       "1           1   2020-06-21 12:14:33  3573030041201292   \n",
       "2           2   2020-06-21 12:14:53  3598215285024754   \n",
       "3           3   2020-06-21 12:15:15  3591919803438423   \n",
       "4           4   2020-06-21 12:15:17  3526826139003047   \n",
       "\n",
       "                               merchant        category    amt   first  \\\n",
       "0                 fraud_Kirlin and Sons   personal_care   2.86    Jeff   \n",
       "1                  fraud_Sporer-Keebler   personal_care  29.84  Joanne   \n",
       "2  fraud_Swaniawski, Nitzsche and Welch  health_fitness  41.28  Ashley   \n",
       "3                     fraud_Haley Group        misc_pos  60.05   Brian   \n",
       "4                 fraud_Johnston-Casper          travel   3.19  Nathan   \n",
       "\n",
       "       last gender                       street  ...      lat      long  \\\n",
       "0   Elliott      M            351 Darlene Green  ...  33.9659  -80.9355   \n",
       "1  Williams      F             3638 Marsh Union  ...  40.3207 -110.4360   \n",
       "2     Lopez      F         9333 Valentine Point  ...  40.6729  -73.5365   \n",
       "3  Williams      M  32941 Krystal Mill Apt. 552  ...  28.5697  -80.8191   \n",
       "4    Massey      M     5783 Evan Roads Apt. 465  ...  44.2529  -85.0170   \n",
       "\n",
       "   city_pop                     job         dob  \\\n",
       "0    333497     Mechanical engineer  1968-03-19   \n",
       "1       302  Sales professional, IT  1990-01-17   \n",
       "2     34496       Librarian, public  1970-10-21   \n",
       "3     54767            Set designer  1987-07-25   \n",
       "4      1126      Furniture designer  1955-07-06   \n",
       "\n",
       "                          trans_num   unix_time  merch_lat  merch_long  \\\n",
       "0  2da90c7d74bd46a0caf3777415b3ebd3  1371816865  33.986391  -81.200714   \n",
       "1  324cc204407e99f51b0d6ca0055005e7  1371816873  39.450498 -109.960431   \n",
       "2  c81755dbbbea9d5c77f094348a7579be  1371816893  40.495810  -74.196111   \n",
       "3  2159175b9efe66dc301f149d3d5abf8c  1371816915  28.812398  -80.883061   \n",
       "4  57ff021bd3f328f8738bb535c302a31b  1371816917  44.959148  -85.884734   \n",
       "\n",
       "   is_fraud  \n",
       "0         0  \n",
       "1         0  \n",
       "2         0  \n",
       "3         0  \n",
       "4         0  \n",
       "\n",
       "[5 rows x 23 columns]"
      ]
     },
     "execution_count": 13,
     "metadata": {},
     "output_type": "execute_result"
    }
   ],
   "source": [
    "df.head()"
   ]
  },
  {
   "cell_type": "code",
   "execution_count": 15,
   "id": "d1431eb6-be92-4370-b103-bf0c62bda880",
   "metadata": {},
   "outputs": [
    {
     "name": "stdout",
     "output_type": "stream",
     "text": [
      "<class 'pandas.core.frame.DataFrame'>\n",
      "Index: 1852394 entries, 0 to 1296674\n",
      "Data columns (total 23 columns):\n",
      " #   Column                 Dtype  \n",
      "---  ------                 -----  \n",
      " 0   Unnamed: 0             int64  \n",
      " 1   trans_date_trans_time  object \n",
      " 2   cc_num                 int64  \n",
      " 3   merchant               object \n",
      " 4   category               object \n",
      " 5   amt                    float64\n",
      " 6   first                  object \n",
      " 7   last                   object \n",
      " 8   gender                 object \n",
      " 9   street                 object \n",
      " 10  city                   object \n",
      " 11  state                  object \n",
      " 12  zip                    int64  \n",
      " 13  lat                    float64\n",
      " 14  long                   float64\n",
      " 15  city_pop               int64  \n",
      " 16  job                    object \n",
      " 17  dob                    object \n",
      " 18  trans_num              object \n",
      " 19  unix_time              int64  \n",
      " 20  merch_lat              float64\n",
      " 21  merch_long             float64\n",
      " 22  is_fraud               int64  \n",
      "dtypes: float64(5), int64(6), object(12)\n",
      "memory usage: 339.2+ MB\n"
     ]
    }
   ],
   "source": [
    "df.info()"
   ]
  },
  {
   "cell_type": "code",
   "execution_count": 17,
   "id": "e7b08f97-3909-4f4b-8473-e5214b296c92",
   "metadata": {},
   "outputs": [],
   "source": [
    "df = df.dropna()"
   ]
  },
  {
   "cell_type": "code",
   "execution_count": 19,
   "id": "cc403392-37ef-4b9d-9b75-406d0572d8aa",
   "metadata": {},
   "outputs": [
    {
     "data": {
      "text/plain": [
       "Unnamed: 0               0\n",
       "trans_date_trans_time    0\n",
       "cc_num                   0\n",
       "merchant                 0\n",
       "category                 0\n",
       "amt                      0\n",
       "first                    0\n",
       "last                     0\n",
       "gender                   0\n",
       "street                   0\n",
       "city                     0\n",
       "state                    0\n",
       "zip                      0\n",
       "lat                      0\n",
       "long                     0\n",
       "city_pop                 0\n",
       "job                      0\n",
       "dob                      0\n",
       "trans_num                0\n",
       "unix_time                0\n",
       "merch_lat                0\n",
       "merch_long               0\n",
       "is_fraud                 0\n",
       "dtype: int64"
      ]
     },
     "execution_count": 19,
     "metadata": {},
     "output_type": "execute_result"
    }
   ],
   "source": [
    "df.isnull().sum()"
   ]
  },
  {
   "cell_type": "code",
   "execution_count": 21,
   "id": "07f16397-273e-4568-9387-4f9708cde0fe",
   "metadata": {},
   "outputs": [
    {
     "data": {
      "image/png": "[encoded data removed]",
      "text/plain": [
       "<Figure size 640x480 with 1 Axes>"
      ]
     },
     "metadata": {},
     "output_type": "display_data"
    }
   ],
   "source": [
    "fraud_counts=df['is_fraud'].value_counts()\n",
    "sns.barplot(x=fraud_counts.index, y=fraud_counts.values)\n",
    "plt.title('Distribution of Fraud')\n",
    "plt.xlabel('Fraud')\n",
    "plt.ylabel('Count')\n",
    "plt.show()"
   ]
  },
  {
   "cell_type": "code",
   "execution_count": 23,
   "id": "ec91c781-c403-4371-8912-d9309ee2485a",
   "metadata": {},
   "outputs": [
    {
     "data": {
      "text/plain": [
       "0"
      ]
     },
     "execution_count": 23,
     "metadata": {},
     "output_type": "execute_result"
    }
   ],
   "source": [
    "df.duplicated().sum()"
   ]
  },
  {
   "cell_type": "code",
   "execution_count": 24,
   "id": "eb76682c-cb3d-4e05-8559-ace37c3d0dd1",
   "metadata": {},
   "outputs": [
    {
     "name": "stdout",
     "output_type": "stream",
     "text": [
      "<class 'pandas.core.frame.DataFrame'>\n",
      "Index: 1852394 entries, 0 to 1296674\n",
      "Data columns (total 23 columns):\n",
      " #   Column                 Dtype  \n",
      "---  ------                 -----  \n",
      " 0   Unnamed: 0             int64  \n",
      " 1   trans_date_trans_time  object \n",
      " 2   cc_num                 int64  \n",
      " 3   merchant               object \n",
      " 4   category               object \n",
      " 5   amt                    float64\n",
      " 6   first                  object \n",
      " 7   last                   object \n",
      " 8   gender                 object \n",
      " 9   street                 object \n",
      " 10  city                   object \n",
      " 11  state                  object \n",
      " 12  zip                    int64  \n",
      " 13  lat                    float64\n",
      " 14  long                   float64\n",
      " 15  city_pop               int64  \n",
      " 16  job                    object \n",
      " 17  dob                    object \n",
      " 18  trans_num              object \n",
      " 19  unix_time              int64  \n",
      " 20  merch_lat              float64\n",
      " 21  merch_long             float64\n",
      " 22  is_fraud               int64  \n",
      "dtypes: float64(5), int64(6), object(12)\n",
      "memory usage: 339.2+ MB\n"
     ]
    }
   ],
   "source": [
    "df.info()"
   ]
  },
  {
   "cell_type": "markdown",
   "id": "50594cce-f742-45f5-917e-2f345f605afd",
   "metadata": {},
   "source": [
    "Data Processing"
   ]
  },
  {
   "cell_type": "code",
   "execution_count": 26,
   "id": "8cc34a0f-be49-4766-8b62-87ed40e99ff6",
   "metadata": {},
   "outputs": [
    {
     "name": "stdout",
     "output_type": "stream",
     "text": [
      "9651\n",
      "1842743\n"
     ]
    }
   ],
   "source": [
    "fraud=df[df[\"is_fraud\"]==1]\n",
    "not_fraud=df[df[\"is_fraud\"]==0]\n",
    "print(fraud.shape[0])\n",
    "print(not_fraud.shape[0])"
   ]
  },
  {
   "cell_type": "code",
   "execution_count": 27,
   "id": "2e7509b1-01a0-44c7-b031-c2d646014798",
   "metadata": {},
   "outputs": [],
   "source": [
    "not_fraud=not_fraud.sample(fraud.shape[0])\n",
    "data=pd.concat([fraud,not_fraud])"
   ]
  },
  {
   "cell_type": "code",
   "execution_count": 28,
   "id": "cedd56bd-eaab-4a28-b322-9ea6f3d4b795",
   "metadata": {},
   "outputs": [
    {
     "data": {
      "image/png": "[encoded data removed]",
      "text/plain": [
       "<Figure size 640x480 with 1 Axes>"
      ]
     },
     "metadata": {},
     "output_type": "display_data"
    }
   ],
   "source": [
    "fraud_counts=data['is_fraud'].value_counts()\n",
    "sns.barplot(x=fraud_counts.index,y=fraud_counts.values)\n",
    "plt.title('New Distribution of Fraud')\n",
    "plt.xlabel('Fraud')\n",
    "plt.ylabel('Count')\n",
    "plt.show()"
   ]
  },
  {
   "cell_type": "code",
   "execution_count": 34,
   "id": "33a488eb-c017-4aa9-8dbf-c26bda5ee327",
   "metadata": {},
   "outputs": [
    {
     "ename": "NameError",
     "evalue": "name 'y' is not defined",
     "output_type": "error",
     "traceback": [
      "\u001b[1;31m---------------------------------------------------------------------------\u001b[0m",
      "\u001b[1;31mNameError\u001b[0m                                 Traceback (most recent call last)",
      "Cell \u001b[1;32mIn[34], line 1\u001b[0m\n\u001b[1;32m----> 1\u001b[0m y\u001b[38;5;241m.\u001b[39mvalue_counts()\n",
      "\u001b[1;31mNameError\u001b[0m: name 'y' is not defined"
     ]
    }
   ],
   "source": [
    "y.value_counts()"
   ]
  },
  {
   "cell_type": "markdown",
   "id": "21797d26-2f36-41a6-b748-504043f44ba6",
   "metadata": {},
   "source": [
    "Feature Engineering"
   ]
  },
  {
   "cell_type": "code",
   "execution_count": 37,
   "id": "850742a3-2e0a-4b10-af13-727406596331",
   "metadata": {},
   "outputs": [],
   "source": [
    "unused_cols=['Unnamed: 0','cc_num','merch_lat','merch_long','zip','long','lat','first','last','unix_time','street','job','dob','city','state','trans_num','merchant']\n",
    "data.drop(columns=unused_cols,inplace=True)"
   ]
  },
  {
   "cell_type": "code",
   "execution_count": 39,
   "id": "e4c2f417-c93c-4c5c-af35-e173f463bffa",
   "metadata": {},
   "outputs": [
    {
     "name": "stdout",
     "output_type": "stream",
     "text": [
      "<class 'pandas.core.frame.DataFrame'>\n",
      "Index: 19302 entries, 1685 to 685135\n",
      "Data columns (total 6 columns):\n",
      " #   Column                 Non-Null Count  Dtype  \n",
      "---  ------                 --------------  -----  \n",
      " 0   trans_date_trans_time  19302 non-null  object \n",
      " 1   category               19302 non-null  object \n",
      " 2   amt                    19302 non-null  float64\n",
      " 3   gender                 19302 non-null  object \n",
      " 4   city_pop               19302 non-null  int64  \n",
      " 5   is_fraud               19302 non-null  int64  \n",
      "dtypes: float64(1), int64(2), object(3)\n",
      "memory usage: 1.0+ MB\n"
     ]
    }
   ],
   "source": [
    "data.info()"
   ]
  },
  {
   "cell_type": "code",
   "execution_count": 41,
   "id": "4be7a65b-bfac-4237-b43b-2d5f965845ef",
   "metadata": {},
   "outputs": [],
   "source": [
    "data['trans_date_trans_time']=pd.to_datetime(data['trans_date_trans_time'])\n",
    "data['trans_day']=data['trans_date_trans_time'].dt.day\n",
    "data['trans_month']=data['trans_date_trans_time'].dt.month\n",
    "data['trans_year']=data['trans_date_trans_time'].dt.year\n",
    "data['trans_hour']=data['trans_date_trans_time'].dt.hour\n",
    "data['trans_minute']=data['trans_date_trans_time'].dt.minute\n",
    "data.drop(columns=['trans_date_trans_time'],inplace=True)"
   ]
  },
  {
   "cell_type": "markdown",
   "id": "0c634493-63b5-4530-aedb-8c09570c39e0",
   "metadata": {},
   "source": [
    "Encode Variables"
   ]
  },
  {
   "cell_type": "code",
   "execution_count": 44,
   "id": "405365e9-4085-4147-910c-41510c91031b",
   "metadata": {},
   "outputs": [],
   "source": [
    "encoder=LabelEncoder()\n",
    "data['category']=encoder.fit_transform(data['category'])\n",
    "data['gender']=encoder.fit_transform(data['gender'])"
   ]
  },
  {
   "cell_type": "code",
   "execution_count": 46,
   "id": "5ad94ce3-4773-464c-bca9-d89c6dc3fdae",
   "metadata": {},
   "outputs": [
    {
     "data": {
      "text/html": [
       "<div>\n",
       "<style scoped>\n",
       "    .dataframe tbody tr th:only-of-type {\n",
       "        vertical-align: middle;\n",
       "    }\n",
       "\n",
       "    .dataframe tbody tr th {\n",
       "        vertical-align: top;\n",
       "    }\n",
       "\n",
       "    .dataframe thead th {\n",
       "        text-align: right;\n",
       "    }\n",
       "</style>\n",
       "<table border=\"1\" class=\"dataframe\">\n",
       "  <thead>\n",
       "    <tr style=\"text-align: right;\">\n",
       "      <th></th>\n",
       "      <th>category</th>\n",
       "      <th>amt</th>\n",
       "      <th>gender</th>\n",
       "      <th>city_pop</th>\n",
       "      <th>is_fraud</th>\n",
       "      <th>trans_day</th>\n",
       "      <th>trans_month</th>\n",
       "      <th>trans_year</th>\n",
       "      <th>trans_hour</th>\n",
       "      <th>trans_minute</th>\n",
       "    </tr>\n",
       "  </thead>\n",
       "  <tbody>\n",
       "    <tr>\n",
       "      <th>1685</th>\n",
       "      <td>5</td>\n",
       "      <td>24.84</td>\n",
       "      <td>0</td>\n",
       "      <td>23</td>\n",
       "      <td>1</td>\n",
       "      <td>21</td>\n",
       "      <td>6</td>\n",
       "      <td>2020</td>\n",
       "      <td>22</td>\n",
       "      <td>6</td>\n",
       "    </tr>\n",
       "    <tr>\n",
       "      <th>1767</th>\n",
       "      <td>8</td>\n",
       "      <td>780.52</td>\n",
       "      <td>1</td>\n",
       "      <td>1306</td>\n",
       "      <td>1</td>\n",
       "      <td>21</td>\n",
       "      <td>6</td>\n",
       "      <td>2020</td>\n",
       "      <td>22</td>\n",
       "      <td>32</td>\n",
       "    </tr>\n",
       "    <tr>\n",
       "      <th>1781</th>\n",
       "      <td>0</td>\n",
       "      <td>620.33</td>\n",
       "      <td>1</td>\n",
       "      <td>1306</td>\n",
       "      <td>1</td>\n",
       "      <td>21</td>\n",
       "      <td>6</td>\n",
       "      <td>2020</td>\n",
       "      <td>22</td>\n",
       "      <td>37</td>\n",
       "    </tr>\n",
       "    <tr>\n",
       "      <th>1784</th>\n",
       "      <td>11</td>\n",
       "      <td>1077.69</td>\n",
       "      <td>1</td>\n",
       "      <td>71335</td>\n",
       "      <td>1</td>\n",
       "      <td>21</td>\n",
       "      <td>6</td>\n",
       "      <td>2020</td>\n",
       "      <td>22</td>\n",
       "      <td>38</td>\n",
       "    </tr>\n",
       "    <tr>\n",
       "      <th>1857</th>\n",
       "      <td>12</td>\n",
       "      <td>842.65</td>\n",
       "      <td>0</td>\n",
       "      <td>23</td>\n",
       "      <td>1</td>\n",
       "      <td>21</td>\n",
       "      <td>6</td>\n",
       "      <td>2020</td>\n",
       "      <td>23</td>\n",
       "      <td>2</td>\n",
       "    </tr>\n",
       "  </tbody>\n",
       "</table>\n",
       "</div>"
      ],
      "text/plain": [
       "      category      amt  gender  city_pop  is_fraud  trans_day  trans_month  \\\n",
       "1685         5    24.84       0        23         1         21            6   \n",
       "1767         8   780.52       1      1306         1         21            6   \n",
       "1781         0   620.33       1      1306         1         21            6   \n",
       "1784        11  1077.69       1     71335         1         21            6   \n",
       "1857        12   842.65       0        23         1         21            6   \n",
       "\n",
       "      trans_year  trans_hour  trans_minute  \n",
       "1685        2020          22             6  \n",
       "1767        2020          22            32  \n",
       "1781        2020          22            37  \n",
       "1784        2020          22            38  \n",
       "1857        2020          23             2  "
      ]
     },
     "execution_count": 46,
     "metadata": {},
     "output_type": "execute_result"
    }
   ],
   "source": [
    "data.head()"
   ]
  },
  {
   "cell_type": "code",
   "execution_count": 48,
   "id": "721dbc1d-997b-40f5-ba4f-44c8a6fdbb49",
   "metadata": {},
   "outputs": [],
   "source": [
    "target = data['is_fraud']\n",
    "data = data.drop(columns=['is_fraud'])\n",
    "data['is_fraud'] = target"
   ]
  },
  {
   "cell_type": "code",
   "execution_count": 50,
   "id": "af465fb6-7b6e-49af-b8cf-ba1ce646e262",
   "metadata": {},
   "outputs": [
    {
     "data": {
      "text/html": [
       "<div>\n",
       "<style scoped>\n",
       "    .dataframe tbody tr th:only-of-type {\n",
       "        vertical-align: middle;\n",
       "    }\n",
       "\n",
       "    .dataframe tbody tr th {\n",
       "        vertical-align: top;\n",
       "    }\n",
       "\n",
       "    .dataframe thead th {\n",
       "        text-align: right;\n",
       "    }\n",
       "</style>\n",
       "<table border=\"1\" class=\"dataframe\">\n",
       "  <thead>\n",
       "    <tr style=\"text-align: right;\">\n",
       "      <th></th>\n",
       "      <th>category</th>\n",
       "      <th>amt</th>\n",
       "      <th>gender</th>\n",
       "      <th>city_pop</th>\n",
       "      <th>trans_day</th>\n",
       "      <th>trans_month</th>\n",
       "      <th>trans_year</th>\n",
       "      <th>trans_hour</th>\n",
       "      <th>trans_minute</th>\n",
       "      <th>is_fraud</th>\n",
       "    </tr>\n",
       "  </thead>\n",
       "  <tbody>\n",
       "    <tr>\n",
       "      <th>category</th>\n",
       "      <td>1.000000</td>\n",
       "      <td>0.436017</td>\n",
       "      <td>0.002726</td>\n",
       "      <td>0.001481</td>\n",
       "      <td>-0.004735</td>\n",
       "      <td>-0.012105</td>\n",
       "      <td>-0.008799</td>\n",
       "      <td>0.350901</td>\n",
       "      <td>-0.002052</td>\n",
       "      <td>0.130918</td>\n",
       "    </tr>\n",
       "    <tr>\n",
       "      <th>amt</th>\n",
       "      <td>0.436017</td>\n",
       "      <td>1.000000</td>\n",
       "      <td>0.076741</td>\n",
       "      <td>0.012242</td>\n",
       "      <td>0.003861</td>\n",
       "      <td>-0.059642</td>\n",
       "      <td>-0.026230</td>\n",
       "      <td>0.253186</td>\n",
       "      <td>-0.001173</td>\n",
       "      <td>0.618576</td>\n",
       "    </tr>\n",
       "    <tr>\n",
       "      <th>gender</th>\n",
       "      <td>0.002726</td>\n",
       "      <td>0.076741</td>\n",
       "      <td>1.000000</td>\n",
       "      <td>-0.028859</td>\n",
       "      <td>0.016426</td>\n",
       "      <td>0.012938</td>\n",
       "      <td>-0.021245</td>\n",
       "      <td>0.028097</td>\n",
       "      <td>-0.006744</td>\n",
       "      <td>0.035482</td>\n",
       "    </tr>\n",
       "    <tr>\n",
       "      <th>city_pop</th>\n",
       "      <td>0.001481</td>\n",
       "      <td>0.012242</td>\n",
       "      <td>-0.028859</td>\n",
       "      <td>1.000000</td>\n",
       "      <td>0.010953</td>\n",
       "      <td>-0.015743</td>\n",
       "      <td>0.000794</td>\n",
       "      <td>-0.002605</td>\n",
       "      <td>-0.014090</td>\n",
       "      <td>-0.000629</td>\n",
       "    </tr>\n",
       "    <tr>\n",
       "      <th>trans_day</th>\n",
       "      <td>-0.004735</td>\n",
       "      <td>0.003861</td>\n",
       "      <td>0.016426</td>\n",
       "      <td>0.010953</td>\n",
       "      <td>1.000000</td>\n",
       "      <td>-0.013322</td>\n",
       "      <td>-0.035987</td>\n",
       "      <td>0.013806</td>\n",
       "      <td>-0.002275</td>\n",
       "      <td>-0.004383</td>\n",
       "    </tr>\n",
       "    <tr>\n",
       "      <th>trans_month</th>\n",
       "      <td>-0.012105</td>\n",
       "      <td>-0.059642</td>\n",
       "      <td>0.012938</td>\n",
       "      <td>-0.015743</td>\n",
       "      <td>-0.013322</td>\n",
       "      <td>1.000000</td>\n",
       "      <td>-0.009641</td>\n",
       "      <td>0.009678</td>\n",
       "      <td>0.004287</td>\n",
       "      <td>-0.114180</td>\n",
       "    </tr>\n",
       "    <tr>\n",
       "      <th>trans_year</th>\n",
       "      <td>-0.008799</td>\n",
       "      <td>-0.026230</td>\n",
       "      <td>-0.021245</td>\n",
       "      <td>0.000794</td>\n",
       "      <td>-0.035987</td>\n",
       "      <td>-0.009641</td>\n",
       "      <td>1.000000</td>\n",
       "      <td>0.002090</td>\n",
       "      <td>-0.016143</td>\n",
       "      <td>-0.041687</td>\n",
       "    </tr>\n",
       "    <tr>\n",
       "      <th>trans_hour</th>\n",
       "      <td>0.350901</td>\n",
       "      <td>0.253186</td>\n",
       "      <td>0.028097</td>\n",
       "      <td>-0.002605</td>\n",
       "      <td>0.013806</td>\n",
       "      <td>0.009678</td>\n",
       "      <td>0.002090</td>\n",
       "      <td>1.000000</td>\n",
       "      <td>-0.012618</td>\n",
       "      <td>0.073707</td>\n",
       "    </tr>\n",
       "    <tr>\n",
       "      <th>trans_minute</th>\n",
       "      <td>-0.002052</td>\n",
       "      <td>-0.001173</td>\n",
       "      <td>-0.006744</td>\n",
       "      <td>-0.014090</td>\n",
       "      <td>-0.002275</td>\n",
       "      <td>0.004287</td>\n",
       "      <td>-0.016143</td>\n",
       "      <td>-0.012618</td>\n",
       "      <td>1.000000</td>\n",
       "      <td>-0.002150</td>\n",
       "    </tr>\n",
       "    <tr>\n",
       "      <th>is_fraud</th>\n",
       "      <td>0.130918</td>\n",
       "      <td>0.618576</td>\n",
       "      <td>0.035482</td>\n",
       "      <td>-0.000629</td>\n",
       "      <td>-0.004383</td>\n",
       "      <td>-0.114180</td>\n",
       "      <td>-0.041687</td>\n",
       "      <td>0.073707</td>\n",
       "      <td>-0.002150</td>\n",
       "      <td>1.000000</td>\n",
       "    </tr>\n",
       "  </tbody>\n",
       "</table>\n",
       "</div>"
      ],
      "text/plain": [
       "              category       amt    gender  city_pop  trans_day  trans_month  \\\n",
       "category      1.000000  0.436017  0.002726  0.001481  -0.004735    -0.012105   \n",
       "amt           0.436017  1.000000  0.076741  0.012242   0.003861    -0.059642   \n",
       "gender        0.002726  0.076741  1.000000 -0.028859   0.016426     0.012938   \n",
       "city_pop      0.001481  0.012242 -0.028859  1.000000   0.010953    -0.015743   \n",
       "trans_day    -0.004735  0.003861  0.016426  0.010953   1.000000    -0.013322   \n",
       "trans_month  -0.012105 -0.059642  0.012938 -0.015743  -0.013322     1.000000   \n",
       "trans_year   -0.008799 -0.026230 -0.021245  0.000794  -0.035987    -0.009641   \n",
       "trans_hour    0.350901  0.253186  0.028097 -0.002605   0.013806     0.009678   \n",
       "trans_minute -0.002052 -0.001173 -0.006744 -0.014090  -0.002275     0.004287   \n",
       "is_fraud      0.130918  0.618576  0.035482 -0.000629  -0.004383    -0.114180   \n",
       "\n",
       "              trans_year  trans_hour  trans_minute  is_fraud  \n",
       "category       -0.008799    0.350901     -0.002052  0.130918  \n",
       "amt            -0.026230    0.253186     -0.001173  0.618576  \n",
       "gender         -0.021245    0.028097     -0.006744  0.035482  \n",
       "city_pop        0.000794   -0.002605     -0.014090 -0.000629  \n",
       "trans_day      -0.035987    0.013806     -0.002275 -0.004383  \n",
       "trans_month    -0.009641    0.009678      0.004287 -0.114180  \n",
       "trans_year      1.000000    0.002090     -0.016143 -0.041687  \n",
       "trans_hour      0.002090    1.000000     -0.012618  0.073707  \n",
       "trans_minute   -0.016143   -0.012618      1.000000 -0.002150  \n",
       "is_fraud       -0.041687    0.073707     -0.002150  1.000000  "
      ]
     },
     "execution_count": 50,
     "metadata": {},
     "output_type": "execute_result"
    }
   ],
   "source": [
    "corr_matrix = data.corr()\n",
    "corr_matrix"
   ]
  },
  {
   "cell_type": "code",
   "execution_count": 242,
   "id": "49402bda-6e63-457c-96c3-f83fa5984297",
   "metadata": {},
   "outputs": [
    {
     "data": {
      "image/png": "[encoded data removed]",
      "text/plain": [
       "<Figure size 1800x1600 with 2 Axes>"
      ]
     },
     "metadata": {},
     "output_type": "display_data"
    }
   ],
   "source": [
    "plt.figure(figsize = (18,16))\n",
    "sns.heatmap(corr_matrix, annot = True, cmap = 'coolwarm')\n",
    "plt.show()"
   ]
  },
  {
   "cell_type": "code",
   "execution_count": 74,
   "id": "2096c9c6-f63c-4c88-93fc-b76e8eb2a33d",
   "metadata": {},
   "outputs": [],
   "source": [
    "X = data.drop(columns = ['is_fraud'])\n",
    "y = data['is_fraud']"
   ]
  },
  {
   "cell_type": "code",
   "execution_count": 76,
   "id": "82b27179-0a65-45c5-b766-a157237628d3",
   "metadata": {},
   "outputs": [],
   "source": [
    "from imblearn.over_sampling import SMOTE\n",
    "smote = SMOTE(sampling_strategy = 'minority')\n",
    "X, y = smote.fit_resample(X, y)"
   ]
  },
  {
   "cell_type": "code",
   "execution_count": 78,
   "id": "e0891bda-b04b-4a5f-a929-03037db652a7",
   "metadata": {},
   "outputs": [
    {
     "data": {
      "text/plain": [
       "is_fraud\n",
       "1    9651\n",
       "0    9651\n",
       "Name: count, dtype: int64"
      ]
     },
     "execution_count": 78,
     "metadata": {},
     "output_type": "execute_result"
    }
   ],
   "source": [
    "y.value_counts()"
   ]
  },
  {
   "cell_type": "code",
   "execution_count": 80,
   "id": "e38e499c-0e3d-4ad7-a44e-349815ba2206",
   "metadata": {},
   "outputs": [
    {
     "data": {
      "text/plain": [
       "(19302, 9)"
      ]
     },
     "execution_count": 80,
     "metadata": {},
     "output_type": "execute_result"
    }
   ],
   "source": [
    "X.shape"
   ]
  },
  {
   "cell_type": "code",
   "execution_count": 84,
   "id": "fda4f96d-20e3-4587-9b93-78c37d89ca25",
   "metadata": {},
   "outputs": [
    {
     "name": "stdout",
     "output_type": "stream",
     "text": [
      "       category       amt    gender  city_pop  trans_day  trans_month  \\\n",
      "19297  1.610358  0.449800  1.052020 -0.291142   1.602078    -1.084993   \n",
      "19298  0.577044 -0.716308  1.052020 -0.289096   1.602078    -0.509712   \n",
      "19299 -0.456271 -0.691299 -0.950553 -0.281650  -1.346520     1.503773   \n",
      "19300 -0.197942 -0.605736 -0.950553 -0.286978  -0.325852     0.640851   \n",
      "19301  0.060386 -0.759022  1.052020 -0.285643   0.354594     0.928491   \n",
      "\n",
      "       trans_year  trans_hour  trans_minute  \n",
      "19297   -0.960673    0.305953      1.348961  \n",
      "19298    1.040937   -0.408249     -0.667925  \n",
      "19299   -0.960673   -0.051148      1.637088  \n",
      "19300    1.040937    1.020155      1.464212  \n",
      "19301   -0.960673    0.424986     -0.495049  \n",
      "19297    0\n",
      "19298    0\n",
      "19299    0\n",
      "19300    0\n",
      "19301    0\n",
      "Name: is_fraud, dtype: int64\n"
     ]
    }
   ],
   "source": [
    "std_scaler = StandardScaler()\n",
    "X = pd.DataFrame(std_scaler.fit_transform(X), columns=X.columns)\n",
    "\n",
    "print(X.tail())\n",
    "print(y.tail())"
   ]
  },
  {
   "cell_type": "code",
   "execution_count": 88,
   "id": "922752bf-ffce-4953-a6fe-1e32b5652601",
   "metadata": {},
   "outputs": [],
   "source": [
    "from sklearn.model_selection import train_test_split\n",
    "\n",
    "X_train, X_test, y_train, y_test = train_test_split(\n",
    "    X, y, test_size=0.2, random_state=86, stratify=y\n",
    ")"
   ]
  },
  {
   "cell_type": "code",
   "execution_count": 244,
   "id": "aebba105-dc94-4a37-81bc-f9cd162d722c",
   "metadata": {},
   "outputs": [],
   "source": [
    "from keras.callbacks import EarlyStopping, ModelCheckpoint, ReduceLROnPlateau\n",
    "\n",
    "early_stopping = EarlyStopping(\n",
    "    monitor=\"val_loss\", patience=30, restore_best_weights=True\n",
    ")\n",
    "check_point = ModelCheckpoint(\"training/model.{epoch:03d}.keras\", save_best_only=True)\n",
    "reduce_lr = ReduceLROnPlateau(monitor=\"val_loss\", factor=0.2, patience=5, min_lr=0.0001)\n",
    "\n",
    "lr_scheduler = ReduceLROnPlateau(\n",
    "    monitor='val_loss',\n",
    "    factor=0.5,\n",
    "    patience=10,\n",
    "    verbose=1,\n",
    "    mode='min',\n",
    "    min_lr=1e-6\n",
    ")\n"
   ]
  },
  {
   "cell_type": "markdown",
   "id": "4c3e60f0-0f40-4ff7-9abb-df38a8ee2d8a",
   "metadata": {},
   "source": [
    "Vanilla Model Implementation"
   ]
  },
  {
   "cell_type": "code",
   "execution_count": 247,
   "id": "58a0395e-cc99-48b3-898a-e50a4644c1ad",
   "metadata": {},
   "outputs": [
    {
     "name": "stderr",
     "output_type": "stream",
     "text": [
      "C:\\Users\\gnond\\anaconda3\\Lib\\site-packages\\keras\\src\\layers\\core\\dense.py:87: UserWarning: Do not pass an `input_shape`/`input_dim` argument to a layer. When using Sequential models, prefer using an `Input(shape)` object as the first layer in the model instead.\n",
      "  super().__init__(activity_regularizer=activity_regularizer, **kwargs)\n"
     ]
    },
    {
     "data": {
      "text/html": [
       "<pre style=\"white-space:pre;overflow-x:auto;line-height:normal;font-family:Menlo,'DejaVu Sans Mono',consolas,'Courier New',monospace\"><span style=\"font-weight: bold\">Model: \"sequential_9\"</span>\n",
       "</pre>\n"
      ],
      "text/plain": [
       "\u001b[1mModel: \"sequential_9\"\u001b[0m\n"
      ]
     },
     "metadata": {},
     "output_type": "display_data"
    },
    {
     "data": {
      "text/html": [
       "<pre style=\"white-space:pre;overflow-x:auto;line-height:normal;font-family:Menlo,'DejaVu Sans Mono',consolas,'Courier New',monospace\">┏━━━━━━━━━━━━━━━━━━━━━━━━━━━━━━━━━━━━━━┳━━━━━━━━━━━━━━━━━━━━━━━━━━━━━┳━━━━━━━━━━━━━━━━━┓\n",
       "┃<span style=\"font-weight: bold\"> Layer (type)                         </span>┃<span style=\"font-weight: bold\"> Output Shape                </span>┃<span style=\"font-weight: bold\">         Param # </span>┃\n",
       "┡━━━━━━━━━━━━━━━━━━━━━━━━━━━━━━━━━━━━━━╇━━━━━━━━━━━━━━━━━━━━━━━━━━━━━╇━━━━━━━━━━━━━━━━━┩\n",
       "│ dense_20 (<span style=\"color: #0087ff; text-decoration-color: #0087ff\">Dense</span>)                     │ (<span style=\"color: #00d7ff; text-decoration-color: #00d7ff\">None</span>, <span style=\"color: #00af00; text-decoration-color: #00af00\">64</span>)                  │             <span style=\"color: #00af00; text-decoration-color: #00af00\">640</span> │\n",
       "├──────────────────────────────────────┼─────────────────────────────┼─────────────────┤\n",
       "│ dense_21 (<span style=\"color: #0087ff; text-decoration-color: #0087ff\">Dense</span>)                     │ (<span style=\"color: #00d7ff; text-decoration-color: #00d7ff\">None</span>, <span style=\"color: #00af00; text-decoration-color: #00af00\">32</span>)                  │           <span style=\"color: #00af00; text-decoration-color: #00af00\">2,080</span> │\n",
       "├──────────────────────────────────────┼─────────────────────────────┼─────────────────┤\n",
       "│ dense_22 (<span style=\"color: #0087ff; text-decoration-color: #0087ff\">Dense</span>)                     │ (<span style=\"color: #00d7ff; text-decoration-color: #00d7ff\">None</span>, <span style=\"color: #00af00; text-decoration-color: #00af00\">1</span>)                   │              <span style=\"color: #00af00; text-decoration-color: #00af00\">33</span> │\n",
       "└──────────────────────────────────────┴─────────────────────────────┴─────────────────┘\n",
       "</pre>\n"
      ],
      "text/plain": [
       "┏━━━━━━━━━━━━━━━━━━━━━━━━━━━━━━━━━━━━━━┳━━━━━━━━━━━━━━━━━━━━━━━━━━━━━┳━━━━━━━━━━━━━━━━━┓\n",
       "┃\u001b[1m \u001b[0m\u001b[1mLayer (type)                        \u001b[0m\u001b[1m \u001b[0m┃\u001b[1m \u001b[0m\u001b[1mOutput Shape               \u001b[0m\u001b[1m \u001b[0m┃\u001b[1m \u001b[0m\u001b[1m        Param #\u001b[0m\u001b[1m \u001b[0m┃\n",
       "┡━━━━━━━━━━━━━━━━━━━━━━━━━━━━━━━━━━━━━━╇━━━━━━━━━━━━━━━━━━━━━━━━━━━━━╇━━━━━━━━━━━━━━━━━┩\n",
       "│ dense_20 (\u001b[38;5;33mDense\u001b[0m)                     │ (\u001b[38;5;45mNone\u001b[0m, \u001b[38;5;34m64\u001b[0m)                  │             \u001b[38;5;34m640\u001b[0m │\n",
       "├──────────────────────────────────────┼─────────────────────────────┼─────────────────┤\n",
       "│ dense_21 (\u001b[38;5;33mDense\u001b[0m)                     │ (\u001b[38;5;45mNone\u001b[0m, \u001b[38;5;34m32\u001b[0m)                  │           \u001b[38;5;34m2,080\u001b[0m │\n",
       "├──────────────────────────────────────┼─────────────────────────────┼─────────────────┤\n",
       "│ dense_22 (\u001b[38;5;33mDense\u001b[0m)                     │ (\u001b[38;5;45mNone\u001b[0m, \u001b[38;5;34m1\u001b[0m)                   │              \u001b[38;5;34m33\u001b[0m │\n",
       "└──────────────────────────────────────┴─────────────────────────────┴─────────────────┘\n"
      ]
     },
     "metadata": {},
     "output_type": "display_data"
    },
    {
     "data": {
      "text/html": [
       "<pre style=\"white-space:pre;overflow-x:auto;line-height:normal;font-family:Menlo,'DejaVu Sans Mono',consolas,'Courier New',monospace\"><span style=\"font-weight: bold\"> Total params: </span><span style=\"color: #00af00; text-decoration-color: #00af00\">2,753</span> (10.75 KB)\n",
       "</pre>\n"
      ],
      "text/plain": [
       "\u001b[1m Total params: \u001b[0m\u001b[38;5;34m2,753\u001b[0m (10.75 KB)\n"
      ]
     },
     "metadata": {},
     "output_type": "display_data"
    },
    {
     "data": {
      "text/html": [
       "<pre style=\"white-space:pre;overflow-x:auto;line-height:normal;font-family:Menlo,'DejaVu Sans Mono',consolas,'Courier New',monospace\"><span style=\"font-weight: bold\"> Trainable params: </span><span style=\"color: #00af00; text-decoration-color: #00af00\">2,753</span> (10.75 KB)\n",
       "</pre>\n"
      ],
      "text/plain": [
       "\u001b[1m Trainable params: \u001b[0m\u001b[38;5;34m2,753\u001b[0m (10.75 KB)\n"
      ]
     },
     "metadata": {},
     "output_type": "display_data"
    },
    {
     "data": {
      "text/html": [
       "<pre style=\"white-space:pre;overflow-x:auto;line-height:normal;font-family:Menlo,'DejaVu Sans Mono',consolas,'Courier New',monospace\"><span style=\"font-weight: bold\"> Non-trainable params: </span><span style=\"color: #00af00; text-decoration-color: #00af00\">0</span> (0.00 B)\n",
       "</pre>\n"
      ],
      "text/plain": [
       "\u001b[1m Non-trainable params: \u001b[0m\u001b[38;5;34m0\u001b[0m (0.00 B)\n"
      ]
     },
     "metadata": {},
     "output_type": "display_data"
    }
   ],
   "source": [
    "from keras.models import Sequential\n",
    "from keras.layers import Dense\n",
    "\n",
    "\n",
    "vanilla = Sequential()\n",
    "vanilla.add(Dense(64, activation=\"relu\", input_shape=(X_train.shape[1],)))\n",
    "vanilla.add(Dense(32, activation=\"relu\"))\n",
    "vanilla.add(Dense(1, activation=\"sigmoid\"))\n",
    "vanilla.summary()"
   ]
  },
  {
   "cell_type": "code",
   "execution_count": 249,
   "id": "14725b2d-8412-4126-bc77-a10bb7ea125c",
   "metadata": {
    "scrolled": true
   },
   "outputs": [
    {
     "name": "stdout",
     "output_type": "stream",
     "text": [
      "Epoch 1/100\n",
      "\u001b[1m386/386\u001b[0m \u001b[32m━━━━━━━━━━━━━━━━━━━━\u001b[0m\u001b[37m\u001b[0m \u001b[1m2s\u001b[0m 2ms/step - Precision: 0.7584 - Recall: 0.7906 - accuracy: 0.7512 - loss: 0.5081 - val_Precision: 0.9223 - val_Recall: 0.7528 - val_accuracy: 0.8446 - val_loss: 0.3360\n",
      "Epoch 2/100\n",
      "\u001b[1m386/386\u001b[0m \u001b[32m━━━━━━━━━━━━━━━━━━━━\u001b[0m\u001b[37m\u001b[0m \u001b[1m0s\u001b[0m 837us/step - Precision: 0.9001 - Recall: 0.8106 - accuracy: 0.8596 - loss: 0.3039 - val_Precision: 0.9136 - val_Recall: 0.7806 - val_accuracy: 0.8534 - val_loss: 0.3082\n",
      "Epoch 3/100\n",
      "\u001b[1m386/386\u001b[0m \u001b[32m━━━━━━━━━━━━━━━━━━━━\u001b[0m\u001b[37m\u001b[0m \u001b[1m0s\u001b[0m 832us/step - Precision: 0.8895 - Recall: 0.8227 - accuracy: 0.8596 - loss: 0.3078 - val_Precision: 0.9045 - val_Recall: 0.8032 - val_accuracy: 0.8592 - val_loss: 0.3064\n",
      "Epoch 4/100\n",
      "\u001b[1m386/386\u001b[0m \u001b[32m━━━━━━━━━━━━━━━━━━━━\u001b[0m\u001b[37m\u001b[0m \u001b[1m0s\u001b[0m 1ms/step - Precision: 0.8898 - Recall: 0.8274 - accuracy: 0.8602 - loss: 0.3044 - val_Precision: 0.9276 - val_Recall: 0.7793 - val_accuracy: 0.8592 - val_loss: 0.3065\n",
      "Epoch 5/100\n",
      "\u001b[1m386/386\u001b[0m \u001b[32m━━━━━━━━━━━━━━━━━━━━\u001b[0m\u001b[37m\u001b[0m \u001b[1m0s\u001b[0m 807us/step - Precision: 0.9010 - Recall: 0.8331 - accuracy: 0.8729 - loss: 0.2954 - val_Precision: 0.8771 - val_Recall: 0.8498 - val_accuracy: 0.8653 - val_loss: 0.2976\n",
      "Epoch 6/100\n",
      "\u001b[1m386/386\u001b[0m \u001b[32m━━━━━━━━━━━━━━━━━━━━\u001b[0m\u001b[37m\u001b[0m \u001b[1m0s\u001b[0m 809us/step - Precision: 0.8932 - Recall: 0.8465 - accuracy: 0.8715 - loss: 0.2852 - val_Precision: 0.9366 - val_Recall: 0.7644 - val_accuracy: 0.8563 - val_loss: 0.2989\n",
      "Epoch 7/100\n",
      "\u001b[1m386/386\u001b[0m \u001b[32m━━━━━━━━━━━━━━━━━━━━\u001b[0m\u001b[37m\u001b[0m \u001b[1m0s\u001b[0m 873us/step - Precision: 0.9000 - Recall: 0.8379 - accuracy: 0.8738 - loss: 0.2860 - val_Precision: 0.8768 - val_Recall: 0.8751 - val_accuracy: 0.8760 - val_loss: 0.2853\n",
      "Epoch 8/100\n",
      "\u001b[1m386/386\u001b[0m \u001b[32m━━━━━━━━━━━━━━━━━━━━\u001b[0m\u001b[37m\u001b[0m \u001b[1m0s\u001b[0m 851us/step - Precision: 0.8921 - Recall: 0.8549 - accuracy: 0.8772 - loss: 0.2782 - val_Precision: 0.8958 - val_Recall: 0.8460 - val_accuracy: 0.8737 - val_loss: 0.2813\n",
      "Epoch 9/100\n",
      "\u001b[1m386/386\u001b[0m \u001b[32m━━━━━━━━━━━━━━━━━━━━\u001b[0m\u001b[37m\u001b[0m \u001b[1m0s\u001b[0m 946us/step - Precision: 0.9070 - Recall: 0.8609 - accuracy: 0.8870 - loss: 0.2676 - val_Precision: 0.9050 - val_Recall: 0.8447 - val_accuracy: 0.8780 - val_loss: 0.2730\n",
      "Epoch 10/100\n",
      "\u001b[1m386/386\u001b[0m \u001b[32m━━━━━━━━━━━━━━━━━━━━\u001b[0m\u001b[37m\u001b[0m \u001b[1m0s\u001b[0m 849us/step - Precision: 0.9113 - Recall: 0.8601 - accuracy: 0.8883 - loss: 0.2604 - val_Precision: 0.8976 - val_Recall: 0.8738 - val_accuracy: 0.8870 - val_loss: 0.2638\n",
      "Epoch 11/100\n",
      "\u001b[1m386/386\u001b[0m \u001b[32m━━━━━━━━━━━━━━━━━━━━\u001b[0m\u001b[37m\u001b[0m \u001b[1m0s\u001b[0m 965us/step - Precision: 0.9156 - Recall: 0.8835 - accuracy: 0.9008 - loss: 0.2433 - val_Precision: 0.9152 - val_Recall: 0.8518 - val_accuracy: 0.8864 - val_loss: 0.2612\n",
      "Epoch 12/100\n",
      "\u001b[1m386/386\u001b[0m \u001b[32m━━━━━━━━━━━━━━━━━━━━\u001b[0m\u001b[37m\u001b[0m \u001b[1m0s\u001b[0m 881us/step - Precision: 0.9208 - Recall: 0.8794 - accuracy: 0.9027 - loss: 0.2428 - val_Precision: 0.9129 - val_Recall: 0.8751 - val_accuracy: 0.8958 - val_loss: 0.2529\n",
      "Epoch 13/100\n",
      "\u001b[1m386/386\u001b[0m \u001b[32m━━━━━━━━━━━━━━━━━━━━\u001b[0m\u001b[37m\u001b[0m \u001b[1m0s\u001b[0m 844us/step - Precision: 0.9237 - Recall: 0.8887 - accuracy: 0.9077 - loss: 0.2307 - val_Precision: 0.9524 - val_Recall: 0.8285 - val_accuracy: 0.8935 - val_loss: 0.2480\n",
      "Epoch 14/100\n",
      "\u001b[1m386/386\u001b[0m \u001b[32m━━━━━━━━━━━━━━━━━━━━\u001b[0m\u001b[37m\u001b[0m \u001b[1m0s\u001b[0m 1ms/step - Precision: 0.9267 - Recall: 0.8923 - accuracy: 0.9101 - loss: 0.2317 - val_Precision: 0.9276 - val_Recall: 0.8790 - val_accuracy: 0.9051 - val_loss: 0.2374\n",
      "Epoch 15/100\n",
      "\u001b[1m386/386\u001b[0m \u001b[32m━━━━━━━━━━━━━━━━━━━━\u001b[0m\u001b[37m\u001b[0m \u001b[1m0s\u001b[0m 988us/step - Precision: 0.9345 - Recall: 0.8960 - accuracy: 0.9175 - loss: 0.2125 - val_Precision: 0.9279 - val_Recall: 0.9159 - val_accuracy: 0.9223 - val_loss: 0.2233\n",
      "Epoch 16/100\n",
      "\u001b[1m386/386\u001b[0m \u001b[32m━━━━━━━━━━━━━━━━━━━━\u001b[0m\u001b[37m\u001b[0m \u001b[1m0s\u001b[0m 926us/step - Precision: 0.9299 - Recall: 0.9087 - accuracy: 0.9197 - loss: 0.2119 - val_Precision: 0.9491 - val_Recall: 0.8816 - val_accuracy: 0.9171 - val_loss: 0.2178\n",
      "Epoch 17/100\n",
      "\u001b[1m386/386\u001b[0m \u001b[32m━━━━━━━━━━━━━━━━━━━━\u001b[0m\u001b[37m\u001b[0m \u001b[1m0s\u001b[0m 945us/step - Precision: 0.9404 - Recall: 0.8989 - accuracy: 0.9218 - loss: 0.1961 - val_Precision: 0.9496 - val_Recall: 0.8900 - val_accuracy: 0.9213 - val_loss: 0.2114\n",
      "Epoch 18/100\n",
      "\u001b[1m386/386\u001b[0m \u001b[32m━━━━━━━━━━━━━━━━━━━━\u001b[0m\u001b[37m\u001b[0m \u001b[1m0s\u001b[0m 872us/step - Precision: 0.9448 - Recall: 0.9097 - accuracy: 0.9281 - loss: 0.1914 - val_Precision: 0.9441 - val_Recall: 0.9081 - val_accuracy: 0.9272 - val_loss: 0.2024\n",
      "Epoch 19/100\n",
      "\u001b[1m386/386\u001b[0m \u001b[32m━━━━━━━━━━━━━━━━━━━━\u001b[0m\u001b[37m\u001b[0m \u001b[1m0s\u001b[0m 941us/step - Precision: 0.9399 - Recall: 0.9106 - accuracy: 0.9253 - loss: 0.1936 - val_Precision: 0.9465 - val_Recall: 0.8932 - val_accuracy: 0.9213 - val_loss: 0.2030\n",
      "Epoch 20/100\n",
      "\u001b[1m386/386\u001b[0m \u001b[32m━━━━━━━━━━━━━━━━━━━━\u001b[0m\u001b[37m\u001b[0m \u001b[1m0s\u001b[0m 827us/step - Precision: 0.9430 - Recall: 0.9103 - accuracy: 0.9274 - loss: 0.1924 - val_Precision: 0.9480 - val_Recall: 0.9081 - val_accuracy: 0.9291 - val_loss: 0.1933\n",
      "Epoch 21/100\n",
      "\u001b[1m386/386\u001b[0m \u001b[32m━━━━━━━━━━━━━━━━━━━━\u001b[0m\u001b[37m\u001b[0m \u001b[1m0s\u001b[0m 985us/step - Precision: 0.9457 - Recall: 0.9205 - accuracy: 0.9343 - loss: 0.1810 - val_Precision: 0.9180 - val_Recall: 0.9424 - val_accuracy: 0.9291 - val_loss: 0.1948\n",
      "Epoch 22/100\n",
      "\u001b[1m386/386\u001b[0m \u001b[32m━━━━━━━━━━━━━━━━━━━━\u001b[0m\u001b[37m\u001b[0m \u001b[1m0s\u001b[0m 856us/step - Precision: 0.9416 - Recall: 0.9190 - accuracy: 0.9312 - loss: 0.1752 - val_Precision: 0.9431 - val_Recall: 0.9223 - val_accuracy: 0.9333 - val_loss: 0.1830\n",
      "Epoch 23/100\n",
      "\u001b[1m386/386\u001b[0m \u001b[32m━━━━━━━━━━━━━━━━━━━━\u001b[0m\u001b[37m\u001b[0m \u001b[1m0s\u001b[0m 839us/step - Precision: 0.9474 - Recall: 0.9185 - accuracy: 0.9342 - loss: 0.1696 - val_Precision: 0.9542 - val_Recall: 0.9165 - val_accuracy: 0.9362 - val_loss: 0.1846\n",
      "Epoch 24/100\n",
      "\u001b[1m386/386\u001b[0m \u001b[32m━━━━━━━━━━━━━━━━━━━━\u001b[0m\u001b[37m\u001b[0m \u001b[1m0s\u001b[0m 929us/step - Precision: 0.9493 - Recall: 0.9289 - accuracy: 0.9394 - loss: 0.1639 - val_Precision: 0.9575 - val_Recall: 0.9036 - val_accuracy: 0.9317 - val_loss: 0.1825\n",
      "Epoch 25/100\n",
      "\u001b[1m386/386\u001b[0m \u001b[32m━━━━━━━━━━━━━━━━━━━━\u001b[0m\u001b[37m\u001b[0m \u001b[1m0s\u001b[0m 998us/step - Precision: 0.9482 - Recall: 0.9274 - accuracy: 0.9377 - loss: 0.1669 - val_Precision: 0.9306 - val_Recall: 0.9282 - val_accuracy: 0.9294 - val_loss: 0.1887\n",
      "Epoch 26/100\n",
      "\u001b[1m386/386\u001b[0m \u001b[32m━━━━━━━━━━━━━━━━━━━━\u001b[0m\u001b[37m\u001b[0m \u001b[1m0s\u001b[0m 1ms/step - Precision: 0.9493 - Recall: 0.9239 - accuracy: 0.9366 - loss: 0.1654 - val_Precision: 0.9607 - val_Recall: 0.9016 - val_accuracy: 0.9323 - val_loss: 0.1788\n",
      "Epoch 27/100\n",
      "\u001b[1m386/386\u001b[0m \u001b[32m━━━━━━━━━━━━━━━━━━━━\u001b[0m\u001b[37m\u001b[0m \u001b[1m0s\u001b[0m 897us/step - Precision: 0.9501 - Recall: 0.9204 - accuracy: 0.9369 - loss: 0.1640 - val_Precision: 0.9476 - val_Recall: 0.9243 - val_accuracy: 0.9365 - val_loss: 0.1780\n",
      "Epoch 28/100\n",
      "\u001b[1m386/386\u001b[0m \u001b[32m━━━━━━━━━━━━━━━━━━━━\u001b[0m\u001b[37m\u001b[0m \u001b[1m0s\u001b[0m 898us/step - Precision: 0.9466 - Recall: 0.9263 - accuracy: 0.9374 - loss: 0.1572 - val_Precision: 0.9447 - val_Recall: 0.9288 - val_accuracy: 0.9372 - val_loss: 0.1726\n",
      "Epoch 29/100\n",
      "\u001b[1m386/386\u001b[0m \u001b[32m━━━━━━━━━━━━━━━━━━━━\u001b[0m\u001b[37m\u001b[0m \u001b[1m0s\u001b[0m 969us/step - Precision: 0.9519 - Recall: 0.9274 - accuracy: 0.9396 - loss: 0.1547 - val_Precision: 0.9549 - val_Recall: 0.9172 - val_accuracy: 0.9369 - val_loss: 0.1732\n",
      "Epoch 30/100\n",
      "\u001b[1m386/386\u001b[0m \u001b[32m━━━━━━━━━━━━━━━━━━━━\u001b[0m\u001b[37m\u001b[0m \u001b[1m0s\u001b[0m 813us/step - Precision: 0.9510 - Recall: 0.9341 - accuracy: 0.9431 - loss: 0.1507 - val_Precision: 0.9302 - val_Recall: 0.9320 - val_accuracy: 0.9310 - val_loss: 0.1788\n",
      "Epoch 31/100\n",
      "\u001b[1m386/386\u001b[0m \u001b[32m━━━━━━━━━━━━━━━━━━━━\u001b[0m\u001b[37m\u001b[0m \u001b[1m0s\u001b[0m 932us/step - Precision: 0.9563 - Recall: 0.9349 - accuracy: 0.9457 - loss: 0.1478 - val_Precision: 0.9531 - val_Recall: 0.9217 - val_accuracy: 0.9382 - val_loss: 0.1668\n",
      "Epoch 32/100\n",
      "\u001b[1m386/386\u001b[0m \u001b[32m━━━━━━━━━━━━━━━━━━━━\u001b[0m\u001b[37m\u001b[0m \u001b[1m0s\u001b[0m 891us/step - Precision: 0.9536 - Recall: 0.9307 - accuracy: 0.9424 - loss: 0.1499 - val_Precision: 0.9498 - val_Recall: 0.9191 - val_accuracy: 0.9353 - val_loss: 0.1766\n",
      "Epoch 33/100\n",
      "\u001b[1m386/386\u001b[0m \u001b[32m━━━━━━━━━━━━━━━━━━━━\u001b[0m\u001b[37m\u001b[0m \u001b[1m0s\u001b[0m 862us/step - Precision: 0.9521 - Recall: 0.9335 - accuracy: 0.9437 - loss: 0.1448 - val_Precision: 0.9395 - val_Recall: 0.9340 - val_accuracy: 0.9369 - val_loss: 0.1684\n",
      "Epoch 34/100\n",
      "\u001b[1m386/386\u001b[0m \u001b[32m━━━━━━━━━━━━━━━━━━━━\u001b[0m\u001b[37m\u001b[0m \u001b[1m0s\u001b[0m 857us/step - Precision: 0.9547 - Recall: 0.9399 - accuracy: 0.9470 - loss: 0.1437 - val_Precision: 0.9574 - val_Recall: 0.9159 - val_accuracy: 0.9375 - val_loss: 0.1666\n",
      "Epoch 35/100\n",
      "\u001b[1m386/386\u001b[0m \u001b[32m━━━━━━━━━━━━━━━━━━━━\u001b[0m\u001b[37m\u001b[0m \u001b[1m0s\u001b[0m 905us/step - Precision: 0.9529 - Recall: 0.9302 - accuracy: 0.9427 - loss: 0.1430 - val_Precision: 0.9555 - val_Recall: 0.9172 - val_accuracy: 0.9372 - val_loss: 0.1686\n",
      "Epoch 36/100\n",
      "\u001b[1m386/386\u001b[0m \u001b[32m━━━━━━━━━━━━━━━━━━━━\u001b[0m\u001b[37m\u001b[0m \u001b[1m0s\u001b[0m 948us/step - Precision: 0.9547 - Recall: 0.9337 - accuracy: 0.9450 - loss: 0.1439 - val_Precision: 0.9603 - val_Recall: 0.9081 - val_accuracy: 0.9353 - val_loss: 0.1695\n",
      "Epoch 37/100\n",
      "\u001b[1m386/386\u001b[0m \u001b[32m━━━━━━━━━━━━━━━━━━━━\u001b[0m\u001b[37m\u001b[0m \u001b[1m0s\u001b[0m 807us/step - Precision: 0.9553 - Recall: 0.9399 - accuracy: 0.9489 - loss: 0.1331 - val_Precision: 0.9529 - val_Recall: 0.9165 - val_accuracy: 0.9356 - val_loss: 0.1683\n",
      "Epoch 38/100\n",
      "\u001b[1m386/386\u001b[0m \u001b[32m━━━━━━━━━━━━━━━━━━━━\u001b[0m\u001b[37m\u001b[0m \u001b[1m0s\u001b[0m 836us/step - Precision: 0.9570 - Recall: 0.9314 - accuracy: 0.9449 - loss: 0.1435 - val_Precision: 0.9558 - val_Recall: 0.9087 - val_accuracy: 0.9333 - val_loss: 0.1663\n",
      "Epoch 39/100\n",
      "\u001b[1m386/386\u001b[0m \u001b[32m━━━━━━━━━━━━━━━━━━━━\u001b[0m\u001b[37m\u001b[0m \u001b[1m0s\u001b[0m 767us/step - Precision: 0.9529 - Recall: 0.9340 - accuracy: 0.9438 - loss: 0.1437 - val_Precision: 0.9506 - val_Recall: 0.9217 - val_accuracy: 0.9369 - val_loss: 0.1629\n",
      "Epoch 40/100\n",
      "\u001b[1m386/386\u001b[0m \u001b[32m━━━━━━━━━━━━━━━━━━━━\u001b[0m\u001b[37m\u001b[0m \u001b[1m0s\u001b[0m 911us/step - Precision: 0.9599 - Recall: 0.9389 - accuracy: 0.9498 - loss: 0.1331 - val_Precision: 0.9532 - val_Recall: 0.9223 - val_accuracy: 0.9385 - val_loss: 0.1650\n",
      "Epoch 41/100\n",
      "\u001b[1m386/386\u001b[0m \u001b[32m━━━━━━━━━━━━━━━━━━━━\u001b[0m\u001b[37m\u001b[0m \u001b[1m0s\u001b[0m 838us/step - Precision: 0.9636 - Recall: 0.9410 - accuracy: 0.9525 - loss: 0.1328 - val_Precision: 0.9691 - val_Recall: 0.8932 - val_accuracy: 0.9323 - val_loss: 0.1773\n",
      "Epoch 42/100\n",
      "\u001b[1m386/386\u001b[0m \u001b[32m━━━━━━━━━━━━━━━━━━━━\u001b[0m\u001b[37m\u001b[0m \u001b[1m0s\u001b[0m 801us/step - Precision: 0.9605 - Recall: 0.9387 - accuracy: 0.9503 - loss: 0.1353 - val_Precision: 0.9603 - val_Recall: 0.9081 - val_accuracy: 0.9353 - val_loss: 0.1680\n",
      "Epoch 43/100\n",
      "\u001b[1m386/386\u001b[0m \u001b[32m━━━━━━━━━━━━━━━━━━━━\u001b[0m\u001b[37m\u001b[0m \u001b[1m0s\u001b[0m 781us/step - Precision: 0.9570 - Recall: 0.9390 - accuracy: 0.9488 - loss: 0.1369 - val_Precision: 0.9570 - val_Recall: 0.9210 - val_accuracy: 0.9398 - val_loss: 0.1600\n",
      "Epoch 44/100\n",
      "\u001b[1m386/386\u001b[0m \u001b[32m━━━━━━━━━━━━━━━━━━━━\u001b[0m\u001b[37m\u001b[0m \u001b[1m0s\u001b[0m 1ms/step - Precision: 0.9597 - Recall: 0.9387 - accuracy: 0.9491 - loss: 0.1311 - val_Precision: 0.9432 - val_Recall: 0.9353 - val_accuracy: 0.9395 - val_loss: 0.1600\n",
      "Epoch 45/100\n",
      "\u001b[1m386/386\u001b[0m \u001b[32m━━━━━━━━━━━━━━━━━━━━\u001b[0m\u001b[37m\u001b[0m \u001b[1m0s\u001b[0m 1ms/step - Precision: 0.9615 - Recall: 0.9436 - accuracy: 0.9528 - loss: 0.1301 - val_Precision: 0.9355 - val_Recall: 0.9301 - val_accuracy: 0.9330 - val_loss: 0.1715\n",
      "Epoch 46/100\n",
      "\u001b[1m386/386\u001b[0m \u001b[32m━━━━━━━━━━━━━━━━━━━━\u001b[0m\u001b[37m\u001b[0m \u001b[1m0s\u001b[0m 993us/step - Precision: 0.9570 - Recall: 0.9413 - accuracy: 0.9489 - loss: 0.1358 - val_Precision: 0.9583 - val_Recall: 0.9074 - val_accuracy: 0.9340 - val_loss: 0.1646\n",
      "Epoch 47/100\n",
      "\u001b[1m386/386\u001b[0m \u001b[32m━━━━━━━━━━━━━━━━━━━━\u001b[0m\u001b[37m\u001b[0m \u001b[1m0s\u001b[0m 1ms/step - Precision: 0.9575 - Recall: 0.9400 - accuracy: 0.9491 - loss: 0.1327 - val_Precision: 0.9417 - val_Recall: 0.9301 - val_accuracy: 0.9362 - val_loss: 0.1620\n",
      "Epoch 48/100\n",
      "\u001b[1m386/386\u001b[0m \u001b[32m━━━━━━━━━━━━━━━━━━━━\u001b[0m\u001b[37m\u001b[0m \u001b[1m0s\u001b[0m 992us/step - Precision: 0.9631 - Recall: 0.9475 - accuracy: 0.9556 - loss: 0.1257 - val_Precision: 0.9651 - val_Recall: 0.8958 - val_accuracy: 0.9317 - val_loss: 0.1730\n",
      "Epoch 49/100\n",
      "\u001b[1m386/386\u001b[0m \u001b[32m━━━━━━━━━━━━━━━━━━━━\u001b[0m\u001b[37m\u001b[0m \u001b[1m0s\u001b[0m 857us/step - Precision: 0.9599 - Recall: 0.9458 - accuracy: 0.9529 - loss: 0.1227 - val_Precision: 0.9329 - val_Recall: 0.9450 - val_accuracy: 0.9385 - val_loss: 0.1636\n",
      "Epoch 50/100\n",
      "\u001b[1m386/386\u001b[0m \u001b[32m━━━━━━━━━━━━━━━━━━━━\u001b[0m\u001b[37m\u001b[0m \u001b[1m0s\u001b[0m 1ms/step - Precision: 0.9592 - Recall: 0.9450 - accuracy: 0.9521 - loss: 0.1301 - val_Precision: 0.9590 - val_Recall: 0.9236 - val_accuracy: 0.9421 - val_loss: 0.1607\n",
      "Epoch 51/100\n",
      "\u001b[1m386/386\u001b[0m \u001b[32m━━━━━━━━━━━━━━━━━━━━\u001b[0m\u001b[37m\u001b[0m \u001b[1m0s\u001b[0m 820us/step - Precision: 0.9608 - Recall: 0.9441 - accuracy: 0.9519 - loss: 0.1310 - val_Precision: 0.9352 - val_Recall: 0.9430 - val_accuracy: 0.9388 - val_loss: 0.1610\n",
      "Epoch 52/100\n",
      "\u001b[1m386/386\u001b[0m \u001b[32m━━━━━━━━━━━━━━━━━━━━\u001b[0m\u001b[37m\u001b[0m \u001b[1m0s\u001b[0m 925us/step - Precision: 0.9610 - Recall: 0.9428 - accuracy: 0.9523 - loss: 0.1253 - val_Precision: 0.9478 - val_Recall: 0.9165 - val_accuracy: 0.9330 - val_loss: 0.1615\n",
      "Epoch 53/100\n",
      "\u001b[1m386/386\u001b[0m \u001b[32m━━━━━━━━━━━━━━━━━━━━\u001b[0m\u001b[37m\u001b[0m \u001b[1m0s\u001b[0m 954us/step - Precision: 0.9576 - Recall: 0.9444 - accuracy: 0.9508 - loss: 0.1264 - val_Precision: 0.9633 - val_Recall: 0.8997 - val_accuracy: 0.9327 - val_loss: 0.1745\n",
      "Epoch 54/100\n",
      "\u001b[1m386/386\u001b[0m \u001b[32m━━━━━━━━━━━━━━━━━━━━\u001b[0m\u001b[37m\u001b[0m \u001b[1m0s\u001b[0m 969us/step - Precision: 0.9576 - Recall: 0.9461 - accuracy: 0.9522 - loss: 0.1252 - val_Precision: 0.9620 - val_Recall: 0.9165 - val_accuracy: 0.9401 - val_loss: 0.1599\n",
      "Epoch 55/100\n",
      "\u001b[1m386/386\u001b[0m \u001b[32m━━━━━━━━━━━━━━━━━━━━\u001b[0m\u001b[37m\u001b[0m \u001b[1m0s\u001b[0m 824us/step - Precision: 0.9614 - Recall: 0.9442 - accuracy: 0.9528 - loss: 0.1279 - val_Precision: 0.9467 - val_Recall: 0.9320 - val_accuracy: 0.9398 - val_loss: 0.1612\n",
      "Epoch 56/100\n",
      "\u001b[1m386/386\u001b[0m \u001b[32m━━━━━━━━━━━━━━━━━━━━\u001b[0m\u001b[37m\u001b[0m \u001b[1m0s\u001b[0m 945us/step - Precision: 0.9626 - Recall: 0.9461 - accuracy: 0.9548 - loss: 0.1227 - val_Precision: 0.9295 - val_Recall: 0.9469 - val_accuracy: 0.9375 - val_loss: 0.1573\n",
      "Epoch 57/100\n",
      "\u001b[1m386/386\u001b[0m \u001b[32m━━━━━━━━━━━━━━━━━━━━\u001b[0m\u001b[37m\u001b[0m \u001b[1m0s\u001b[0m 805us/step - Precision: 0.9612 - Recall: 0.9475 - accuracy: 0.9546 - loss: 0.1206 - val_Precision: 0.9624 - val_Recall: 0.8951 - val_accuracy: 0.9301 - val_loss: 0.1746\n",
      "Epoch 58/100\n",
      "\u001b[1m386/386\u001b[0m \u001b[32m━━━━━━━━━━━━━━━━━━━━\u001b[0m\u001b[37m\u001b[0m \u001b[1m0s\u001b[0m 860us/step - Precision: 0.9618 - Recall: 0.9441 - accuracy: 0.9532 - loss: 0.1254 - val_Precision: 0.9386 - val_Recall: 0.9398 - val_accuracy: 0.9391 - val_loss: 0.1582\n",
      "Epoch 59/100\n",
      "\u001b[1m386/386\u001b[0m \u001b[32m━━━━━━━━━━━━━━━━━━━━\u001b[0m\u001b[37m\u001b[0m \u001b[1m0s\u001b[0m 950us/step - Precision: 0.9606 - Recall: 0.9478 - accuracy: 0.9546 - loss: 0.1207 - val_Precision: 0.9384 - val_Recall: 0.9372 - val_accuracy: 0.9378 - val_loss: 0.1609\n",
      "Epoch 60/100\n",
      "\u001b[1m386/386\u001b[0m \u001b[32m━━━━━━━━━━━━━━━━━━━━\u001b[0m\u001b[37m\u001b[0m \u001b[1m0s\u001b[0m 820us/step - Precision: 0.9627 - Recall: 0.9524 - accuracy: 0.9574 - loss: 0.1211 - val_Precision: 0.9715 - val_Recall: 0.8835 - val_accuracy: 0.9288 - val_loss: 0.1741\n",
      "Epoch 61/100\n",
      "\u001b[1m386/386\u001b[0m \u001b[32m━━━━━━━━━━━━━━━━━━━━\u001b[0m\u001b[37m\u001b[0m \u001b[1m0s\u001b[0m 912us/step - Precision: 0.9599 - Recall: 0.9360 - accuracy: 0.9494 - loss: 0.1273 - val_Precision: 0.9680 - val_Recall: 0.8997 - val_accuracy: 0.9349 - val_loss: 0.1624\n",
      "Epoch 62/100\n",
      "\u001b[1m386/386\u001b[0m \u001b[32m━━━━━━━━━━━━━━━━━━━━\u001b[0m\u001b[37m\u001b[0m \u001b[1m0s\u001b[0m 992us/step - Precision: 0.9686 - Recall: 0.9484 - accuracy: 0.9592 - loss: 0.1182 - val_Precision: 0.9369 - val_Recall: 0.9424 - val_accuracy: 0.9395 - val_loss: 0.1557\n",
      "Epoch 63/100\n",
      "\u001b[1m386/386\u001b[0m \u001b[32m━━━━━━━━━━━━━━━━━━━━\u001b[0m\u001b[37m\u001b[0m \u001b[1m0s\u001b[0m 819us/step - Precision: 0.9617 - Recall: 0.9462 - accuracy: 0.9542 - loss: 0.1148 - val_Precision: 0.9396 - val_Recall: 0.9372 - val_accuracy: 0.9385 - val_loss: 0.1624\n",
      "Epoch 64/100\n",
      "\u001b[1m386/386\u001b[0m \u001b[32m━━━━━━━━━━━━━━━━━━━━\u001b[0m\u001b[37m\u001b[0m \u001b[1m0s\u001b[0m 830us/step - Precision: 0.9628 - Recall: 0.9499 - accuracy: 0.9557 - loss: 0.1228 - val_Precision: 0.9504 - val_Recall: 0.9307 - val_accuracy: 0.9411 - val_loss: 0.1589\n",
      "Epoch 65/100\n",
      "\u001b[1m386/386\u001b[0m \u001b[32m━━━━━━━━━━━━━━━━━━━━\u001b[0m\u001b[37m\u001b[0m \u001b[1m0s\u001b[0m 920us/step - Precision: 0.9567 - Recall: 0.9411 - accuracy: 0.9496 - loss: 0.1268 - val_Precision: 0.9613 - val_Recall: 0.9152 - val_accuracy: 0.9391 - val_loss: 0.1602\n",
      "Epoch 66/100\n",
      "\u001b[1m386/386\u001b[0m \u001b[32m━━━━━━━━━━━━━━━━━━━━\u001b[0m\u001b[37m\u001b[0m \u001b[1m0s\u001b[0m 834us/step - Precision: 0.9619 - Recall: 0.9432 - accuracy: 0.9524 - loss: 0.1182 - val_Precision: 0.9379 - val_Recall: 0.9392 - val_accuracy: 0.9385 - val_loss: 0.1629\n",
      "Epoch 67/100\n",
      "\u001b[1m386/386\u001b[0m \u001b[32m━━━━━━━━━━━━━━━━━━━━\u001b[0m\u001b[37m\u001b[0m \u001b[1m0s\u001b[0m 1ms/step - Precision: 0.9654 - Recall: 0.9483 - accuracy: 0.9566 - loss: 0.1148 - val_Precision: 0.9604 - val_Recall: 0.9094 - val_accuracy: 0.9359 - val_loss: 0.1586\n",
      "Epoch 68/100\n",
      "\u001b[1m386/386\u001b[0m \u001b[32m━━━━━━━━━━━━━━━━━━━━\u001b[0m\u001b[37m\u001b[0m \u001b[1m0s\u001b[0m 807us/step - Precision: 0.9635 - Recall: 0.9438 - accuracy: 0.9543 - loss: 0.1163 - val_Precision: 0.9578 - val_Recall: 0.9249 - val_accuracy: 0.9421 - val_loss: 0.1524\n",
      "Epoch 69/100\n",
      "\u001b[1m386/386\u001b[0m \u001b[32m━━━━━━━━━━━━━━━━━━━━\u001b[0m\u001b[37m\u001b[0m \u001b[1m0s\u001b[0m 821us/step - Precision: 0.9631 - Recall: 0.9507 - accuracy: 0.9567 - loss: 0.1162 - val_Precision: 0.9575 - val_Recall: 0.9191 - val_accuracy: 0.9391 - val_loss: 0.1577\n",
      "Epoch 70/100\n",
      "\u001b[1m386/386\u001b[0m \u001b[32m━━━━━━━━━━━━━━━━━━━━\u001b[0m\u001b[37m\u001b[0m \u001b[1m0s\u001b[0m 1ms/step - Precision: 0.9597 - Recall: 0.9458 - accuracy: 0.9534 - loss: 0.1146 - val_Precision: 0.9359 - val_Recall: 0.9450 - val_accuracy: 0.9401 - val_loss: 0.1576\n",
      "Epoch 71/100\n",
      "\u001b[1m386/386\u001b[0m \u001b[32m━━━━━━━━━━━━━━━━━━━━\u001b[0m\u001b[37m\u001b[0m \u001b[1m0s\u001b[0m 812us/step - Precision: 0.9625 - Recall: 0.9526 - accuracy: 0.9581 - loss: 0.1089 - val_Precision: 0.9506 - val_Recall: 0.9223 - val_accuracy: 0.9372 - val_loss: 0.1588\n",
      "Epoch 72/100\n",
      "\u001b[1m386/386\u001b[0m \u001b[32m━━━━━━━━━━━━━━━━━━━━\u001b[0m\u001b[37m\u001b[0m \u001b[1m0s\u001b[0m 869us/step - Precision: 0.9646 - Recall: 0.9519 - accuracy: 0.9581 - loss: 0.1087 - val_Precision: 0.9610 - val_Recall: 0.9094 - val_accuracy: 0.9362 - val_loss: 0.1582\n",
      "Epoch 73/100\n",
      "\u001b[1m386/386\u001b[0m \u001b[32m━━━━━━━━━━━━━━━━━━━━\u001b[0m\u001b[37m\u001b[0m \u001b[1m0s\u001b[0m 994us/step - Precision: 0.9669 - Recall: 0.9473 - accuracy: 0.9573 - loss: 0.1139 - val_Precision: 0.9461 - val_Recall: 0.9314 - val_accuracy: 0.9391 - val_loss: 0.1664\n",
      "Epoch 74/100\n",
      "\u001b[1m386/386\u001b[0m \u001b[32m━━━━━━━━━━━━━━━━━━━━\u001b[0m\u001b[37m\u001b[0m \u001b[1m0s\u001b[0m 785us/step - Precision: 0.9655 - Recall: 0.9490 - accuracy: 0.9570 - loss: 0.1138 - val_Precision: 0.9428 - val_Recall: 0.9392 - val_accuracy: 0.9411 - val_loss: 0.1541\n",
      "Epoch 75/100\n",
      "\u001b[1m386/386\u001b[0m \u001b[32m━━━━━━━━━━━━━━━━━━━━\u001b[0m\u001b[37m\u001b[0m \u001b[1m0s\u001b[0m 989us/step - Precision: 0.9626 - Recall: 0.9472 - accuracy: 0.9553 - loss: 0.1136 - val_Precision: 0.9358 - val_Recall: 0.9437 - val_accuracy: 0.9395 - val_loss: 0.1682\n",
      "Epoch 76/100\n",
      "\u001b[1m386/386\u001b[0m \u001b[32m━━━━━━━━━━━━━━━━━━━━\u001b[0m\u001b[37m\u001b[0m \u001b[1m0s\u001b[0m 1ms/step - Precision: 0.9633 - Recall: 0.9528 - accuracy: 0.9584 - loss: 0.1105 - val_Precision: 0.9607 - val_Recall: 0.9010 - val_accuracy: 0.9320 - val_loss: 0.1717\n",
      "Epoch 77/100\n",
      "\u001b[1m386/386\u001b[0m \u001b[32m━━━━━━━━━━━━━━━━━━━━\u001b[0m\u001b[37m\u001b[0m \u001b[1m0s\u001b[0m 928us/step - Precision: 0.9608 - Recall: 0.9446 - accuracy: 0.9529 - loss: 0.1166 - val_Precision: 0.9505 - val_Recall: 0.9320 - val_accuracy: 0.9417 - val_loss: 0.1551\n",
      "Epoch 78/100\n",
      "\u001b[1m386/386\u001b[0m \u001b[32m━━━━━━━━━━━━━━━━━━━━\u001b[0m\u001b[37m\u001b[0m \u001b[1m0s\u001b[0m 824us/step - Precision: 0.9629 - Recall: 0.9483 - accuracy: 0.9561 - loss: 0.1118 - val_Precision: 0.9486 - val_Recall: 0.9320 - val_accuracy: 0.9408 - val_loss: 0.1522\n",
      "Epoch 79/100\n",
      "\u001b[1m386/386\u001b[0m \u001b[32m━━━━━━━━━━━━━━━━━━━━\u001b[0m\u001b[37m\u001b[0m \u001b[1m0s\u001b[0m 843us/step - Precision: 0.9635 - Recall: 0.9499 - accuracy: 0.9573 - loss: 0.1107 - val_Precision: 0.9570 - val_Recall: 0.9223 - val_accuracy: 0.9404 - val_loss: 0.1599\n",
      "Epoch 80/100\n",
      "\u001b[1m386/386\u001b[0m \u001b[32m━━━━━━━━━━━━━━━━━━━━\u001b[0m\u001b[37m\u001b[0m \u001b[1m0s\u001b[0m 835us/step - Precision: 0.9672 - Recall: 0.9460 - accuracy: 0.9566 - loss: 0.1173 - val_Precision: 0.9602 - val_Recall: 0.9223 - val_accuracy: 0.9421 - val_loss: 0.1592\n",
      "Epoch 81/100\n",
      "\u001b[1m386/386\u001b[0m \u001b[32m━━━━━━━━━━━━━━━━━━━━\u001b[0m\u001b[37m\u001b[0m \u001b[1m0s\u001b[0m 801us/step - Precision: 0.9641 - Recall: 0.9539 - accuracy: 0.9590 - loss: 0.1100 - val_Precision: 0.9409 - val_Recall: 0.9379 - val_accuracy: 0.9395 - val_loss: 0.1575\n",
      "Epoch 82/100\n",
      "\u001b[1m386/386\u001b[0m \u001b[32m━━━━━━━━━━━━━━━━━━━━\u001b[0m\u001b[37m\u001b[0m \u001b[1m0s\u001b[0m 973us/step - Precision: 0.9645 - Recall: 0.9524 - accuracy: 0.9594 - loss: 0.1100 - val_Precision: 0.9618 - val_Recall: 0.9288 - val_accuracy: 0.9459 - val_loss: 0.1518\n",
      "Epoch 83/100\n",
      "\u001b[1m386/386\u001b[0m \u001b[32m━━━━━━━━━━━━━━━━━━━━\u001b[0m\u001b[37m\u001b[0m \u001b[1m0s\u001b[0m 786us/step - Precision: 0.9648 - Recall: 0.9442 - accuracy: 0.9554 - loss: 0.1126 - val_Precision: 0.9490 - val_Recall: 0.9392 - val_accuracy: 0.9443 - val_loss: 0.1544\n",
      "Epoch 84/100\n",
      "\u001b[1m386/386\u001b[0m \u001b[32m━━━━━━━━━━━━━━━━━━━━\u001b[0m\u001b[37m\u001b[0m \u001b[1m0s\u001b[0m 922us/step - Precision: 0.9630 - Recall: 0.9523 - accuracy: 0.9574 - loss: 0.1104 - val_Precision: 0.9548 - val_Recall: 0.9307 - val_accuracy: 0.9433 - val_loss: 0.1551\n",
      "Epoch 85/100\n",
      "\u001b[1m386/386\u001b[0m \u001b[32m━━━━━━━━━━━━━━━━━━━━\u001b[0m\u001b[37m\u001b[0m \u001b[1m0s\u001b[0m 839us/step - Precision: 0.9621 - Recall: 0.9534 - accuracy: 0.9582 - loss: 0.1068 - val_Precision: 0.9515 - val_Recall: 0.9275 - val_accuracy: 0.9401 - val_loss: 0.1526\n",
      "Epoch 86/100\n",
      "\u001b[1m386/386\u001b[0m \u001b[32m━━━━━━━━━━━━━━━━━━━━\u001b[0m\u001b[37m\u001b[0m \u001b[1m0s\u001b[0m 927us/step - Precision: 0.9684 - Recall: 0.9447 - accuracy: 0.9573 - loss: 0.1082 - val_Precision: 0.9584 - val_Recall: 0.9243 - val_accuracy: 0.9421 - val_loss: 0.1548\n",
      "Epoch 87/100\n",
      "\u001b[1m386/386\u001b[0m \u001b[32m━━━━━━━━━━━━━━━━━━━━\u001b[0m\u001b[37m\u001b[0m \u001b[1m0s\u001b[0m 809us/step - Precision: 0.9654 - Recall: 0.9574 - accuracy: 0.9616 - loss: 0.1074 - val_Precision: 0.9520 - val_Recall: 0.9366 - val_accuracy: 0.9446 - val_loss: 0.1539\n",
      "Epoch 88/100\n",
      "\u001b[1m386/386\u001b[0m \u001b[32m━━━━━━━━━━━━━━━━━━━━\u001b[0m\u001b[37m\u001b[0m \u001b[1m0s\u001b[0m 848us/step - Precision: 0.9666 - Recall: 0.9513 - accuracy: 0.9591 - loss: 0.1100 - val_Precision: 0.9520 - val_Recall: 0.9249 - val_accuracy: 0.9391 - val_loss: 0.1586\n",
      "Epoch 89/100\n",
      "\u001b[1m386/386\u001b[0m \u001b[32m━━━━━━━━━━━━━━━━━━━━\u001b[0m\u001b[37m\u001b[0m \u001b[1m0s\u001b[0m 922us/step - Precision: 0.9631 - Recall: 0.9509 - accuracy: 0.9571 - loss: 0.1087 - val_Precision: 0.9533 - val_Recall: 0.9256 - val_accuracy: 0.9401 - val_loss: 0.1538\n",
      "Epoch 90/100\n",
      "\u001b[1m386/386\u001b[0m \u001b[32m━━━━━━━━━━━━━━━━━━━━\u001b[0m\u001b[37m\u001b[0m \u001b[1m0s\u001b[0m 798us/step - Precision: 0.9684 - Recall: 0.9563 - accuracy: 0.9622 - loss: 0.1023 - val_Precision: 0.9640 - val_Recall: 0.9191 - val_accuracy: 0.9424 - val_loss: 0.1530\n",
      "Epoch 91/100\n",
      "\u001b[1m386/386\u001b[0m \u001b[32m━━━━━━━━━━━━━━━━━━━━\u001b[0m\u001b[37m\u001b[0m \u001b[1m0s\u001b[0m 973us/step - Precision: 0.9637 - Recall: 0.9559 - accuracy: 0.9597 - loss: 0.1082 - val_Precision: 0.9493 - val_Recall: 0.9327 - val_accuracy: 0.9414 - val_loss: 0.1562\n",
      "Epoch 92/100\n",
      "\u001b[1m386/386\u001b[0m \u001b[32m━━━━━━━━━━━━━━━━━━━━\u001b[0m\u001b[37m\u001b[0m \u001b[1m0s\u001b[0m 902us/step - Precision: 0.9680 - Recall: 0.9526 - accuracy: 0.9609 - loss: 0.1075 - val_Precision: 0.9397 - val_Recall: 0.9489 - val_accuracy: 0.9440 - val_loss: 0.1531\n",
      "Epoch 93/100\n",
      "\u001b[1m386/386\u001b[0m \u001b[32m━━━━━━━━━━━━━━━━━━━━\u001b[0m\u001b[37m\u001b[0m \u001b[1m0s\u001b[0m 950us/step - Precision: 0.9637 - Recall: 0.9555 - accuracy: 0.9597 - loss: 0.1028 - val_Precision: 0.9645 - val_Recall: 0.9133 - val_accuracy: 0.9398 - val_loss: 0.1616\n",
      "Epoch 94/100\n",
      "\u001b[1m386/386\u001b[0m \u001b[32m━━━━━━━━━━━━━━━━━━━━\u001b[0m\u001b[37m\u001b[0m \u001b[1m0s\u001b[0m 800us/step - Precision: 0.9634 - Recall: 0.9507 - accuracy: 0.9572 - loss: 0.1110 - val_Precision: 0.9689 - val_Recall: 0.9081 - val_accuracy: 0.9395 - val_loss: 0.1648\n",
      "Epoch 95/100\n",
      "\u001b[1m386/386\u001b[0m \u001b[32m━━━━━━━━━━━━━━━━━━━━\u001b[0m\u001b[37m\u001b[0m \u001b[1m0s\u001b[0m 918us/step - Precision: 0.9637 - Recall: 0.9531 - accuracy: 0.9581 - loss: 0.1082 - val_Precision: 0.9583 - val_Recall: 0.9230 - val_accuracy: 0.9414 - val_loss: 0.1580\n",
      "Epoch 96/100\n",
      "\u001b[1m386/386\u001b[0m \u001b[32m━━━━━━━━━━━━━━━━━━━━\u001b[0m\u001b[37m\u001b[0m \u001b[1m0s\u001b[0m 793us/step - Precision: 0.9677 - Recall: 0.9596 - accuracy: 0.9644 - loss: 0.1033 - val_Precision: 0.9597 - val_Recall: 0.9236 - val_accuracy: 0.9424 - val_loss: 0.1582\n",
      "Epoch 97/100\n",
      "\u001b[1m386/386\u001b[0m \u001b[32m━━━━━━━━━━━━━━━━━━━━\u001b[0m\u001b[37m\u001b[0m \u001b[1m0s\u001b[0m 957us/step - Precision: 0.9643 - Recall: 0.9524 - accuracy: 0.9587 - loss: 0.1077 - val_Precision: 0.9402 - val_Recall: 0.9359 - val_accuracy: 0.9382 - val_loss: 0.1632\n",
      "Epoch 98/100\n",
      "\u001b[1m386/386\u001b[0m \u001b[32m━━━━━━━━━━━━━━━━━━━━\u001b[0m\u001b[37m\u001b[0m \u001b[1m0s\u001b[0m 870us/step - Precision: 0.9683 - Recall: 0.9559 - accuracy: 0.9622 - loss: 0.1019 - val_Precision: 0.9441 - val_Recall: 0.9405 - val_accuracy: 0.9424 - val_loss: 0.1588\n",
      "Epoch 99/100\n",
      "\u001b[1m386/386\u001b[0m \u001b[32m━━━━━━━━━━━━━━━━━━━━\u001b[0m\u001b[37m\u001b[0m \u001b[1m0s\u001b[0m 864us/step - Precision: 0.9606 - Recall: 0.9552 - accuracy: 0.9576 - loss: 0.1078 - val_Precision: 0.9526 - val_Recall: 0.9359 - val_accuracy: 0.9446 - val_loss: 0.1565\n",
      "Epoch 100/100\n",
      "\u001b[1m386/386\u001b[0m \u001b[32m━━━━━━━━━━━━━━━━━━━━\u001b[0m\u001b[37m\u001b[0m \u001b[1m0s\u001b[0m 852us/step - Precision: 0.9662 - Recall: 0.9525 - accuracy: 0.9599 - loss: 0.1054 - val_Precision: 0.9660 - val_Recall: 0.9204 - val_accuracy: 0.9440 - val_loss: 0.1570\n"
     ]
    }
   ],
   "source": [
    "vanilla.compile(\n",
    "    loss=\"binary_crossentropy\", metrics=[\"accuracy\", \"Precision\", \"Recall\"], optimizer=\"adam\"\n",
    ")\n",
    "\n",
    "vanilla_train = vanilla.fit(\n",
    "    X_train, y_train, epochs=100, batch_size=32, validation_split=0.2, verbose=1\n",
    ")"
   ]
  },
  {
   "cell_type": "code",
   "execution_count": 250,
   "id": "271071f7-469f-4d3c-8427-60f3608c733b",
   "metadata": {},
   "outputs": [
    {
     "data": {
      "text/plain": [
       "['model1.pkl']"
      ]
     },
     "execution_count": 250,
     "metadata": {},
     "output_type": "execute_result"
    }
   ],
   "source": [
    "from joblib import dump\n",
    "dump(model1, 'model1.pkl')"
   ]
  },
  {
   "cell_type": "code",
   "execution_count": 251,
   "id": "1febcaf5-8328-4bad-9834-c80f0cd8967b",
   "metadata": {},
   "outputs": [
    {
     "data": {
      "image/png": "[encoded data removed]",
      "text/plain": [
       "<Figure size 640x480 with 1 Axes>"
      ]
     },
     "metadata": {},
     "output_type": "display_data"
    }
   ],
   "source": [
    "from matplotlib import pyplot as plt\n",
    "\n",
    "plt.plot(vanilla_train.history[\"loss\"], label=\"Train Loss\")\n",
    "plt.plot(vanilla_train.history[\"val_loss\"], label=\"Val Loss\")\n",
    "plt.title(\"Model Loss\")\n",
    "plt.ylabel(\"Loss\")\n",
    "plt.xlabel(\"Epoch\")\n",
    "plt.legend(loc=\"upper right\")\n",
    "plt.show()"
   ]
  },
  {
   "cell_type": "markdown",
   "id": "527c57e3-1cec-4144-b62f-c860b3ec5a06",
   "metadata": {},
   "source": [
    "Model Optimization"
   ]
  },
  {
   "cell_type": "code",
   "execution_count": 253,
   "id": "5d62033f-ec8d-4b9b-86a1-64bb78d245dc",
   "metadata": {},
   "outputs": [
    {
     "name": "stderr",
     "output_type": "stream",
     "text": [
      "C:\\Users\\gnond\\anaconda3\\Lib\\site-packages\\keras\\src\\layers\\core\\dense.py:87: UserWarning: Do not pass an `input_shape`/`input_dim` argument to a layer. When using Sequential models, prefer using an `Input(shape)` object as the first layer in the model instead.\n",
      "  super().__init__(activity_regularizer=activity_regularizer, **kwargs)\n"
     ]
    },
    {
     "data": {
      "text/html": [
       "<pre style=\"white-space:pre;overflow-x:auto;line-height:normal;font-family:Menlo,'DejaVu Sans Mono',consolas,'Courier New',monospace\"><span style=\"font-weight: bold\">Model: \"sequential_10\"</span>\n",
       "</pre>\n"
      ],
      "text/plain": [
       "\u001b[1mModel: \"sequential_10\"\u001b[0m\n"
      ]
     },
     "metadata": {},
     "output_type": "display_data"
    },
    {
     "data": {
      "text/html": [
       "<pre style=\"white-space:pre;overflow-x:auto;line-height:normal;font-family:Menlo,'DejaVu Sans Mono',consolas,'Courier New',monospace\">┏━━━━━━━━━━━━━━━━━━━━━━━━━━━━━━━━━━━━━━┳━━━━━━━━━━━━━━━━━━━━━━━━━━━━━┳━━━━━━━━━━━━━━━━━┓\n",
       "┃<span style=\"font-weight: bold\"> Layer (type)                         </span>┃<span style=\"font-weight: bold\"> Output Shape                </span>┃<span style=\"font-weight: bold\">         Param # </span>┃\n",
       "┡━━━━━━━━━━━━━━━━━━━━━━━━━━━━━━━━━━━━━━╇━━━━━━━━━━━━━━━━━━━━━━━━━━━━━╇━━━━━━━━━━━━━━━━━┩\n",
       "│ dense_23 (<span style=\"color: #0087ff; text-decoration-color: #0087ff\">Dense</span>)                     │ (<span style=\"color: #00d7ff; text-decoration-color: #00d7ff\">None</span>, <span style=\"color: #00af00; text-decoration-color: #00af00\">64</span>)                  │             <span style=\"color: #00af00; text-decoration-color: #00af00\">640</span> │\n",
       "├──────────────────────────────────────┼─────────────────────────────┼─────────────────┤\n",
       "│ dense_24 (<span style=\"color: #0087ff; text-decoration-color: #0087ff\">Dense</span>)                     │ (<span style=\"color: #00d7ff; text-decoration-color: #00d7ff\">None</span>, <span style=\"color: #00af00; text-decoration-color: #00af00\">32</span>)                  │           <span style=\"color: #00af00; text-decoration-color: #00af00\">2,080</span> │\n",
       "├──────────────────────────────────────┼─────────────────────────────┼─────────────────┤\n",
       "│ dense_25 (<span style=\"color: #0087ff; text-decoration-color: #0087ff\">Dense</span>)                     │ (<span style=\"color: #00d7ff; text-decoration-color: #00d7ff\">None</span>, <span style=\"color: #00af00; text-decoration-color: #00af00\">1</span>)                   │              <span style=\"color: #00af00; text-decoration-color: #00af00\">33</span> │\n",
       "└──────────────────────────────────────┴─────────────────────────────┴─────────────────┘\n",
       "</pre>\n"
      ],
      "text/plain": [
       "┏━━━━━━━━━━━━━━━━━━━━━━━━━━━━━━━━━━━━━━┳━━━━━━━━━━━━━━━━━━━━━━━━━━━━━┳━━━━━━━━━━━━━━━━━┓\n",
       "┃\u001b[1m \u001b[0m\u001b[1mLayer (type)                        \u001b[0m\u001b[1m \u001b[0m┃\u001b[1m \u001b[0m\u001b[1mOutput Shape               \u001b[0m\u001b[1m \u001b[0m┃\u001b[1m \u001b[0m\u001b[1m        Param #\u001b[0m\u001b[1m \u001b[0m┃\n",
       "┡━━━━━━━━━━━━━━━━━━━━━━━━━━━━━━━━━━━━━━╇━━━━━━━━━━━━━━━━━━━━━━━━━━━━━╇━━━━━━━━━━━━━━━━━┩\n",
       "│ dense_23 (\u001b[38;5;33mDense\u001b[0m)                     │ (\u001b[38;5;45mNone\u001b[0m, \u001b[38;5;34m64\u001b[0m)                  │             \u001b[38;5;34m640\u001b[0m │\n",
       "├──────────────────────────────────────┼─────────────────────────────┼─────────────────┤\n",
       "│ dense_24 (\u001b[38;5;33mDense\u001b[0m)                     │ (\u001b[38;5;45mNone\u001b[0m, \u001b[38;5;34m32\u001b[0m)                  │           \u001b[38;5;34m2,080\u001b[0m │\n",
       "├──────────────────────────────────────┼─────────────────────────────┼─────────────────┤\n",
       "│ dense_25 (\u001b[38;5;33mDense\u001b[0m)                     │ (\u001b[38;5;45mNone\u001b[0m, \u001b[38;5;34m1\u001b[0m)                   │              \u001b[38;5;34m33\u001b[0m │\n",
       "└──────────────────────────────────────┴─────────────────────────────┴─────────────────┘\n"
      ]
     },
     "metadata": {},
     "output_type": "display_data"
    },
    {
     "data": {
      "text/html": [
       "<pre style=\"white-space:pre;overflow-x:auto;line-height:normal;font-family:Menlo,'DejaVu Sans Mono',consolas,'Courier New',monospace\"><span style=\"font-weight: bold\"> Total params: </span><span style=\"color: #00af00; text-decoration-color: #00af00\">2,753</span> (10.75 KB)\n",
       "</pre>\n"
      ],
      "text/plain": [
       "\u001b[1m Total params: \u001b[0m\u001b[38;5;34m2,753\u001b[0m (10.75 KB)\n"
      ]
     },
     "metadata": {},
     "output_type": "display_data"
    },
    {
     "data": {
      "text/html": [
       "<pre style=\"white-space:pre;overflow-x:auto;line-height:normal;font-family:Menlo,'DejaVu Sans Mono',consolas,'Courier New',monospace\"><span style=\"font-weight: bold\"> Trainable params: </span><span style=\"color: #00af00; text-decoration-color: #00af00\">2,753</span> (10.75 KB)\n",
       "</pre>\n"
      ],
      "text/plain": [
       "\u001b[1m Trainable params: \u001b[0m\u001b[38;5;34m2,753\u001b[0m (10.75 KB)\n"
      ]
     },
     "metadata": {},
     "output_type": "display_data"
    },
    {
     "data": {
      "text/html": [
       "<pre style=\"white-space:pre;overflow-x:auto;line-height:normal;font-family:Menlo,'DejaVu Sans Mono',consolas,'Courier New',monospace\"><span style=\"font-weight: bold\"> Non-trainable params: </span><span style=\"color: #00af00; text-decoration-color: #00af00\">0</span> (0.00 B)\n",
       "</pre>\n"
      ],
      "text/plain": [
       "\u001b[1m Non-trainable params: \u001b[0m\u001b[38;5;34m0\u001b[0m (0.00 B)\n"
      ]
     },
     "metadata": {},
     "output_type": "display_data"
    }
   ],
   "source": [
    "from tensorflow.keras.regularizers import l1, l2\n",
    "\n",
    "l1_model = Sequential()\n",
    "\n",
    "l1_model.add(\n",
    "    Dense(\n",
    "        64,\n",
    "        activation=\"relu\",\n",
    "        input_shape=(X_train.shape[1],),\n",
    "        kernel_regularizer=l1(0.001),\n",
    "    )\n",
    ")\n",
    "l1_model.add(Dense(32, activation=\"relu\", kernel_regularizer=l1(0.001)))\n",
    "l1_model.add(Dense(1, activation=\"sigmoid\"))\n",
    "l1_model.summary()"
   ]
  },
  {
   "cell_type": "code",
   "execution_count": 258,
   "id": "d8e90966-f952-44b4-bf3d-00b36e8a50fd",
   "metadata": {},
   "outputs": [
    {
     "name": "stdout",
     "output_type": "stream",
     "text": [
      "Epoch 1/50\n",
      "\u001b[1m386/386\u001b[0m \u001b[32m━━━━━━━━━━━━━━━━━━━━\u001b[0m\u001b[37m\u001b[0m \u001b[1m2s\u001b[0m 2ms/step - Precision: 0.8098 - Recall: 0.7483 - accuracy: 0.7729 - loss: 0.7670 - val_Precision: 0.8828 - val_Recall: 0.7994 - val_accuracy: 0.8466 - val_loss: 0.5164\n",
      "Epoch 2/50\n",
      "\u001b[1m386/386\u001b[0m \u001b[32m━━━━━━━━━━━━━━━━━━━━\u001b[0m\u001b[37m\u001b[0m \u001b[1m0s\u001b[0m 1ms/step - Precision: 0.9045 - Recall: 0.8028 - accuracy: 0.8573 - loss: 0.4821 - val_Precision: 0.8924 - val_Recall: 0.8155 - val_accuracy: 0.8585 - val_loss: 0.4287\n",
      "Epoch 3/50\n",
      "\u001b[1m386/386\u001b[0m \u001b[32m━━━━━━━━━━━━━━━━━━━━\u001b[0m\u001b[37m\u001b[0m \u001b[1m0s\u001b[0m 896us/step - Precision: 0.8930 - Recall: 0.8244 - accuracy: 0.8629 - loss: 0.4120 - val_Precision: 0.8884 - val_Recall: 0.8142 - val_accuracy: 0.8559 - val_loss: 0.3960\n",
      "Epoch 4/50\n",
      "\u001b[1m386/386\u001b[0m \u001b[32m━━━━━━━━━━━━━━━━━━━━\u001b[0m\u001b[37m\u001b[0m \u001b[1m0s\u001b[0m 907us/step - Precision: 0.8954 - Recall: 0.8217 - accuracy: 0.8634 - loss: 0.3936 - val_Precision: 0.8659 - val_Recall: 0.8608 - val_accuracy: 0.8637 - val_loss: 0.3794\n",
      "Epoch 5/50\n",
      "\u001b[1m386/386\u001b[0m \u001b[32m━━━━━━━━━━━━━━━━━━━━\u001b[0m\u001b[37m\u001b[0m \u001b[1m0s\u001b[0m 935us/step - Precision: 0.8903 - Recall: 0.8213 - accuracy: 0.8598 - loss: 0.3686 - val_Precision: 0.8651 - val_Recall: 0.8595 - val_accuracy: 0.8627 - val_loss: 0.3770\n",
      "Epoch 6/50\n",
      "\u001b[1m386/386\u001b[0m \u001b[32m━━━━━━━━━━━━━━━━━━━━\u001b[0m\u001b[37m\u001b[0m \u001b[1m0s\u001b[0m 1ms/step - Precision: 0.8960 - Recall: 0.8338 - accuracy: 0.8680 - loss: 0.3471 - val_Precision: 0.9247 - val_Recall: 0.7864 - val_accuracy: 0.8611 - val_loss: 0.3542\n",
      "Epoch 7/50\n",
      "\u001b[1m386/386\u001b[0m \u001b[32m━━━━━━━━━━━━━━━━━━━━\u001b[0m\u001b[37m\u001b[0m \u001b[1m0s\u001b[0m 920us/step - Precision: 0.9054 - Recall: 0.8144 - accuracy: 0.8649 - loss: 0.3528 - val_Precision: 0.9247 - val_Recall: 0.8032 - val_accuracy: 0.8689 - val_loss: 0.3424\n",
      "Epoch 8/50\n",
      "\u001b[1m386/386\u001b[0m \u001b[32m━━━━━━━━━━━━━━━━━━━━\u001b[0m\u001b[37m\u001b[0m \u001b[1m0s\u001b[0m 891us/step - Precision: 0.9058 - Recall: 0.8270 - accuracy: 0.8695 - loss: 0.3396 - val_Precision: 0.9188 - val_Recall: 0.8058 - val_accuracy: 0.8673 - val_loss: 0.3348\n",
      "Epoch 9/50\n",
      "\u001b[1m386/386\u001b[0m \u001b[32m━━━━━━━━━━━━━━━━━━━━\u001b[0m\u001b[37m\u001b[0m \u001b[1m0s\u001b[0m 974us/step - Precision: 0.9188 - Recall: 0.8303 - accuracy: 0.8790 - loss: 0.3247 - val_Precision: 0.9071 - val_Recall: 0.8408 - val_accuracy: 0.8773 - val_loss: 0.3232\n",
      "Epoch 10/50\n",
      "\u001b[1m386/386\u001b[0m \u001b[32m━━━━━━━━━━━━━━━━━━━━\u001b[0m\u001b[37m\u001b[0m \u001b[1m0s\u001b[0m 891us/step - Precision: 0.9148 - Recall: 0.8400 - accuracy: 0.8828 - loss: 0.3106 - val_Precision: 0.9285 - val_Recall: 0.8071 - val_accuracy: 0.8725 - val_loss: 0.3191\n",
      "Epoch 11/50\n",
      "\u001b[1m386/386\u001b[0m \u001b[32m━━━━━━━━━━━━━━━━━━━━\u001b[0m\u001b[37m\u001b[0m \u001b[1m0s\u001b[0m 968us/step - Precision: 0.9185 - Recall: 0.8385 - accuracy: 0.8818 - loss: 0.3156 - val_Precision: 0.9163 - val_Recall: 0.8362 - val_accuracy: 0.8799 - val_loss: 0.3122\n",
      "Epoch 12/50\n",
      "\u001b[1m386/386\u001b[0m \u001b[32m━━━━━━━━━━━━━━━━━━━━\u001b[0m\u001b[37m\u001b[0m \u001b[1m0s\u001b[0m 931us/step - Precision: 0.9145 - Recall: 0.8505 - accuracy: 0.8841 - loss: 0.3131 - val_Precision: 0.9482 - val_Recall: 0.7942 - val_accuracy: 0.8754 - val_loss: 0.3116\n",
      "Epoch 13/50\n",
      "\u001b[1m386/386\u001b[0m \u001b[32m━━━━━━━━━━━━━━━━━━━━\u001b[0m\u001b[37m\u001b[0m \u001b[1m0s\u001b[0m 872us/step - Precision: 0.9191 - Recall: 0.8425 - accuracy: 0.8837 - loss: 0.3083 - val_Precision: 0.9466 - val_Recall: 0.8032 - val_accuracy: 0.8789 - val_loss: 0.3086\n",
      "Epoch 14/50\n",
      "\u001b[1m386/386\u001b[0m \u001b[32m━━━━━━━━━━━━━━━━━━━━\u001b[0m\u001b[37m\u001b[0m \u001b[1m0s\u001b[0m 843us/step - Precision: 0.9180 - Recall: 0.8495 - accuracy: 0.8862 - loss: 0.3028 - val_Precision: 0.9279 - val_Recall: 0.8414 - val_accuracy: 0.8880 - val_loss: 0.2981\n",
      "Epoch 15/50\n",
      "\u001b[1m386/386\u001b[0m \u001b[32m━━━━━━━━━━━━━━━━━━━━\u001b[0m\u001b[37m\u001b[0m \u001b[1m0s\u001b[0m 893us/step - Precision: 0.9191 - Recall: 0.8558 - accuracy: 0.8899 - loss: 0.3038 - val_Precision: 0.9108 - val_Recall: 0.8718 - val_accuracy: 0.8932 - val_loss: 0.2963\n",
      "Epoch 16/50\n",
      "\u001b[1m386/386\u001b[0m \u001b[32m━━━━━━━━━━━━━━━━━━━━\u001b[0m\u001b[37m\u001b[0m \u001b[1m0s\u001b[0m 822us/step - Precision: 0.9136 - Recall: 0.8599 - accuracy: 0.8885 - loss: 0.3026 - val_Precision: 0.9220 - val_Recall: 0.8563 - val_accuracy: 0.8919 - val_loss: 0.2939\n",
      "Epoch 17/50\n",
      "\u001b[1m386/386\u001b[0m \u001b[32m━━━━━━━━━━━━━━━━━━━━\u001b[0m\u001b[37m\u001b[0m \u001b[1m0s\u001b[0m 846us/step - Precision: 0.9211 - Recall: 0.8711 - accuracy: 0.8994 - loss: 0.2883 - val_Precision: 0.9307 - val_Recall: 0.8427 - val_accuracy: 0.8899 - val_loss: 0.2922\n",
      "Epoch 18/50\n",
      "\u001b[1m386/386\u001b[0m \u001b[32m━━━━━━━━━━━━━━━━━━━━\u001b[0m\u001b[37m\u001b[0m \u001b[1m0s\u001b[0m 903us/step - Precision: 0.9183 - Recall: 0.8653 - accuracy: 0.8937 - loss: 0.2908 - val_Precision: 0.9083 - val_Recall: 0.8913 - val_accuracy: 0.9006 - val_loss: 0.2912\n",
      "Epoch 19/50\n",
      "\u001b[1m386/386\u001b[0m \u001b[32m━━━━━━━━━━━━━━━━━━━━\u001b[0m\u001b[37m\u001b[0m \u001b[1m0s\u001b[0m 1ms/step - Precision: 0.9261 - Recall: 0.8786 - accuracy: 0.9040 - loss: 0.2748 - val_Precision: 0.9052 - val_Recall: 0.8958 - val_accuracy: 0.9009 - val_loss: 0.2891\n",
      "Epoch 20/50\n",
      "\u001b[1m386/386\u001b[0m \u001b[32m━━━━━━━━━━━━━━━━━━━━\u001b[0m\u001b[37m\u001b[0m \u001b[1m0s\u001b[0m 1ms/step - Precision: 0.9226 - Recall: 0.8713 - accuracy: 0.9005 - loss: 0.2783 - val_Precision: 0.9617 - val_Recall: 0.7974 - val_accuracy: 0.8828 - val_loss: 0.2961\n",
      "Epoch 21/50\n",
      "\u001b[1m386/386\u001b[0m \u001b[32m━━━━━━━━━━━━━━━━━━━━\u001b[0m\u001b[37m\u001b[0m \u001b[1m0s\u001b[0m 839us/step - Precision: 0.9214 - Recall: 0.8607 - accuracy: 0.8943 - loss: 0.2962 - val_Precision: 0.9310 - val_Recall: 0.8563 - val_accuracy: 0.8964 - val_loss: 0.2852\n",
      "Epoch 22/50\n",
      "\u001b[1m386/386\u001b[0m \u001b[32m━━━━━━━━━━━━━━━━━━━━\u001b[0m\u001b[37m\u001b[0m \u001b[1m0s\u001b[0m 860us/step - Precision: 0.9284 - Recall: 0.8781 - accuracy: 0.9050 - loss: 0.2714 - val_Precision: 0.8945 - val_Recall: 0.9223 - val_accuracy: 0.9068 - val_loss: 0.2835\n",
      "Epoch 23/50\n",
      "\u001b[1m386/386\u001b[0m \u001b[32m━━━━━━━━━━━━━━━━━━━━\u001b[0m\u001b[37m\u001b[0m \u001b[1m0s\u001b[0m 905us/step - Precision: 0.9249 - Recall: 0.8875 - accuracy: 0.9080 - loss: 0.2787 - val_Precision: 0.9369 - val_Recall: 0.8557 - val_accuracy: 0.8990 - val_loss: 0.2821\n",
      "Epoch 24/50\n",
      "\u001b[1m386/386\u001b[0m \u001b[32m━━━━━━━━━━━━━━━━━━━━\u001b[0m\u001b[37m\u001b[0m \u001b[1m0s\u001b[0m 891us/step - Precision: 0.9253 - Recall: 0.8818 - accuracy: 0.9054 - loss: 0.2741 - val_Precision: 0.9130 - val_Recall: 0.8900 - val_accuracy: 0.9026 - val_loss: 0.2829\n",
      "Epoch 25/50\n",
      "\u001b[1m386/386\u001b[0m \u001b[32m━━━━━━━━━━━━━━━━━━━━\u001b[0m\u001b[37m\u001b[0m \u001b[1m0s\u001b[0m 1ms/step - Precision: 0.9264 - Recall: 0.8846 - accuracy: 0.9080 - loss: 0.2699 - val_Precision: 0.9223 - val_Recall: 0.8906 - val_accuracy: 0.9077 - val_loss: 0.2779\n",
      "Epoch 26/50\n",
      "\u001b[1m386/386\u001b[0m \u001b[32m━━━━━━━━━━━━━━━━━━━━\u001b[0m\u001b[37m\u001b[0m \u001b[1m0s\u001b[0m 983us/step - Precision: 0.9269 - Recall: 0.8829 - accuracy: 0.9072 - loss: 0.2738 - val_Precision: 0.9071 - val_Recall: 0.9100 - val_accuracy: 0.9084 - val_loss: 0.2761\n",
      "Epoch 27/50\n",
      "\u001b[1m386/386\u001b[0m \u001b[32m━━━━━━━━━━━━━━━━━━━━\u001b[0m\u001b[37m\u001b[0m \u001b[1m0s\u001b[0m 859us/step - Precision: 0.9202 - Recall: 0.8876 - accuracy: 0.9049 - loss: 0.2779 - val_Precision: 0.9190 - val_Recall: 0.8964 - val_accuracy: 0.9087 - val_loss: 0.2736\n",
      "Epoch 28/50\n",
      "\u001b[1m386/386\u001b[0m \u001b[32m━━━━━━━━━━━━━━━━━━━━\u001b[0m\u001b[37m\u001b[0m \u001b[1m0s\u001b[0m 865us/step - Precision: 0.9285 - Recall: 0.8975 - accuracy: 0.9135 - loss: 0.2625 - val_Precision: 0.9221 - val_Recall: 0.8958 - val_accuracy: 0.9100 - val_loss: 0.2716\n",
      "Epoch 29/50\n",
      "\u001b[1m386/386\u001b[0m \u001b[32m━━━━━━━━━━━━━━━━━━━━\u001b[0m\u001b[37m\u001b[0m \u001b[1m0s\u001b[0m 922us/step - Precision: 0.9262 - Recall: 0.8996 - accuracy: 0.9141 - loss: 0.2646 - val_Precision: 0.9336 - val_Recall: 0.8919 - val_accuracy: 0.9142 - val_loss: 0.2694\n",
      "Epoch 30/50\n",
      "\u001b[1m386/386\u001b[0m \u001b[32m━━━━━━━━━━━━━━━━━━━━\u001b[0m\u001b[37m\u001b[0m \u001b[1m0s\u001b[0m 996us/step - Precision: 0.9269 - Recall: 0.9047 - accuracy: 0.9151 - loss: 0.2608 - val_Precision: 0.9312 - val_Recall: 0.8848 - val_accuracy: 0.9097 - val_loss: 0.2677\n",
      "Epoch 31/50\n",
      "\u001b[1m386/386\u001b[0m \u001b[32m━━━━━━━━━━━━━━━━━━━━\u001b[0m\u001b[37m\u001b[0m \u001b[1m0s\u001b[0m 877us/step - Precision: 0.9304 - Recall: 0.8871 - accuracy: 0.9110 - loss: 0.2719 - val_Precision: 0.8958 - val_Recall: 0.9405 - val_accuracy: 0.9155 - val_loss: 0.2667\n",
      "Epoch 32/50\n",
      "\u001b[1m386/386\u001b[0m \u001b[32m━━━━━━━━━━━━━━━━━━━━\u001b[0m\u001b[37m\u001b[0m \u001b[1m0s\u001b[0m 912us/step - Precision: 0.9237 - Recall: 0.9025 - accuracy: 0.9144 - loss: 0.2626 - val_Precision: 0.9232 - val_Recall: 0.9256 - val_accuracy: 0.9242 - val_loss: 0.2588\n",
      "Epoch 33/50\n",
      "\u001b[1m386/386\u001b[0m \u001b[32m━━━━━━━━━━━━━━━━━━━━\u001b[0m\u001b[37m\u001b[0m \u001b[1m0s\u001b[0m 853us/step - Precision: 0.9318 - Recall: 0.9023 - accuracy: 0.9176 - loss: 0.2569 - val_Precision: 0.9328 - val_Recall: 0.8893 - val_accuracy: 0.9126 - val_loss: 0.2608\n",
      "Epoch 34/50\n",
      "\u001b[1m386/386\u001b[0m \u001b[32m━━━━━━━━━━━━━━━━━━━━\u001b[0m\u001b[37m\u001b[0m \u001b[1m0s\u001b[0m 883us/step - Precision: 0.9324 - Recall: 0.9052 - accuracy: 0.9200 - loss: 0.2503 - val_Precision: 0.9446 - val_Recall: 0.8822 - val_accuracy: 0.9152 - val_loss: 0.2581\n",
      "Epoch 35/50\n",
      "\u001b[1m386/386\u001b[0m \u001b[32m━━━━━━━━━━━━━━━━━━━━\u001b[0m\u001b[37m\u001b[0m \u001b[1m0s\u001b[0m 1ms/step - Precision: 0.9354 - Recall: 0.9093 - accuracy: 0.9217 - loss: 0.2513 - val_Precision: 0.9558 - val_Recall: 0.8686 - val_accuracy: 0.9142 - val_loss: 0.2584\n",
      "Epoch 36/50\n",
      "\u001b[1m386/386\u001b[0m \u001b[32m━━━━━━━━━━━━━━━━━━━━\u001b[0m\u001b[37m\u001b[0m \u001b[1m0s\u001b[0m 877us/step - Precision: 0.9356 - Recall: 0.9138 - accuracy: 0.9259 - loss: 0.2449 - val_Precision: 0.9389 - val_Recall: 0.8958 - val_accuracy: 0.9187 - val_loss: 0.2520\n",
      "Epoch 37/50\n",
      "\u001b[1m386/386\u001b[0m \u001b[32m━━━━━━━━━━━━━━━━━━━━\u001b[0m\u001b[37m\u001b[0m \u001b[1m0s\u001b[0m 828us/step - Precision: 0.9354 - Recall: 0.9040 - accuracy: 0.9215 - loss: 0.2502 - val_Precision: 0.9317 - val_Recall: 0.9003 - val_accuracy: 0.9171 - val_loss: 0.2522\n",
      "Epoch 38/50\n",
      "\u001b[1m386/386\u001b[0m \u001b[32m━━━━━━━━━━━━━━━━━━━━\u001b[0m\u001b[37m\u001b[0m \u001b[1m0s\u001b[0m 861us/step - Precision: 0.9372 - Recall: 0.9112 - accuracy: 0.9250 - loss: 0.2455 - val_Precision: 0.9274 - val_Recall: 0.9016 - val_accuracy: 0.9155 - val_loss: 0.2524\n",
      "Epoch 39/50\n",
      "\u001b[1m386/386\u001b[0m \u001b[32m━━━━━━━━━━━━━━━━━━━━\u001b[0m\u001b[37m\u001b[0m \u001b[1m0s\u001b[0m 945us/step - Precision: 0.9268 - Recall: 0.9051 - accuracy: 0.9173 - loss: 0.2590 - val_Precision: 0.9234 - val_Recall: 0.9210 - val_accuracy: 0.9223 - val_loss: 0.2463\n",
      "Epoch 40/50\n",
      "\u001b[1m386/386\u001b[0m \u001b[32m━━━━━━━━━━━━━━━━━━━━\u001b[0m\u001b[37m\u001b[0m \u001b[1m0s\u001b[0m 867us/step - Precision: 0.9352 - Recall: 0.9172 - accuracy: 0.9264 - loss: 0.2354 - val_Precision: 0.9407 - val_Recall: 0.9146 - val_accuracy: 0.9285 - val_loss: 0.2408\n",
      "Epoch 41/50\n",
      "\u001b[1m386/386\u001b[0m \u001b[32m━━━━━━━━━━━━━━━━━━━━\u001b[0m\u001b[37m\u001b[0m \u001b[1m0s\u001b[0m 821us/step - Precision: 0.9348 - Recall: 0.9167 - accuracy: 0.9271 - loss: 0.2369 - val_Precision: 0.9502 - val_Recall: 0.8893 - val_accuracy: 0.9213 - val_loss: 0.2441\n",
      "Epoch 42/50\n",
      "\u001b[1m386/386\u001b[0m \u001b[32m━━━━━━━━━━━━━━━━━━━━\u001b[0m\u001b[37m\u001b[0m \u001b[1m0s\u001b[0m 816us/step - Precision: 0.9329 - Recall: 0.9056 - accuracy: 0.9202 - loss: 0.2354 - val_Precision: 0.9568 - val_Recall: 0.8880 - val_accuracy: 0.9239 - val_loss: 0.2416\n",
      "Epoch 43/50\n",
      "\u001b[1m386/386\u001b[0m \u001b[32m━━━━━━━━━━━━━━━━━━━━\u001b[0m\u001b[37m\u001b[0m \u001b[1m0s\u001b[0m 938us/step - Precision: 0.9381 - Recall: 0.9102 - accuracy: 0.9239 - loss: 0.2426 - val_Precision: 0.9310 - val_Recall: 0.9165 - val_accuracy: 0.9242 - val_loss: 0.2389\n",
      "Epoch 44/50\n",
      "\u001b[1m386/386\u001b[0m \u001b[32m━━━━━━━━━━━━━━━━━━━━\u001b[0m\u001b[37m\u001b[0m \u001b[1m0s\u001b[0m 853us/step - Precision: 0.9352 - Recall: 0.9171 - accuracy: 0.9277 - loss: 0.2408 - val_Precision: 0.9355 - val_Recall: 0.9113 - val_accuracy: 0.9242 - val_loss: 0.2385\n",
      "Epoch 45/50\n",
      "\u001b[1m386/386\u001b[0m \u001b[32m━━━━━━━━━━━━━━━━━━━━\u001b[0m\u001b[37m\u001b[0m \u001b[1m0s\u001b[0m 786us/step - Precision: 0.9353 - Recall: 0.9130 - accuracy: 0.9254 - loss: 0.2368 - val_Precision: 0.9352 - val_Recall: 0.9243 - val_accuracy: 0.9301 - val_loss: 0.2345\n",
      "Epoch 46/50\n",
      "\u001b[1m386/386\u001b[0m \u001b[32m━━━━━━━━━━━━━━━━━━━━\u001b[0m\u001b[37m\u001b[0m \u001b[1m0s\u001b[0m 818us/step - Precision: 0.9367 - Recall: 0.9192 - accuracy: 0.9289 - loss: 0.2307 - val_Precision: 0.9295 - val_Recall: 0.9385 - val_accuracy: 0.9336 - val_loss: 0.2329\n",
      "Epoch 47/50\n",
      "\u001b[1m386/386\u001b[0m \u001b[32m━━━━━━━━━━━━━━━━━━━━\u001b[0m\u001b[37m\u001b[0m \u001b[1m0s\u001b[0m 998us/step - Precision: 0.9324 - Recall: 0.9146 - accuracy: 0.9258 - loss: 0.2302 - val_Precision: 0.9236 - val_Recall: 0.9307 - val_accuracy: 0.9268 - val_loss: 0.2343\n",
      "Epoch 48/50\n",
      "\u001b[1m386/386\u001b[0m \u001b[32m━━━━━━━━━━━━━━━━━━━━\u001b[0m\u001b[37m\u001b[0m \u001b[1m0s\u001b[0m 793us/step - Precision: 0.9356 - Recall: 0.9182 - accuracy: 0.9278 - loss: 0.2253 - val_Precision: 0.9181 - val_Recall: 0.9430 - val_accuracy: 0.9294 - val_loss: 0.2335\n",
      "Epoch 49/50\n",
      "\u001b[1m386/386\u001b[0m \u001b[32m━━━━━━━━━━━━━━━━━━━━\u001b[0m\u001b[37m\u001b[0m \u001b[1m0s\u001b[0m 829us/step - Precision: 0.9370 - Recall: 0.9182 - accuracy: 0.9279 - loss: 0.2268 - val_Precision: 0.9303 - val_Recall: 0.9411 - val_accuracy: 0.9353 - val_loss: 0.2296\n",
      "Epoch 50/50\n",
      "\u001b[1m386/386\u001b[0m \u001b[32m━━━━━━━━━━━━━━━━━━━━\u001b[0m\u001b[37m\u001b[0m \u001b[1m0s\u001b[0m 856us/step - Precision: 0.9395 - Recall: 0.9281 - accuracy: 0.9337 - loss: 0.2232 - val_Precision: 0.9400 - val_Recall: 0.9230 - val_accuracy: 0.9320 - val_loss: 0.2280\n"
     ]
    }
   ],
   "source": [
    "l1_model.compile(\n",
    "    optimizer=\"adam\",\n",
    "    loss=\"binary_crossentropy\",\n",
    "    metrics=[\"accuracy\", \"Precision\", \"Recall\"],\n",
    ") \n",
    "\n",
    "l1_model_fitted = l1_model.fit(\n",
    "    X_train,\n",
    "    y_train,\n",
    "    epochs=50,\n",
    "    batch_size=32,\n",
    "    validation_split=0.2,\n",
    "    callbacks=[early_stopping],\n",
    "    verbose=1,\n",
    ")"
   ]
  },
  {
   "cell_type": "code",
   "execution_count": 259,
   "id": "2bc0cf17-9565-4936-8188-0e3759ff4d65",
   "metadata": {},
   "outputs": [
    {
     "name": "stdout",
     "output_type": "stream",
     "text": [
      "Epoch 1/100\n"
     ]
    },
    {
     "name": "stderr",
     "output_type": "stream",
     "text": [
      "C:\\Users\\gnond\\anaconda3\\Lib\\site-packages\\keras\\src\\layers\\core\\dense.py:87: UserWarning: Do not pass an `input_shape`/`input_dim` argument to a layer. When using Sequential models, prefer using an `Input(shape)` object as the first layer in the model instead.\n",
      "  super().__init__(activity_regularizer=activity_regularizer, **kwargs)\n"
     ]
    },
    {
     "name": "stdout",
     "output_type": "stream",
     "text": [
      "\u001b[1m386/386\u001b[0m \u001b[32m━━━━━━━━━━━━━━━━━━━━\u001b[0m\u001b[37m\u001b[0m \u001b[1m2s\u001b[0m 2ms/step - Precision: 0.8756 - Recall: 0.6401 - accuracy: 0.7789 - loss: 0.8904 - val_Precision: 0.9347 - val_Recall: 0.7508 - val_accuracy: 0.8491 - val_loss: 0.4636\n",
      "Epoch 2/100\n",
      "\u001b[1m386/386\u001b[0m \u001b[32m━━━━━━━━━━━━━━━━━━━━\u001b[0m\u001b[37m\u001b[0m \u001b[1m0s\u001b[0m 851us/step - Precision: 0.9138 - Recall: 0.7793 - accuracy: 0.8534 - loss: 0.4298 - val_Precision: 0.8645 - val_Recall: 0.8175 - val_accuracy: 0.8446 - val_loss: 0.4044\n",
      "Epoch 3/100\n",
      "\u001b[1m386/386\u001b[0m \u001b[32m━━━━━━━━━━━━━━━━━━━━\u001b[0m\u001b[37m\u001b[0m \u001b[1m0s\u001b[0m 863us/step - Precision: 0.8976 - Recall: 0.8037 - accuracy: 0.8569 - loss: 0.3872 - val_Precision: 0.9094 - val_Recall: 0.7793 - val_accuracy: 0.8508 - val_loss: 0.3749\n",
      "Epoch 4/100\n",
      "\u001b[1m386/386\u001b[0m \u001b[32m━━━━━━━━━━━━━━━━━━━━\u001b[0m\u001b[37m\u001b[0m \u001b[1m0s\u001b[0m 861us/step - Precision: 0.9130 - Recall: 0.8140 - accuracy: 0.8679 - loss: 0.3596 - val_Precision: 0.9236 - val_Recall: 0.7663 - val_accuracy: 0.8514 - val_loss: 0.3672\n",
      "Epoch 5/100\n",
      "\u001b[1m386/386\u001b[0m \u001b[32m━━━━━━━━━━━━━━━━━━━━\u001b[0m\u001b[37m\u001b[0m \u001b[1m0s\u001b[0m 874us/step - Precision: 0.9023 - Recall: 0.8133 - accuracy: 0.8631 - loss: 0.3730 - val_Precision: 0.9083 - val_Recall: 0.7948 - val_accuracy: 0.8572 - val_loss: 0.3627\n",
      "Epoch 6/100\n",
      "\u001b[1m386/386\u001b[0m \u001b[32m━━━━━━━━━━━━━━━━━━━━\u001b[0m\u001b[37m\u001b[0m \u001b[1m0s\u001b[0m 888us/step - Precision: 0.9108 - Recall: 0.8134 - accuracy: 0.8667 - loss: 0.3550 - val_Precision: 0.9392 - val_Recall: 0.7605 - val_accuracy: 0.8556 - val_loss: 0.3526\n",
      "Epoch 7/100\n",
      "\u001b[1m386/386\u001b[0m \u001b[32m━━━━━━━━━━━━━━━━━━━━\u001b[0m\u001b[37m\u001b[0m \u001b[1m0s\u001b[0m 959us/step - Precision: 0.9133 - Recall: 0.8260 - accuracy: 0.8729 - loss: 0.3394 - val_Precision: 0.9049 - val_Recall: 0.8252 - val_accuracy: 0.8692 - val_loss: 0.3410\n",
      "Epoch 8/100\n",
      "\u001b[1m386/386\u001b[0m \u001b[32m━━━━━━━━━━━━━━━━━━━━\u001b[0m\u001b[37m\u001b[0m \u001b[1m0s\u001b[0m 881us/step - Precision: 0.9051 - Recall: 0.8167 - accuracy: 0.8655 - loss: 0.3468 - val_Precision: 0.8605 - val_Recall: 0.8945 - val_accuracy: 0.8747 - val_loss: 0.3473\n",
      "Epoch 9/100\n",
      "\u001b[1m386/386\u001b[0m \u001b[32m━━━━━━━━━━━━━━━━━━━━\u001b[0m\u001b[37m\u001b[0m \u001b[1m0s\u001b[0m 890us/step - Precision: 0.9102 - Recall: 0.8320 - accuracy: 0.8755 - loss: 0.3391 - val_Precision: 0.9354 - val_Recall: 0.7780 - val_accuracy: 0.8621 - val_loss: 0.3373\n",
      "Epoch 10/100\n",
      "\u001b[1m386/386\u001b[0m \u001b[32m━━━━━━━━━━━━━━━━━━━━\u001b[0m\u001b[37m\u001b[0m \u001b[1m0s\u001b[0m 849us/step - Precision: 0.9133 - Recall: 0.8233 - accuracy: 0.8742 - loss: 0.3257 - val_Precision: 0.9010 - val_Recall: 0.8369 - val_accuracy: 0.8725 - val_loss: 0.3301\n",
      "Epoch 11/100\n",
      "\u001b[1m386/386\u001b[0m \u001b[32m━━━━━━━━━━━━━━━━━━━━\u001b[0m\u001b[37m\u001b[0m \u001b[1m0s\u001b[0m 844us/step - Precision: 0.9160 - Recall: 0.8239 - accuracy: 0.8756 - loss: 0.3324 - val_Precision: 0.9464 - val_Recall: 0.7883 - val_accuracy: 0.8718 - val_loss: 0.3297\n",
      "Epoch 12/100\n",
      "\u001b[1m386/386\u001b[0m \u001b[32m━━━━━━━━━━━━━━━━━━━━\u001b[0m\u001b[37m\u001b[0m \u001b[1m0s\u001b[0m 1ms/step - Precision: 0.9168 - Recall: 0.8289 - accuracy: 0.8797 - loss: 0.3202 - val_Precision: 0.9184 - val_Recall: 0.8155 - val_accuracy: 0.8715 - val_loss: 0.3242\n",
      "Epoch 13/100\n",
      "\u001b[1m386/386\u001b[0m \u001b[32m━━━━━━━━━━━━━━━━━━━━\u001b[0m\u001b[37m\u001b[0m \u001b[1m0s\u001b[0m 873us/step - Precision: 0.9144 - Recall: 0.8268 - accuracy: 0.8776 - loss: 0.3222 - val_Precision: 0.8965 - val_Recall: 0.8524 - val_accuracy: 0.8770 - val_loss: 0.3238\n",
      "Epoch 14/100\n",
      "\u001b[1m386/386\u001b[0m \u001b[32m━━━━━━━━━━━━━━━━━━━━\u001b[0m\u001b[37m\u001b[0m \u001b[1m0s\u001b[0m 869us/step - Precision: 0.9170 - Recall: 0.8339 - accuracy: 0.8801 - loss: 0.3234 - val_Precision: 0.9211 - val_Recall: 0.8239 - val_accuracy: 0.8767 - val_loss: 0.3179\n",
      "Epoch 15/100\n",
      "\u001b[1m386/386\u001b[0m \u001b[32m━━━━━━━━━━━━━━━━━━━━\u001b[0m\u001b[37m\u001b[0m \u001b[1m0s\u001b[0m 1ms/step - Precision: 0.9190 - Recall: 0.8401 - accuracy: 0.8837 - loss: 0.3145 - val_Precision: 0.9052 - val_Recall: 0.8524 - val_accuracy: 0.8815 - val_loss: 0.3170\n",
      "Epoch 16/100\n",
      "\u001b[1m386/386\u001b[0m \u001b[32m━━━━━━━━━━━━━━━━━━━━\u001b[0m\u001b[37m\u001b[0m \u001b[1m0s\u001b[0m 848us/step - Precision: 0.9182 - Recall: 0.8497 - accuracy: 0.8858 - loss: 0.3144 - val_Precision: 0.9217 - val_Recall: 0.8304 - val_accuracy: 0.8799 - val_loss: 0.3137\n",
      "Epoch 17/100\n",
      "\u001b[1m386/386\u001b[0m \u001b[32m━━━━━━━━━━━━━━━━━━━━\u001b[0m\u001b[37m\u001b[0m \u001b[1m0s\u001b[0m 993us/step - Precision: 0.9196 - Recall: 0.8340 - accuracy: 0.8817 - loss: 0.3149 - val_Precision: 0.9107 - val_Recall: 0.8511 - val_accuracy: 0.8838 - val_loss: 0.3113\n",
      "Epoch 18/100\n",
      "\u001b[1m386/386\u001b[0m \u001b[32m━━━━━━━━━━━━━━━━━━━━\u001b[0m\u001b[37m\u001b[0m \u001b[1m0s\u001b[0m 841us/step - Precision: 0.9226 - Recall: 0.8420 - accuracy: 0.8859 - loss: 0.3137 - val_Precision: 0.9397 - val_Recall: 0.7968 - val_accuracy: 0.8728 - val_loss: 0.3229\n",
      "Epoch 19/100\n",
      "\u001b[1m386/386\u001b[0m \u001b[32m━━━━━━━━━━━━━━━━━━━━\u001b[0m\u001b[37m\u001b[0m \u001b[1m0s\u001b[0m 1ms/step - Precision: 0.9228 - Recall: 0.8372 - accuracy: 0.8843 - loss: 0.3076 - val_Precision: 0.9028 - val_Recall: 0.8718 - val_accuracy: 0.8890 - val_loss: 0.3089\n",
      "Epoch 20/100\n",
      "\u001b[1m386/386\u001b[0m \u001b[32m━━━━━━━━━━━━━━━━━━━━\u001b[0m\u001b[37m\u001b[0m \u001b[1m0s\u001b[0m 1ms/step - Precision: 0.9173 - Recall: 0.8553 - accuracy: 0.8876 - loss: 0.3124 - val_Precision: 0.9127 - val_Recall: 0.8395 - val_accuracy: 0.8796 - val_loss: 0.3062\n",
      "Epoch 21/100\n",
      "\u001b[1m386/386\u001b[0m \u001b[32m━━━━━━━━━━━━━━━━━━━━\u001b[0m\u001b[37m\u001b[0m \u001b[1m0s\u001b[0m 1ms/step - Precision: 0.9188 - Recall: 0.8486 - accuracy: 0.8864 - loss: 0.3016 - val_Precision: 0.9104 - val_Recall: 0.8686 - val_accuracy: 0.8916 - val_loss: 0.3051\n",
      "Epoch 22/100\n",
      "\u001b[1m386/386\u001b[0m \u001b[32m━━━━━━━━━━━━━━━━━━━━\u001b[0m\u001b[37m\u001b[0m \u001b[1m0s\u001b[0m 1ms/step - Precision: 0.9230 - Recall: 0.8472 - accuracy: 0.8875 - loss: 0.3026 - val_Precision: 0.9261 - val_Recall: 0.8434 - val_accuracy: 0.8880 - val_loss: 0.3037\n",
      "Epoch 23/100\n",
      "\u001b[1m386/386\u001b[0m \u001b[32m━━━━━━━━━━━━━━━━━━━━\u001b[0m\u001b[37m\u001b[0m \u001b[1m0s\u001b[0m 998us/step - Precision: 0.9236 - Recall: 0.8508 - accuracy: 0.8914 - loss: 0.2995 - val_Precision: 0.9143 - val_Recall: 0.8421 - val_accuracy: 0.8815 - val_loss: 0.3081\n",
      "Epoch 24/100\n",
      "\u001b[1m386/386\u001b[0m \u001b[32m━━━━━━━━━━━━━━━━━━━━\u001b[0m\u001b[37m\u001b[0m \u001b[1m0s\u001b[0m 1ms/step - Precision: 0.9241 - Recall: 0.8547 - accuracy: 0.8907 - loss: 0.2984 - val_Precision: 0.8957 - val_Recall: 0.8783 - val_accuracy: 0.8880 - val_loss: 0.3068\n",
      "Epoch 25/100\n",
      "\u001b[1m386/386\u001b[0m \u001b[32m━━━━━━━━━━━━━━━━━━━━\u001b[0m\u001b[37m\u001b[0m \u001b[1m0s\u001b[0m 1ms/step - Precision: 0.9253 - Recall: 0.8644 - accuracy: 0.8981 - loss: 0.2930 - val_Precision: 0.9547 - val_Recall: 0.7916 - val_accuracy: 0.8770 - val_loss: 0.3153\n",
      "Epoch 26/100\n",
      "\u001b[1m386/386\u001b[0m \u001b[32m━━━━━━━━━━━━━━━━━━━━\u001b[0m\u001b[37m\u001b[0m \u001b[1m0s\u001b[0m 874us/step - Precision: 0.9283 - Recall: 0.8474 - accuracy: 0.8906 - loss: 0.3000 - val_Precision: 0.9386 - val_Recall: 0.8317 - val_accuracy: 0.8886 - val_loss: 0.2970\n",
      "Epoch 27/100\n",
      "\u001b[1m386/386\u001b[0m \u001b[32m━━━━━━━━━━━━━━━━━━━━\u001b[0m\u001b[37m\u001b[0m \u001b[1m0s\u001b[0m 858us/step - Precision: 0.9220 - Recall: 0.8606 - accuracy: 0.8942 - loss: 0.2974 - val_Precision: 0.9286 - val_Recall: 0.8252 - val_accuracy: 0.8809 - val_loss: 0.3050\n",
      "Epoch 28/100\n",
      "\u001b[1m386/386\u001b[0m \u001b[32m━━━━━━━━━━━━━━━━━━━━\u001b[0m\u001b[37m\u001b[0m \u001b[1m1s\u001b[0m 1ms/step - Precision: 0.9299 - Recall: 0.8558 - accuracy: 0.8952 - loss: 0.2982 - val_Precision: 0.9099 - val_Recall: 0.8764 - val_accuracy: 0.8948 - val_loss: 0.2956\n",
      "Epoch 29/100\n",
      "\u001b[1m386/386\u001b[0m \u001b[32m━━━━━━━━━━━━━━━━━━━━\u001b[0m\u001b[37m\u001b[0m \u001b[1m0s\u001b[0m 988us/step - Precision: 0.9248 - Recall: 0.8646 - accuracy: 0.8964 - loss: 0.2899 - val_Precision: 0.9293 - val_Recall: 0.8421 - val_accuracy: 0.8890 - val_loss: 0.3000\n",
      "Epoch 30/100\n",
      "\u001b[1m386/386\u001b[0m \u001b[32m━━━━━━━━━━━━━━━━━━━━\u001b[0m\u001b[37m\u001b[0m \u001b[1m0s\u001b[0m 1ms/step - Precision: 0.9284 - Recall: 0.8612 - accuracy: 0.8980 - loss: 0.2902 - val_Precision: 0.9196 - val_Recall: 0.8583 - val_accuracy: 0.8916 - val_loss: 0.2925\n"
     ]
    }
   ],
   "source": [
    "l2_model = Sequential()\n",
    "l2_model.add(\n",
    "    Dense(\n",
    "        64,\n",
    "        activation=\"relu\",\n",
    "        input_shape=(X_train.shape[1],),\n",
    "        kernel_regularizer=l2(0.01),\n",
    "    )\n",
    ")\n",
    "l2_model.add(Dense(32, activation=\"relu\", kernel_regularizer=l2(0.01)))\n",
    "l2_model.add(Dense(1, activation=\"sigmoid\"))\n",
    "\n",
    "l2_model.compile(\n",
    "    optimizer=\"adam\",\n",
    "    loss=\"binary_crossentropy\",\n",
    "    metrics=[\"accuracy\", \"Precision\", \"Recall\"],\n",
    ") \n",
    "l2_model_fitted = l2_model.fit(\n",
    "    X_train,\n",
    "    y_train,\n",
    "    epochs=100,\n",
    "    batch_size=32,\n",
    "    validation_split=0.2,\n",
    "    callbacks=[early_stopping],\n",
    "    verbose=1,\n",
    ")"
   ]
  },
  {
   "cell_type": "code",
   "execution_count": 262,
   "id": "96e80833-a7a4-49aa-8253-e7a93640047d",
   "metadata": {},
   "outputs": [],
   "source": [
    "from joblib import dump\n",
    "dump(l1_model, 'l1_model.pkl')\n",
    "l2_model.save(\"models/l2.keras\")"
   ]
  },
  {
   "cell_type": "code",
   "execution_count": 264,
   "id": "1f551956-1bbb-4df2-8a83-7325c6bba660",
   "metadata": {},
   "outputs": [
    {
     "name": "stdout",
     "output_type": "stream",
     "text": [
      "L1 Model Evaluation\n"
     ]
    },
    {
     "data": {
      "image/png": "[encoded data removed]",
      "text/plain": [
       "<Figure size 640x480 with 1 Axes>"
      ]
     },
     "metadata": {},
     "output_type": "display_data"
    },
    {
     "name": "stdout",
     "output_type": "stream",
     "text": [
      "L2 Model Evaluation\n"
     ]
    },
    {
     "data": {
      "image/png": "[encoded data removed]",
      "text/plain": [
       "<Figure size 640x480 with 1 Axes>"
      ]
     },
     "metadata": {},
     "output_type": "display_data"
    }
   ],
   "source": [
    "print(\"L1 Model Evaluation\")\n",
    "plt.plot(l1_model_fitted.history[\"loss\"], label=\"Train Loss\")\n",
    "plt.plot(l1_model_fitted.history[\"val_loss\"], label=\"Val Loss\")\n",
    "plt.title(\"Model Loss\")\n",
    "plt.ylabel(\"Loss\")\n",
    "plt.xlabel(\"Epoch\")\n",
    "plt.legend(loc=\"upper right\")\n",
    "plt.show()\n",
    "\n",
    "print(\"L2 Model Evaluation\")\n",
    "plt.plot(l2_model_fitted.history[\"loss\"], label=\"Train Loss\")\n",
    "plt.plot(l2_model_fitted.history[\"val_loss\"], label=\"Val Loss\")\n",
    "plt.title(\"Model Loss\")\n",
    "plt.ylabel(\"Loss\")\n",
    "plt.xlabel(\"Epoch\")\n",
    "plt.legend(loc=\"upper right\")\n",
    "plt.show()"
   ]
  },
  {
   "cell_type": "code",
   "execution_count": 308,
   "id": "1d51b3cc-8102-4742-b213-30c5fec40e08",
   "metadata": {},
   "outputs": [],
   "source": [
    "from keras.models import Sequential\n",
    "from keras.layers import Dense, Dropout, Input\n",
    "from keras.regularizers import l1, l2\n",
    "\n",
    "model2 = Sequential(\n",
    "    [\n",
    "        Input(shape=(X_train.shape[1],)),\n",
    "        Dense(64, activation=\"relu\", kernel_regularizer=l2(0.01)),\n",
    "        Dropout(0.4),\n",
    "        Dense(32, activation=\"relu\", kernel_regularizer=l1(0.01)),\n",
    "        Dense(32, activation=\"relu\", kernel_regularizer=l2(0.01)),\n",
    "        Dropout(0.4),\n",
    "        Dense(1, activation=\"sigmoid\"),\n",
    "    ]\n",
    ")"
   ]
  },
  {
   "cell_type": "code",
   "execution_count": 310,
   "id": "314654b9-fa85-4ed0-9b8c-257efa010fc4",
   "metadata": {},
   "outputs": [],
   "source": [
    "from sklearn.utils import class_weight\n",
    "import numpy as np\n",
    "class_weights = class_weight.compute_class_weight('balanced', classes=np.unique(y_train), y=y_train)\n",
    "class_weights = {0: class_weights[0], 1: class_weights[1]}"
   ]
  },
  {
   "cell_type": "markdown",
   "id": "c3677348-ec2a-4df6-95c8-65cdf05d8a60",
   "metadata": {},
   "source": [
    "Compiling the model"
   ]
  },
  {
   "cell_type": "code",
   "execution_count": 313,
   "id": "603329cf-7be2-4631-96b9-66b77f69d3cb",
   "metadata": {},
   "outputs": [],
   "source": [
    "from keras.optimizers import Adam\n",
    "model.compile(optimizer='adamax',\n",
    "              loss='binary_crossentropy',\n",
    "              metrics=['accuracy'])\n",
    "es = EarlyStopping(\n",
    "    monitor=\"val_loss\", patience=50, verbose=2, mode=\"auto\"\n",
    ")"
   ]
  },
  {
   "cell_type": "markdown",
   "id": "c291275a-e7da-4355-aadd-9f0e4a402651",
   "metadata": {},
   "source": [
    "Trainning"
   ]
  },
  {
   "cell_type": "code",
   "execution_count": 316,
   "id": "f9507966-165c-4f7c-a220-edb603a3194c",
   "metadata": {},
   "outputs": [
    {
     "name": "stdout",
     "output_type": "stream",
     "text": [
      "<class 'pandas.core.frame.DataFrame'> <class 'pandas.core.series.Series'>\n",
      "(15441, 9) (15441,)\n"
     ]
    }
   ],
   "source": [
    "print(type(X_train), type(y_train))\n",
    "print(X_train.shape, y_train.shape)"
   ]
  },
  {
   "cell_type": "code",
   "execution_count": 318,
   "id": "82861a6b-cbf1-4062-a6b4-772ec4efdd7a",
   "metadata": {},
   "outputs": [
    {
     "name": "stdout",
     "output_type": "stream",
     "text": [
      "Epoch 1/150\n",
      "\u001b[1m386/386\u001b[0m \u001b[32m━━━━━━━━━━━━━━━━━━━━\u001b[0m\u001b[37m\u001b[0m \u001b[1m1s\u001b[0m 1ms/step - accuracy: 0.8600 - loss: 0.4060 - val_accuracy: 0.8637 - val_loss: 0.3700 - learning_rate: 0.0010\n",
      "Epoch 2/150\n",
      "\u001b[1m386/386\u001b[0m \u001b[32m━━━━━━━━━━━━━━━━━━━━\u001b[0m\u001b[37m\u001b[0m \u001b[1m0s\u001b[0m 757us/step - accuracy: 0.8579 - loss: 0.4103 - val_accuracy: 0.8637 - val_loss: 0.3687 - learning_rate: 0.0010\n",
      "Epoch 3/150\n",
      "\u001b[1m386/386\u001b[0m \u001b[32m━━━━━━━━━━━━━━━━━━━━\u001b[0m\u001b[37m\u001b[0m \u001b[1m0s\u001b[0m 827us/step - accuracy: 0.8646 - loss: 0.4043 - val_accuracy: 0.8663 - val_loss: 0.3684 - learning_rate: 0.0010\n",
      "Epoch 4/150\n",
      "\u001b[1m386/386\u001b[0m \u001b[32m━━━━━━━━━━━━━━━━━━━━\u001b[0m\u001b[37m\u001b[0m \u001b[1m0s\u001b[0m 763us/step - accuracy: 0.8640 - loss: 0.3996 - val_accuracy: 0.8650 - val_loss: 0.3686 - learning_rate: 0.0010\n",
      "Epoch 5/150\n",
      "\u001b[1m386/386\u001b[0m \u001b[32m━━━━━━━━━━━━━━━━━━━━\u001b[0m\u001b[37m\u001b[0m \u001b[1m0s\u001b[0m 915us/step - accuracy: 0.8618 - loss: 0.4055 - val_accuracy: 0.8669 - val_loss: 0.3695 - learning_rate: 0.0010\n",
      "Epoch 6/150\n",
      "\u001b[1m386/386\u001b[0m \u001b[32m━━━━━━━━━━━━━━━━━━━━\u001b[0m\u001b[37m\u001b[0m \u001b[1m0s\u001b[0m 805us/step - accuracy: 0.8638 - loss: 0.4024 - val_accuracy: 0.8647 - val_loss: 0.3687 - learning_rate: 0.0010\n",
      "Epoch 7/150\n",
      "\u001b[1m386/386\u001b[0m \u001b[32m━━━━━━━━━━━━━━━━━━━━\u001b[0m\u001b[37m\u001b[0m \u001b[1m0s\u001b[0m 761us/step - accuracy: 0.8613 - loss: 0.4140 - val_accuracy: 0.8653 - val_loss: 0.3689 - learning_rate: 0.0010\n",
      "Epoch 8/150\n",
      "\u001b[1m386/386\u001b[0m \u001b[32m━━━━━━━━━━━━━━━━━━━━\u001b[0m\u001b[37m\u001b[0m \u001b[1m0s\u001b[0m 828us/step - accuracy: 0.8640 - loss: 0.3945 - val_accuracy: 0.8657 - val_loss: 0.3702 - learning_rate: 2.0000e-04\n",
      "Epoch 9/150\n",
      "\u001b[1m386/386\u001b[0m \u001b[32m━━━━━━━━━━━━━━━━━━━━\u001b[0m\u001b[37m\u001b[0m \u001b[1m0s\u001b[0m 770us/step - accuracy: 0.8682 - loss: 0.3939 - val_accuracy: 0.8663 - val_loss: 0.3678 - learning_rate: 2.0000e-04\n",
      "Epoch 10/150\n",
      "\u001b[1m386/386\u001b[0m \u001b[32m━━━━━━━━━━━━━━━━━━━━\u001b[0m\u001b[37m\u001b[0m \u001b[1m0s\u001b[0m 805us/step - accuracy: 0.8685 - loss: 0.3976 - val_accuracy: 0.8663 - val_loss: 0.3667 - learning_rate: 2.0000e-04\n",
      "Epoch 11/150\n",
      "\u001b[1m386/386\u001b[0m \u001b[32m━━━━━━━━━━━━━━━━━━━━\u001b[0m\u001b[37m\u001b[0m \u001b[1m0s\u001b[0m 769us/step - accuracy: 0.8640 - loss: 0.3996 - val_accuracy: 0.8660 - val_loss: 0.3668 - learning_rate: 2.0000e-04\n",
      "Epoch 12/150\n",
      "\u001b[1m386/386\u001b[0m \u001b[32m━━━━━━━━━━━━━━━━━━━━\u001b[0m\u001b[37m\u001b[0m \u001b[1m0s\u001b[0m 785us/step - accuracy: 0.8675 - loss: 0.4019 - val_accuracy: 0.8673 - val_loss: 0.3665 - learning_rate: 2.0000e-04\n",
      "Epoch 13/150\n",
      "\u001b[1m386/386\u001b[0m \u001b[32m━━━━━━━━━━━━━━━━━━━━\u001b[0m\u001b[37m\u001b[0m \u001b[1m0s\u001b[0m 840us/step - accuracy: 0.8674 - loss: 0.4113 - val_accuracy: 0.8663 - val_loss: 0.3665 - learning_rate: 2.0000e-04\n",
      "Epoch 14/150\n",
      "\u001b[1m386/386\u001b[0m \u001b[32m━━━━━━━━━━━━━━━━━━━━\u001b[0m\u001b[37m\u001b[0m \u001b[1m0s\u001b[0m 760us/step - accuracy: 0.8651 - loss: 0.4075 - val_accuracy: 0.8647 - val_loss: 0.3660 - learning_rate: 2.0000e-04\n",
      "Epoch 15/150\n",
      "\u001b[1m386/386\u001b[0m \u001b[32m━━━━━━━━━━━━━━━━━━━━\u001b[0m\u001b[37m\u001b[0m \u001b[1m0s\u001b[0m 786us/step - accuracy: 0.8630 - loss: 0.3930 - val_accuracy: 0.8673 - val_loss: 0.3658 - learning_rate: 2.0000e-04\n",
      "Epoch 16/150\n",
      "\u001b[1m386/386\u001b[0m \u001b[32m━━━━━━━━━━━━━━━━━━━━\u001b[0m\u001b[37m\u001b[0m \u001b[1m0s\u001b[0m 836us/step - accuracy: 0.8604 - loss: 0.4013 - val_accuracy: 0.8669 - val_loss: 0.3659 - learning_rate: 2.0000e-04\n",
      "Epoch 17/150\n",
      "\u001b[1m386/386\u001b[0m \u001b[32m━━━━━━━━━━━━━━━━━━━━\u001b[0m\u001b[37m\u001b[0m \u001b[1m0s\u001b[0m 781us/step - accuracy: 0.8576 - loss: 0.4024 - val_accuracy: 0.8673 - val_loss: 0.3661 - learning_rate: 2.0000e-04\n",
      "Epoch 18/150\n",
      "\u001b[1m386/386\u001b[0m \u001b[32m━━━━━━━━━━━━━━━━━━━━\u001b[0m\u001b[37m\u001b[0m \u001b[1m0s\u001b[0m 785us/step - accuracy: 0.8610 - loss: 0.3981 - val_accuracy: 0.8660 - val_loss: 0.3663 - learning_rate: 2.0000e-04\n",
      "Epoch 19/150\n",
      "\u001b[1m386/386\u001b[0m \u001b[32m━━━━━━━━━━━━━━━━━━━━\u001b[0m\u001b[37m\u001b[0m \u001b[1m0s\u001b[0m 816us/step - accuracy: 0.8654 - loss: 0.3925 - val_accuracy: 0.8663 - val_loss: 0.3661 - learning_rate: 2.0000e-04\n",
      "Epoch 20/150\n",
      "\u001b[1m386/386\u001b[0m \u001b[32m━━━━━━━━━━━━━━━━━━━━\u001b[0m\u001b[37m\u001b[0m \u001b[1m0s\u001b[0m 775us/step - accuracy: 0.8685 - loss: 0.4003 - val_accuracy: 0.8666 - val_loss: 0.3659 - learning_rate: 1.0000e-04\n",
      "Epoch 21/150\n",
      "\u001b[1m386/386\u001b[0m \u001b[32m━━━━━━━━━━━━━━━━━━━━\u001b[0m\u001b[37m\u001b[0m \u001b[1m0s\u001b[0m 789us/step - accuracy: 0.8653 - loss: 0.3928 - val_accuracy: 0.8663 - val_loss: 0.3655 - learning_rate: 1.0000e-04\n",
      "Epoch 22/150\n",
      "\u001b[1m386/386\u001b[0m \u001b[32m━━━━━━━━━━━━━━━━━━━━\u001b[0m\u001b[37m\u001b[0m \u001b[1m0s\u001b[0m 940us/step - accuracy: 0.8628 - loss: 0.3952 - val_accuracy: 0.8669 - val_loss: 0.3658 - learning_rate: 1.0000e-04\n",
      "Epoch 23/150\n",
      "\u001b[1m386/386\u001b[0m \u001b[32m━━━━━━━━━━━━━━━━━━━━\u001b[0m\u001b[37m\u001b[0m \u001b[1m0s\u001b[0m 799us/step - accuracy: 0.8676 - loss: 0.3859 - val_accuracy: 0.8669 - val_loss: 0.3658 - learning_rate: 1.0000e-04\n",
      "Epoch 24/150\n",
      "\u001b[1m386/386\u001b[0m \u001b[32m━━━━━━━━━━━━━━━━━━━━\u001b[0m\u001b[37m\u001b[0m \u001b[1m0s\u001b[0m 784us/step - accuracy: 0.8626 - loss: 0.4020 - val_accuracy: 0.8686 - val_loss: 0.3656 - learning_rate: 1.0000e-04\n",
      "Epoch 25/150\n",
      "\u001b[1m386/386\u001b[0m \u001b[32m━━━━━━━━━━━━━━━━━━━━\u001b[0m\u001b[37m\u001b[0m \u001b[1m0s\u001b[0m 773us/step - accuracy: 0.8670 - loss: 0.3938 - val_accuracy: 0.8679 - val_loss: 0.3656 - learning_rate: 1.0000e-04\n",
      "Epoch 26/150\n",
      "\u001b[1m386/386\u001b[0m \u001b[32m━━━━━━━━━━━━━━━━━━━━\u001b[0m\u001b[37m\u001b[0m \u001b[1m0s\u001b[0m 838us/step - accuracy: 0.8673 - loss: 0.4034 - val_accuracy: 0.8676 - val_loss: 0.3655 - learning_rate: 1.0000e-04\n",
      "Epoch 27/150\n",
      "\u001b[1m386/386\u001b[0m \u001b[32m━━━━━━━━━━━━━━━━━━━━\u001b[0m\u001b[37m\u001b[0m \u001b[1m0s\u001b[0m 806us/step - accuracy: 0.8664 - loss: 0.3889 - val_accuracy: 0.8673 - val_loss: 0.3656 - learning_rate: 1.0000e-04\n",
      "Epoch 28/150\n",
      "\u001b[1m386/386\u001b[0m \u001b[32m━━━━━━━━━━━━━━━━━━━━\u001b[0m\u001b[37m\u001b[0m \u001b[1m0s\u001b[0m 807us/step - accuracy: 0.8703 - loss: 0.3983 - val_accuracy: 0.8669 - val_loss: 0.3658 - learning_rate: 1.0000e-04\n",
      "Epoch 29/150\n",
      "\u001b[1m386/386\u001b[0m \u001b[32m━━━━━━━━━━━━━━━━━━━━\u001b[0m\u001b[37m\u001b[0m \u001b[1m0s\u001b[0m 936us/step - accuracy: 0.8629 - loss: 0.3919 - val_accuracy: 0.8679 - val_loss: 0.3657 - learning_rate: 1.0000e-04\n",
      "Epoch 30/150\n",
      "\u001b[1m386/386\u001b[0m \u001b[32m━━━━━━━━━━━━━━━━━━━━\u001b[0m\u001b[37m\u001b[0m \u001b[1m0s\u001b[0m 881us/step - accuracy: 0.8642 - loss: 0.3895 - val_accuracy: 0.8663 - val_loss: 0.3654 - learning_rate: 1.0000e-04\n",
      "Epoch 31/150\n",
      "\u001b[1m386/386\u001b[0m \u001b[32m━━━━━━━━━━━━━━━━━━━━\u001b[0m\u001b[37m\u001b[0m \u001b[1m0s\u001b[0m 859us/step - accuracy: 0.8681 - loss: 0.3982 - val_accuracy: 0.8663 - val_loss: 0.3656 - learning_rate: 1.0000e-04\n",
      "Epoch 32/150\n",
      "\u001b[1m386/386\u001b[0m \u001b[32m━━━━━━━━━━━━━━━━━━━━\u001b[0m\u001b[37m\u001b[0m \u001b[1m1s\u001b[0m 1ms/step - accuracy: 0.8680 - loss: 0.3912 - val_accuracy: 0.8686 - val_loss: 0.3659 - learning_rate: 1.0000e-04\n",
      "Epoch 33/150\n",
      "\u001b[1m386/386\u001b[0m \u001b[32m━━━━━━━━━━━━━━━━━━━━\u001b[0m\u001b[37m\u001b[0m \u001b[1m0s\u001b[0m 887us/step - accuracy: 0.8637 - loss: 0.3959 - val_accuracy: 0.8679 - val_loss: 0.3658 - learning_rate: 1.0000e-04\n",
      "Epoch 34/150\n",
      "\u001b[1m386/386\u001b[0m \u001b[32m━━━━━━━━━━━━━━━━━━━━\u001b[0m\u001b[37m\u001b[0m \u001b[1m0s\u001b[0m 1ms/step - accuracy: 0.8673 - loss: 0.4026 - val_accuracy: 0.8663 - val_loss: 0.3657 - learning_rate: 1.0000e-04\n",
      "Epoch 35/150\n",
      "\u001b[1m386/386\u001b[0m \u001b[32m━━━━━━━━━━━━━━━━━━━━\u001b[0m\u001b[37m\u001b[0m \u001b[1m0s\u001b[0m 909us/step - accuracy: 0.8615 - loss: 0.3959 - val_accuracy: 0.8666 - val_loss: 0.3655 - learning_rate: 1.0000e-04\n",
      "Epoch 36/150\n",
      "\u001b[1m386/386\u001b[0m \u001b[32m━━━━━━━━━━━━━━━━━━━━\u001b[0m\u001b[37m\u001b[0m \u001b[1m0s\u001b[0m 937us/step - accuracy: 0.8608 - loss: 0.4045 - val_accuracy: 0.8673 - val_loss: 0.3654 - learning_rate: 1.0000e-04\n",
      "Epoch 37/150\n",
      "\u001b[1m386/386\u001b[0m \u001b[32m━━━━━━━━━━━━━━━━━━━━\u001b[0m\u001b[37m\u001b[0m \u001b[1m0s\u001b[0m 1ms/step - accuracy: 0.8669 - loss: 0.3937 - val_accuracy: 0.8679 - val_loss: 0.3653 - learning_rate: 1.0000e-04\n",
      "Epoch 38/150\n",
      "\u001b[1m386/386\u001b[0m \u001b[32m━━━━━━━━━━━━━━━━━━━━\u001b[0m\u001b[37m\u001b[0m \u001b[1m0s\u001b[0m 1ms/step - accuracy: 0.8725 - loss: 0.3991 - val_accuracy: 0.8679 - val_loss: 0.3654 - learning_rate: 1.0000e-04\n",
      "Epoch 39/150\n",
      "\u001b[1m386/386\u001b[0m \u001b[32m━━━━━━━━━━━━━━━━━━━━\u001b[0m\u001b[37m\u001b[0m \u001b[1m0s\u001b[0m 934us/step - accuracy: 0.8699 - loss: 0.3855 - val_accuracy: 0.8657 - val_loss: 0.3650 - learning_rate: 1.0000e-04\n",
      "Epoch 40/150\n",
      "\u001b[1m386/386\u001b[0m \u001b[32m━━━━━━━━━━━━━━━━━━━━\u001b[0m\u001b[37m\u001b[0m \u001b[1m0s\u001b[0m 1ms/step - accuracy: 0.8634 - loss: 0.4123 - val_accuracy: 0.8669 - val_loss: 0.3651 - learning_rate: 1.0000e-04\n",
      "Epoch 41/150\n",
      "\u001b[1m386/386\u001b[0m \u001b[32m━━━━━━━━━━━━━━━━━━━━\u001b[0m\u001b[37m\u001b[0m \u001b[1m0s\u001b[0m 881us/step - accuracy: 0.8688 - loss: 0.3946 - val_accuracy: 0.8673 - val_loss: 0.3652 - learning_rate: 1.0000e-04\n",
      "Epoch 42/150\n",
      "\u001b[1m386/386\u001b[0m \u001b[32m━━━━━━━━━━━━━━━━━━━━\u001b[0m\u001b[37m\u001b[0m \u001b[1m0s\u001b[0m 899us/step - accuracy: 0.8655 - loss: 0.3907 - val_accuracy: 0.8666 - val_loss: 0.3650 - learning_rate: 1.0000e-04\n",
      "Epoch 43/150\n",
      "\u001b[1m386/386\u001b[0m \u001b[32m━━━━━━━━━━━━━━━━━━━━\u001b[0m\u001b[37m\u001b[0m \u001b[1m0s\u001b[0m 894us/step - accuracy: 0.8654 - loss: 0.3982 - val_accuracy: 0.8679 - val_loss: 0.3651 - learning_rate: 1.0000e-04\n",
      "Epoch 44/150\n",
      "\u001b[1m386/386\u001b[0m \u001b[32m━━━━━━━━━━━━━━━━━━━━\u001b[0m\u001b[37m\u001b[0m \u001b[1m0s\u001b[0m 880us/step - accuracy: 0.8656 - loss: 0.3976 - val_accuracy: 0.8686 - val_loss: 0.3651 - learning_rate: 1.0000e-04\n",
      "Epoch 45/150\n",
      "\u001b[1m386/386\u001b[0m \u001b[32m━━━━━━━━━━━━━━━━━━━━\u001b[0m\u001b[37m\u001b[0m \u001b[1m0s\u001b[0m 1ms/step - accuracy: 0.8666 - loss: 0.4030 - val_accuracy: 0.8676 - val_loss: 0.3648 - learning_rate: 1.0000e-04\n",
      "Epoch 46/150\n",
      "\u001b[1m386/386\u001b[0m \u001b[32m━━━━━━━━━━━━━━━━━━━━\u001b[0m\u001b[37m\u001b[0m \u001b[1m0s\u001b[0m 874us/step - accuracy: 0.8631 - loss: 0.3950 - val_accuracy: 0.8666 - val_loss: 0.3649 - learning_rate: 1.0000e-04\n",
      "Epoch 47/150\n",
      "\u001b[1m386/386\u001b[0m \u001b[32m━━━━━━━━━━━━━━━━━━━━\u001b[0m\u001b[37m\u001b[0m \u001b[1m0s\u001b[0m 869us/step - accuracy: 0.8656 - loss: 0.3922 - val_accuracy: 0.8676 - val_loss: 0.3651 - learning_rate: 1.0000e-04\n",
      "Epoch 48/150\n",
      "\u001b[1m386/386\u001b[0m \u001b[32m━━━━━━━━━━━━━━━━━━━━\u001b[0m\u001b[37m\u001b[0m \u001b[1m0s\u001b[0m 940us/step - accuracy: 0.8652 - loss: 0.3923 - val_accuracy: 0.8676 - val_loss: 0.3649 - learning_rate: 1.0000e-04\n",
      "Epoch 49/150\n",
      "\u001b[1m386/386\u001b[0m \u001b[32m━━━━━━━━━━━━━━━━━━━━\u001b[0m\u001b[37m\u001b[0m \u001b[1m0s\u001b[0m 882us/step - accuracy: 0.8642 - loss: 0.4002 - val_accuracy: 0.8679 - val_loss: 0.3650 - learning_rate: 1.0000e-04\n",
      "Epoch 50/150\n",
      "\u001b[1m386/386\u001b[0m \u001b[32m━━━━━━━━━━━━━━━━━━━━\u001b[0m\u001b[37m\u001b[0m \u001b[1m0s\u001b[0m 1ms/step - accuracy: 0.8703 - loss: 0.3830 - val_accuracy: 0.8679 - val_loss: 0.3650 - learning_rate: 1.0000e-04\n",
      "Epoch 51/150\n",
      "\u001b[1m386/386\u001b[0m \u001b[32m━━━━━━━━━━━━━━━━━━━━\u001b[0m\u001b[37m\u001b[0m \u001b[1m0s\u001b[0m 906us/step - accuracy: 0.8686 - loss: 0.3928 - val_accuracy: 0.8673 - val_loss: 0.3649 - learning_rate: 1.0000e-04\n",
      "Epoch 52/150\n",
      "\u001b[1m386/386\u001b[0m \u001b[32m━━━━━━━━━━━━━━━━━━━━\u001b[0m\u001b[37m\u001b[0m \u001b[1m0s\u001b[0m 896us/step - accuracy: 0.8641 - loss: 0.3932 - val_accuracy: 0.8669 - val_loss: 0.3650 - learning_rate: 1.0000e-04\n",
      "Epoch 53/150\n",
      "\u001b[1m386/386\u001b[0m \u001b[32m━━━━━━━━━━━━━━━━━━━━\u001b[0m\u001b[37m\u001b[0m \u001b[1m0s\u001b[0m 894us/step - accuracy: 0.8625 - loss: 0.3947 - val_accuracy: 0.8669 - val_loss: 0.3647 - learning_rate: 1.0000e-04\n",
      "Epoch 54/150\n",
      "\u001b[1m386/386\u001b[0m \u001b[32m━━━━━━━━━━━━━━━━━━━━\u001b[0m\u001b[37m\u001b[0m \u001b[1m0s\u001b[0m 961us/step - accuracy: 0.8665 - loss: 0.3978 - val_accuracy: 0.8686 - val_loss: 0.3648 - learning_rate: 1.0000e-04\n",
      "Epoch 55/150\n",
      "\u001b[1m386/386\u001b[0m \u001b[32m━━━━━━━━━━━━━━━━━━━━\u001b[0m\u001b[37m\u001b[0m \u001b[1m0s\u001b[0m 909us/step - accuracy: 0.8680 - loss: 0.4007 - val_accuracy: 0.8676 - val_loss: 0.3647 - learning_rate: 1.0000e-04\n",
      "Epoch 56/150\n",
      "\u001b[1m386/386\u001b[0m \u001b[32m━━━━━━━━━━━━━━━━━━━━\u001b[0m\u001b[37m\u001b[0m \u001b[1m0s\u001b[0m 989us/step - accuracy: 0.8694 - loss: 0.3899 - val_accuracy: 0.8682 - val_loss: 0.3646 - learning_rate: 1.0000e-04\n",
      "Epoch 57/150\n",
      "\u001b[1m386/386\u001b[0m \u001b[32m━━━━━━━━━━━━━━━━━━━━\u001b[0m\u001b[37m\u001b[0m \u001b[1m0s\u001b[0m 973us/step - accuracy: 0.8704 - loss: 0.3891 - val_accuracy: 0.8673 - val_loss: 0.3646 - learning_rate: 1.0000e-04\n",
      "Epoch 58/150\n",
      "\u001b[1m386/386\u001b[0m \u001b[32m━━━━━━━━━━━━━━━━━━━━\u001b[0m\u001b[37m\u001b[0m \u001b[1m0s\u001b[0m 874us/step - accuracy: 0.8667 - loss: 0.4016 - val_accuracy: 0.8673 - val_loss: 0.3647 - learning_rate: 1.0000e-04\n",
      "Epoch 59/150\n",
      "\u001b[1m386/386\u001b[0m \u001b[32m━━━━━━━━━━━━━━━━━━━━\u001b[0m\u001b[37m\u001b[0m \u001b[1m1s\u001b[0m 1ms/step - accuracy: 0.8725 - loss: 0.3920 - val_accuracy: 0.8679 - val_loss: 0.3646 - learning_rate: 1.0000e-04\n",
      "Epoch 60/150\n",
      "\u001b[1m386/386\u001b[0m \u001b[32m━━━━━━━━━━━━━━━━━━━━\u001b[0m\u001b[37m\u001b[0m \u001b[1m0s\u001b[0m 1ms/step - accuracy: 0.8586 - loss: 0.4008 - val_accuracy: 0.8663 - val_loss: 0.3642 - learning_rate: 1.0000e-04\n",
      "Epoch 61/150\n",
      "\u001b[1m386/386\u001b[0m \u001b[32m━━━━━━━━━━━━━━━━━━━━\u001b[0m\u001b[37m\u001b[0m \u001b[1m0s\u001b[0m 905us/step - accuracy: 0.8693 - loss: 0.3972 - val_accuracy: 0.8669 - val_loss: 0.3641 - learning_rate: 1.0000e-04\n",
      "Epoch 62/150\n",
      "\u001b[1m386/386\u001b[0m \u001b[32m━━━━━━━━━━━━━━━━━━━━\u001b[0m\u001b[37m\u001b[0m \u001b[1m0s\u001b[0m 951us/step - accuracy: 0.8670 - loss: 0.3945 - val_accuracy: 0.8686 - val_loss: 0.3644 - learning_rate: 1.0000e-04\n",
      "Epoch 63/150\n",
      "\u001b[1m386/386\u001b[0m \u001b[32m━━━━━━━━━━━━━━━━━━━━\u001b[0m\u001b[37m\u001b[0m \u001b[1m0s\u001b[0m 894us/step - accuracy: 0.8641 - loss: 0.3927 - val_accuracy: 0.8673 - val_loss: 0.3645 - learning_rate: 1.0000e-04\n",
      "Epoch 64/150\n",
      "\u001b[1m386/386\u001b[0m \u001b[32m━━━━━━━━━━━━━━━━━━━━\u001b[0m\u001b[37m\u001b[0m \u001b[1m0s\u001b[0m 884us/step - accuracy: 0.8679 - loss: 0.3935 - val_accuracy: 0.8666 - val_loss: 0.3648 - learning_rate: 1.0000e-04\n",
      "Epoch 65/150\n",
      "\u001b[1m386/386\u001b[0m \u001b[32m━━━━━━━━━━━━━━━━━━━━\u001b[0m\u001b[37m\u001b[0m \u001b[1m0s\u001b[0m 974us/step - accuracy: 0.8557 - loss: 0.4041 - val_accuracy: 0.8663 - val_loss: 0.3646 - learning_rate: 1.0000e-04\n",
      "Epoch 66/150\n",
      "\u001b[1m386/386\u001b[0m \u001b[32m━━━━━━━━━━━━━━━━━━━━\u001b[0m\u001b[37m\u001b[0m \u001b[1m0s\u001b[0m 978us/step - accuracy: 0.8678 - loss: 0.4005 - val_accuracy: 0.8679 - val_loss: 0.3645 - learning_rate: 1.0000e-04\n",
      "Epoch 67/150\n",
      "\u001b[1m386/386\u001b[0m \u001b[32m━━━━━━━━━━━━━━━━━━━━\u001b[0m\u001b[37m\u001b[0m \u001b[1m0s\u001b[0m 878us/step - accuracy: 0.8640 - loss: 0.3983 - val_accuracy: 0.8669 - val_loss: 0.3646 - learning_rate: 1.0000e-04\n",
      "Epoch 68/150\n",
      "\u001b[1m386/386\u001b[0m \u001b[32m━━━━━━━━━━━━━━━━━━━━\u001b[0m\u001b[37m\u001b[0m \u001b[1m0s\u001b[0m 1ms/step - accuracy: 0.8677 - loss: 0.3941 - val_accuracy: 0.8686 - val_loss: 0.3647 - learning_rate: 1.0000e-04\n",
      "Epoch 69/150\n",
      "\u001b[1m386/386\u001b[0m \u001b[32m━━━━━━━━━━━━━━━━━━━━\u001b[0m\u001b[37m\u001b[0m \u001b[1m0s\u001b[0m 876us/step - accuracy: 0.8655 - loss: 0.3936 - val_accuracy: 0.8669 - val_loss: 0.3645 - learning_rate: 1.0000e-04\n",
      "Epoch 70/150\n",
      "\u001b[1m386/386\u001b[0m \u001b[32m━━━━━━━━━━━━━━━━━━━━\u001b[0m\u001b[37m\u001b[0m \u001b[1m0s\u001b[0m 892us/step - accuracy: 0.8642 - loss: 0.3999 - val_accuracy: 0.8692 - val_loss: 0.3644 - learning_rate: 1.0000e-04\n",
      "Epoch 71/150\n",
      "\u001b[1m313/386\u001b[0m \u001b[32m━━━━━━━━━━━━━━━━\u001b[0m\u001b[37m━━━━\u001b[0m \u001b[1m0s\u001b[0m 811us/step - accuracy: 0.8567 - loss: 0.4047\n",
      "Epoch 71: ReduceLROnPlateau reducing learning rate to 4.999999873689376e-05.\n",
      "\u001b[1m386/386\u001b[0m \u001b[32m━━━━━━━━━━━━━━━━━━━━\u001b[0m\u001b[37m\u001b[0m \u001b[1m0s\u001b[0m 952us/step - accuracy: 0.8579 - loss: 0.4035 - val_accuracy: 0.8679 - val_loss: 0.3645 - learning_rate: 1.0000e-04\n",
      "Epoch 72/150\n",
      "\u001b[1m386/386\u001b[0m \u001b[32m━━━━━━━━━━━━━━━━━━━━\u001b[0m\u001b[37m\u001b[0m \u001b[1m0s\u001b[0m 967us/step - accuracy: 0.8597 - loss: 0.4115 - val_accuracy: 0.8689 - val_loss: 0.3642 - learning_rate: 5.0000e-05\n",
      "Epoch 73/150\n",
      "\u001b[1m386/386\u001b[0m \u001b[32m━━━━━━━━━━━━━━━━━━━━\u001b[0m\u001b[37m\u001b[0m \u001b[1m0s\u001b[0m 1ms/step - accuracy: 0.8605 - loss: 0.4017 - val_accuracy: 0.8686 - val_loss: 0.3644 - learning_rate: 5.0000e-05\n",
      "Epoch 74/150\n",
      "\u001b[1m386/386\u001b[0m \u001b[32m━━━━━━━━━━━━━━━━━━━━\u001b[0m\u001b[37m\u001b[0m \u001b[1m0s\u001b[0m 896us/step - accuracy: 0.8614 - loss: 0.3993 - val_accuracy: 0.8686 - val_loss: 0.3642 - learning_rate: 5.0000e-05\n",
      "Epoch 75/150\n",
      "\u001b[1m386/386\u001b[0m \u001b[32m━━━━━━━━━━━━━━━━━━━━\u001b[0m\u001b[37m\u001b[0m \u001b[1m0s\u001b[0m 1ms/step - accuracy: 0.8613 - loss: 0.3988 - val_accuracy: 0.8676 - val_loss: 0.3642 - learning_rate: 5.0000e-05\n",
      "Epoch 76/150\n",
      "\u001b[1m386/386\u001b[0m \u001b[32m━━━━━━━━━━━━━━━━━━━━\u001b[0m\u001b[37m\u001b[0m \u001b[1m0s\u001b[0m 955us/step - accuracy: 0.8659 - loss: 0.3936 - val_accuracy: 0.8682 - val_loss: 0.3641 - learning_rate: 5.0000e-05\n",
      "Epoch 77/150\n",
      "\u001b[1m386/386\u001b[0m \u001b[32m━━━━━━━━━━━━━━━━━━━━\u001b[0m\u001b[37m\u001b[0m \u001b[1m0s\u001b[0m 851us/step - accuracy: 0.8664 - loss: 0.4020 - val_accuracy: 0.8676 - val_loss: 0.3642 - learning_rate: 5.0000e-05\n",
      "Epoch 78/150\n",
      "\u001b[1m386/386\u001b[0m \u001b[32m━━━━━━━━━━━━━━━━━━━━\u001b[0m\u001b[37m\u001b[0m \u001b[1m0s\u001b[0m 905us/step - accuracy: 0.8691 - loss: 0.3874 - val_accuracy: 0.8679 - val_loss: 0.3644 - learning_rate: 5.0000e-05\n",
      "Epoch 79/150\n",
      "\u001b[1m386/386\u001b[0m \u001b[32m━━━━━━━━━━━━━━━━━━━━\u001b[0m\u001b[37m\u001b[0m \u001b[1m0s\u001b[0m 926us/step - accuracy: 0.8643 - loss: 0.3863 - val_accuracy: 0.8682 - val_loss: 0.3643 - learning_rate: 5.0000e-05\n",
      "Epoch 80/150\n",
      "\u001b[1m386/386\u001b[0m \u001b[32m━━━━━━━━━━━━━━━━━━━━\u001b[0m\u001b[37m\u001b[0m \u001b[1m0s\u001b[0m 886us/step - accuracy: 0.8644 - loss: 0.3913 - val_accuracy: 0.8673 - val_loss: 0.3643 - learning_rate: 5.0000e-05\n",
      "Epoch 81/150\n",
      "\u001b[1m386/386\u001b[0m \u001b[32m━━━━━━━━━━━━━━━━━━━━\u001b[0m\u001b[37m\u001b[0m \u001b[1m0s\u001b[0m 784us/step - accuracy: 0.8647 - loss: 0.3933\n",
      "Epoch 81: ReduceLROnPlateau reducing learning rate to 2.499999936844688e-05.\n",
      "\u001b[1m386/386\u001b[0m \u001b[32m━━━━━━━━━━━━━━━━━━━━\u001b[0m\u001b[37m\u001b[0m \u001b[1m0s\u001b[0m 958us/step - accuracy: 0.8647 - loss: 0.3933 - val_accuracy: 0.8676 - val_loss: 0.3643 - learning_rate: 5.0000e-05\n",
      "Epoch 82/150\n",
      "\u001b[1m386/386\u001b[0m \u001b[32m━━━━━━━━━━━━━━━━━━━━\u001b[0m\u001b[37m\u001b[0m \u001b[1m1s\u001b[0m 1ms/step - accuracy: 0.8611 - loss: 0.4004 - val_accuracy: 0.8676 - val_loss: 0.3643 - learning_rate: 2.5000e-05\n",
      "Epoch 83/150\n",
      "\u001b[1m386/386\u001b[0m \u001b[32m━━━━━━━━━━━━━━━━━━━━\u001b[0m\u001b[37m\u001b[0m \u001b[1m0s\u001b[0m 853us/step - accuracy: 0.8630 - loss: 0.3967 - val_accuracy: 0.8676 - val_loss: 0.3642 - learning_rate: 2.5000e-05\n",
      "Epoch 84/150\n",
      "\u001b[1m386/386\u001b[0m \u001b[32m━━━━━━━━━━━━━━━━━━━━\u001b[0m\u001b[37m\u001b[0m \u001b[1m0s\u001b[0m 913us/step - accuracy: 0.8654 - loss: 0.3961 - val_accuracy: 0.8676 - val_loss: 0.3642 - learning_rate: 2.5000e-05\n",
      "Epoch 85/150\n",
      "\u001b[1m386/386\u001b[0m \u001b[32m━━━━━━━━━━━━━━━━━━━━\u001b[0m\u001b[37m\u001b[0m \u001b[1m0s\u001b[0m 929us/step - accuracy: 0.8567 - loss: 0.4073 - val_accuracy: 0.8679 - val_loss: 0.3641 - learning_rate: 2.5000e-05\n",
      "Epoch 86/150\n",
      "\u001b[1m386/386\u001b[0m \u001b[32m━━━━━━━━━━━━━━━━━━━━\u001b[0m\u001b[37m\u001b[0m \u001b[1m0s\u001b[0m 891us/step - accuracy: 0.8712 - loss: 0.3838 - val_accuracy: 0.8682 - val_loss: 0.3641 - learning_rate: 2.5000e-05\n",
      "Epoch 87/150\n",
      "\u001b[1m386/386\u001b[0m \u001b[32m━━━━━━━━━━━━━━━━━━━━\u001b[0m\u001b[37m\u001b[0m \u001b[1m0s\u001b[0m 957us/step - accuracy: 0.8593 - loss: 0.3995 - val_accuracy: 0.8676 - val_loss: 0.3641 - learning_rate: 2.5000e-05\n",
      "Epoch 88/150\n",
      "\u001b[1m386/386\u001b[0m \u001b[32m━━━━━━━━━━━━━━━━━━━━\u001b[0m\u001b[37m\u001b[0m \u001b[1m0s\u001b[0m 1ms/step - accuracy: 0.8666 - loss: 0.4017 - val_accuracy: 0.8676 - val_loss: 0.3641 - learning_rate: 2.5000e-05\n",
      "Epoch 89/150\n",
      "\u001b[1m386/386\u001b[0m \u001b[32m━━━━━━━━━━━━━━━━━━━━\u001b[0m\u001b[37m\u001b[0m \u001b[1m0s\u001b[0m 875us/step - accuracy: 0.8678 - loss: 0.4009 - val_accuracy: 0.8676 - val_loss: 0.3641 - learning_rate: 2.5000e-05\n",
      "Epoch 90/150\n",
      "\u001b[1m386/386\u001b[0m \u001b[32m━━━━━━━━━━━━━━━━━━━━\u001b[0m\u001b[37m\u001b[0m \u001b[1m0s\u001b[0m 933us/step - accuracy: 0.8659 - loss: 0.3912 - val_accuracy: 0.8679 - val_loss: 0.3640 - learning_rate: 2.5000e-05\n",
      "Epoch 91/150\n",
      "\u001b[1m344/386\u001b[0m \u001b[32m━━━━━━━━━━━━━━━━━\u001b[0m\u001b[37m━━━\u001b[0m \u001b[1m0s\u001b[0m 733us/step - accuracy: 0.8691 - loss: 0.3935\n",
      "Epoch 91: ReduceLROnPlateau reducing learning rate to 1.249999968422344e-05.\n",
      "\u001b[1m386/386\u001b[0m \u001b[32m━━━━━━━━━━━━━━━━━━━━\u001b[0m\u001b[37m\u001b[0m \u001b[1m0s\u001b[0m 895us/step - accuracy: 0.8689 - loss: 0.3931 - val_accuracy: 0.8676 - val_loss: 0.3640 - learning_rate: 2.5000e-05\n",
      "Epoch 92/150\n",
      "\u001b[1m386/386\u001b[0m \u001b[32m━━━━━━━━━━━━━━━━━━━━\u001b[0m\u001b[37m\u001b[0m \u001b[1m0s\u001b[0m 994us/step - accuracy: 0.8626 - loss: 0.3951 - val_accuracy: 0.8679 - val_loss: 0.3640 - learning_rate: 1.2500e-05\n",
      "Epoch 93/150\n",
      "\u001b[1m386/386\u001b[0m \u001b[32m━━━━━━━━━━━━━━━━━━━━\u001b[0m\u001b[37m\u001b[0m \u001b[1m0s\u001b[0m 975us/step - accuracy: 0.8618 - loss: 0.3981 - val_accuracy: 0.8679 - val_loss: 0.3640 - learning_rate: 1.2500e-05\n",
      "Epoch 94/150\n",
      "\u001b[1m386/386\u001b[0m \u001b[32m━━━━━━━━━━━━━━━━━━━━\u001b[0m\u001b[37m\u001b[0m \u001b[1m0s\u001b[0m 999us/step - accuracy: 0.8656 - loss: 0.3876 - val_accuracy: 0.8679 - val_loss: 0.3640 - learning_rate: 1.2500e-05\n",
      "Epoch 95/150\n",
      "\u001b[1m386/386\u001b[0m \u001b[32m━━━━━━━━━━━━━━━━━━━━\u001b[0m\u001b[37m\u001b[0m \u001b[1m0s\u001b[0m 900us/step - accuracy: 0.8627 - loss: 0.3846 - val_accuracy: 0.8679 - val_loss: 0.3640 - learning_rate: 1.2500e-05\n",
      "Epoch 96/150\n",
      "\u001b[1m386/386\u001b[0m \u001b[32m━━━━━━━━━━━━━━━━━━━━\u001b[0m\u001b[37m\u001b[0m \u001b[1m0s\u001b[0m 952us/step - accuracy: 0.8662 - loss: 0.4013 - val_accuracy: 0.8682 - val_loss: 0.3640 - learning_rate: 1.2500e-05\n",
      "Epoch 97/150\n",
      "\u001b[1m386/386\u001b[0m \u001b[32m━━━━━━━━━━━━━━━━━━━━\u001b[0m\u001b[37m\u001b[0m \u001b[1m0s\u001b[0m 904us/step - accuracy: 0.8658 - loss: 0.3868 - val_accuracy: 0.8679 - val_loss: 0.3639 - learning_rate: 1.2500e-05\n",
      "Epoch 98/150\n",
      "\u001b[1m386/386\u001b[0m \u001b[32m━━━━━━━━━━━━━━━━━━━━\u001b[0m\u001b[37m\u001b[0m \u001b[1m0s\u001b[0m 892us/step - accuracy: 0.8670 - loss: 0.3943 - val_accuracy: 0.8682 - val_loss: 0.3639 - learning_rate: 1.2500e-05\n",
      "Epoch 99/150\n",
      "\u001b[1m386/386\u001b[0m \u001b[32m━━━━━━━━━━━━━━━━━━━━\u001b[0m\u001b[37m\u001b[0m \u001b[1m0s\u001b[0m 913us/step - accuracy: 0.8642 - loss: 0.4123 - val_accuracy: 0.8679 - val_loss: 0.3640 - learning_rate: 1.2500e-05\n",
      "Epoch 100/150\n",
      "\u001b[1m386/386\u001b[0m \u001b[32m━━━━━━━━━━━━━━━━━━━━\u001b[0m\u001b[37m\u001b[0m \u001b[1m0s\u001b[0m 1ms/step - accuracy: 0.8665 - loss: 0.3891 - val_accuracy: 0.8679 - val_loss: 0.3640 - learning_rate: 1.2500e-05\n",
      "Epoch 101/150\n",
      "\u001b[1m386/386\u001b[0m \u001b[32m━━━━━━━━━━━━━━━━━━━━\u001b[0m\u001b[37m\u001b[0m \u001b[1m0s\u001b[0m 913us/step - accuracy: 0.8678 - loss: 0.3940 - val_accuracy: 0.8676 - val_loss: 0.3640 - learning_rate: 1.2500e-05\n",
      "Epoch 102/150\n",
      "\u001b[1m386/386\u001b[0m \u001b[32m━━━━━━━━━━━━━━━━━━━━\u001b[0m\u001b[37m\u001b[0m \u001b[1m0s\u001b[0m 904us/step - accuracy: 0.8610 - loss: 0.4048 - val_accuracy: 0.8676 - val_loss: 0.3640 - learning_rate: 1.2500e-05\n",
      "Epoch 103/150\n",
      "\u001b[1m386/386\u001b[0m \u001b[32m━━━━━━━━━━━━━━━━━━━━\u001b[0m\u001b[37m\u001b[0m \u001b[1m0s\u001b[0m 937us/step - accuracy: 0.8666 - loss: 0.3910 - val_accuracy: 0.8676 - val_loss: 0.3640 - learning_rate: 1.2500e-05\n",
      "Epoch 104/150\n",
      "\u001b[1m386/386\u001b[0m \u001b[32m━━━━━━━━━━━━━━━━━━━━\u001b[0m\u001b[37m\u001b[0m \u001b[1m0s\u001b[0m 1ms/step - accuracy: 0.8676 - loss: 0.4004 - val_accuracy: 0.8676 - val_loss: 0.3640 - learning_rate: 1.2500e-05\n",
      "Epoch 105/150\n",
      "\u001b[1m386/386\u001b[0m \u001b[32m━━━━━━━━━━━━━━━━━━━━\u001b[0m\u001b[37m\u001b[0m \u001b[1m0s\u001b[0m 1ms/step - accuracy: 0.8629 - loss: 0.4020 - val_accuracy: 0.8682 - val_loss: 0.3640 - learning_rate: 1.2500e-05\n",
      "Epoch 106/150\n",
      "\u001b[1m351/386\u001b[0m \u001b[32m━━━━━━━━━━━━━━━━━━\u001b[0m\u001b[37m━━\u001b[0m \u001b[1m0s\u001b[0m 867us/step - accuracy: 0.8559 - loss: 0.4097\n",
      "Epoch 106: ReduceLROnPlateau reducing learning rate to 6.24999984211172e-06.\n",
      "\u001b[1m386/386\u001b[0m \u001b[32m━━━━━━━━━━━━━━━━━━━━\u001b[0m\u001b[37m\u001b[0m \u001b[1m0s\u001b[0m 1ms/step - accuracy: 0.8563 - loss: 0.4090 - val_accuracy: 0.8682 - val_loss: 0.3640 - learning_rate: 1.2500e-05\n",
      "Epoch 107/150\n",
      "\u001b[1m386/386\u001b[0m \u001b[32m━━━━━━━━━━━━━━━━━━━━\u001b[0m\u001b[37m\u001b[0m \u001b[1m0s\u001b[0m 1ms/step - accuracy: 0.8599 - loss: 0.3930 - val_accuracy: 0.8682 - val_loss: 0.3640 - learning_rate: 6.2500e-06\n",
      "Epoch 108/150\n",
      "\u001b[1m386/386\u001b[0m \u001b[32m━━━━━━━━━━━━━━━━━━━━\u001b[0m\u001b[37m\u001b[0m \u001b[1m0s\u001b[0m 1ms/step - accuracy: 0.8694 - loss: 0.3868 - val_accuracy: 0.8679 - val_loss: 0.3640 - learning_rate: 6.2500e-06\n",
      "Epoch 109/150\n",
      "\u001b[1m386/386\u001b[0m \u001b[32m━━━━━━━━━━━━━━━━━━━━\u001b[0m\u001b[37m\u001b[0m \u001b[1m0s\u001b[0m 969us/step - accuracy: 0.8655 - loss: 0.3900 - val_accuracy: 0.8679 - val_loss: 0.3640 - learning_rate: 6.2500e-06\n",
      "Epoch 110/150\n",
      "\u001b[1m386/386\u001b[0m \u001b[32m━━━━━━━━━━━━━━━━━━━━\u001b[0m\u001b[37m\u001b[0m \u001b[1m0s\u001b[0m 932us/step - accuracy: 0.8618 - loss: 0.3963 - val_accuracy: 0.8679 - val_loss: 0.3640 - learning_rate: 6.2500e-06\n",
      "Epoch 111/150\n",
      "\u001b[1m386/386\u001b[0m \u001b[32m━━━━━━━━━━━━━━━━━━━━\u001b[0m\u001b[37m\u001b[0m \u001b[1m0s\u001b[0m 912us/step - accuracy: 0.8643 - loss: 0.3971 - val_accuracy: 0.8679 - val_loss: 0.3640 - learning_rate: 6.2500e-06\n",
      "Epoch 112/150\n",
      "\u001b[1m386/386\u001b[0m \u001b[32m━━━━━━━━━━━━━━━━━━━━\u001b[0m\u001b[37m\u001b[0m \u001b[1m0s\u001b[0m 1ms/step - accuracy: 0.8632 - loss: 0.3929 - val_accuracy: 0.8679 - val_loss: 0.3640 - learning_rate: 6.2500e-06\n",
      "Epoch 113/150\n",
      "\u001b[1m386/386\u001b[0m \u001b[32m━━━━━━━━━━━━━━━━━━━━\u001b[0m\u001b[37m\u001b[0m \u001b[1m0s\u001b[0m 955us/step - accuracy: 0.8675 - loss: 0.3889 - val_accuracy: 0.8679 - val_loss: 0.3640 - learning_rate: 6.2500e-06\n",
      "Epoch 114/150\n",
      "\u001b[1m386/386\u001b[0m \u001b[32m━━━━━━━━━━━━━━━━━━━━\u001b[0m\u001b[37m\u001b[0m \u001b[1m0s\u001b[0m 1ms/step - accuracy: 0.8637 - loss: 0.3927 - val_accuracy: 0.8679 - val_loss: 0.3640 - learning_rate: 6.2500e-06\n",
      "Epoch 115/150\n",
      "\u001b[1m386/386\u001b[0m \u001b[32m━━━━━━━━━━━━━━━━━━━━\u001b[0m\u001b[37m\u001b[0m \u001b[1m0s\u001b[0m 1ms/step - accuracy: 0.8648 - loss: 0.3898 - val_accuracy: 0.8679 - val_loss: 0.3640 - learning_rate: 6.2500e-06\n",
      "Epoch 116/150\n",
      "\u001b[1m344/386\u001b[0m \u001b[32m━━━━━━━━━━━━━━━━━\u001b[0m\u001b[37m━━━\u001b[0m \u001b[1m0s\u001b[0m 738us/step - accuracy: 0.8627 - loss: 0.3947\n",
      "Epoch 116: ReduceLROnPlateau reducing learning rate to 3.12499992105586e-06.\n",
      "\u001b[1m386/386\u001b[0m \u001b[32m━━━━━━━━━━━━━━━━━━━━\u001b[0m\u001b[37m\u001b[0m \u001b[1m0s\u001b[0m 901us/step - accuracy: 0.8628 - loss: 0.3947 - val_accuracy: 0.8679 - val_loss: 0.3640 - learning_rate: 6.2500e-06\n",
      "Epoch 117/150\n",
      "\u001b[1m386/386\u001b[0m \u001b[32m━━━━━━━━━━━━━━━━━━━━\u001b[0m\u001b[37m\u001b[0m \u001b[1m0s\u001b[0m 971us/step - accuracy: 0.8648 - loss: 0.3924 - val_accuracy: 0.8679 - val_loss: 0.3640 - learning_rate: 3.1250e-06\n",
      "Epoch 118/150\n",
      "\u001b[1m386/386\u001b[0m \u001b[32m━━━━━━━━━━━━━━━━━━━━\u001b[0m\u001b[37m\u001b[0m \u001b[1m0s\u001b[0m 1ms/step - accuracy: 0.8574 - loss: 0.4062 - val_accuracy: 0.8679 - val_loss: 0.3640 - learning_rate: 3.1250e-06\n",
      "Epoch 119/150\n",
      "\u001b[1m386/386\u001b[0m \u001b[32m━━━━━━━━━━━━━━━━━━━━\u001b[0m\u001b[37m\u001b[0m \u001b[1m0s\u001b[0m 1ms/step - accuracy: 0.8648 - loss: 0.4117 - val_accuracy: 0.8679 - val_loss: 0.3640 - learning_rate: 3.1250e-06\n",
      "Epoch 120/150\n",
      "\u001b[1m386/386\u001b[0m \u001b[32m━━━━━━━━━━━━━━━━━━━━\u001b[0m\u001b[37m\u001b[0m \u001b[1m0s\u001b[0m 848us/step - accuracy: 0.8701 - loss: 0.3859 - val_accuracy: 0.8679 - val_loss: 0.3640 - learning_rate: 3.1250e-06\n",
      "Epoch 121/150\n",
      "\u001b[1m386/386\u001b[0m \u001b[32m━━━━━━━━━━━━━━━━━━━━\u001b[0m\u001b[37m\u001b[0m \u001b[1m0s\u001b[0m 972us/step - accuracy: 0.8683 - loss: 0.3922 - val_accuracy: 0.8679 - val_loss: 0.3640 - learning_rate: 3.1250e-06\n",
      "Epoch 122/150\n",
      "\u001b[1m386/386\u001b[0m \u001b[32m━━━━━━━━━━━━━━━━━━━━\u001b[0m\u001b[37m\u001b[0m \u001b[1m0s\u001b[0m 945us/step - accuracy: 0.8675 - loss: 0.3863 - val_accuracy: 0.8679 - val_loss: 0.3640 - learning_rate: 3.1250e-06\n",
      "Epoch 123/150\n",
      "\u001b[1m386/386\u001b[0m \u001b[32m━━━━━━━━━━━━━━━━━━━━\u001b[0m\u001b[37m\u001b[0m \u001b[1m0s\u001b[0m 894us/step - accuracy: 0.8649 - loss: 0.4018 - val_accuracy: 0.8682 - val_loss: 0.3640 - learning_rate: 3.1250e-06\n",
      "Epoch 124/150\n",
      "\u001b[1m386/386\u001b[0m \u001b[32m━━━━━━━━━━━━━━━━━━━━\u001b[0m\u001b[37m\u001b[0m \u001b[1m0s\u001b[0m 1ms/step - accuracy: 0.8625 - loss: 0.3912 - val_accuracy: 0.8679 - val_loss: 0.3640 - learning_rate: 3.1250e-06\n",
      "Epoch 125/150\n",
      "\u001b[1m386/386\u001b[0m \u001b[32m━━━━━━━━━━━━━━━━━━━━\u001b[0m\u001b[37m\u001b[0m \u001b[1m0s\u001b[0m 891us/step - accuracy: 0.8672 - loss: 0.3857 - val_accuracy: 0.8682 - val_loss: 0.3640 - learning_rate: 3.1250e-06\n",
      "Epoch 126/150\n",
      "\u001b[1m364/386\u001b[0m \u001b[32m━━━━━━━━━━━━━━━━━━\u001b[0m\u001b[37m━━\u001b[0m \u001b[1m0s\u001b[0m 692us/step - accuracy: 0.8603 - loss: 0.3984\n",
      "Epoch 126: ReduceLROnPlateau reducing learning rate to 1.56249996052793e-06.\n",
      "\u001b[1m386/386\u001b[0m \u001b[32m━━━━━━━━━━━━━━━━━━━━\u001b[0m\u001b[37m\u001b[0m \u001b[1m0s\u001b[0m 870us/step - accuracy: 0.8603 - loss: 0.3985 - val_accuracy: 0.8682 - val_loss: 0.3640 - learning_rate: 3.1250e-06\n",
      "Epoch 127/150\n",
      "\u001b[1m386/386\u001b[0m \u001b[32m━━━━━━━━━━━━━━━━━━━━\u001b[0m\u001b[37m\u001b[0m \u001b[1m0s\u001b[0m 902us/step - accuracy: 0.8617 - loss: 0.4037 - val_accuracy: 0.8679 - val_loss: 0.3640 - learning_rate: 1.5625e-06\n",
      "Epoch 128/150\n",
      "\u001b[1m386/386\u001b[0m \u001b[32m━━━━━━━━━━━━━━━━━━━━\u001b[0m\u001b[37m\u001b[0m \u001b[1m0s\u001b[0m 974us/step - accuracy: 0.8688 - loss: 0.3907 - val_accuracy: 0.8679 - val_loss: 0.3640 - learning_rate: 1.5625e-06\n",
      "Epoch 129/150\n",
      "\u001b[1m386/386\u001b[0m \u001b[32m━━━━━━━━━━━━━━━━━━━━\u001b[0m\u001b[37m\u001b[0m \u001b[1m0s\u001b[0m 1ms/step - accuracy: 0.8645 - loss: 0.3946 - val_accuracy: 0.8679 - val_loss: 0.3640 - learning_rate: 1.5625e-06\n",
      "Epoch 130/150\n",
      "\u001b[1m386/386\u001b[0m \u001b[32m━━━━━━━━━━━━━━━━━━━━\u001b[0m\u001b[37m\u001b[0m \u001b[1m0s\u001b[0m 849us/step - accuracy: 0.8593 - loss: 0.4020 - val_accuracy: 0.8679 - val_loss: 0.3640 - learning_rate: 1.5625e-06\n",
      "Epoch 131/150\n",
      "\u001b[1m386/386\u001b[0m \u001b[32m━━━━━━━━━━━━━━━━━━━━\u001b[0m\u001b[37m\u001b[0m \u001b[1m0s\u001b[0m 923us/step - accuracy: 0.8724 - loss: 0.3861 - val_accuracy: 0.8679 - val_loss: 0.3640 - learning_rate: 1.5625e-06\n",
      "Epoch 132/150\n",
      "\u001b[1m386/386\u001b[0m \u001b[32m━━━━━━━━━━━━━━━━━━━━\u001b[0m\u001b[37m\u001b[0m \u001b[1m0s\u001b[0m 883us/step - accuracy: 0.8595 - loss: 0.4091 - val_accuracy: 0.8686 - val_loss: 0.3640 - learning_rate: 1.5625e-06\n",
      "Epoch 133/150\n",
      "\u001b[1m386/386\u001b[0m \u001b[32m━━━━━━━━━━━━━━━━━━━━\u001b[0m\u001b[37m\u001b[0m \u001b[1m0s\u001b[0m 1ms/step - accuracy: 0.8700 - loss: 0.3903 - val_accuracy: 0.8679 - val_loss: 0.3640 - learning_rate: 1.5625e-06\n",
      "Epoch 134/150\n",
      "\u001b[1m386/386\u001b[0m \u001b[32m━━━━━━━━━━━━━━━━━━━━\u001b[0m\u001b[37m\u001b[0m \u001b[1m0s\u001b[0m 921us/step - accuracy: 0.8592 - loss: 0.3998 - val_accuracy: 0.8679 - val_loss: 0.3640 - learning_rate: 1.5625e-06\n",
      "Epoch 135/150\n",
      "\u001b[1m386/386\u001b[0m \u001b[32m━━━━━━━━━━━━━━━━━━━━\u001b[0m\u001b[37m\u001b[0m \u001b[1m0s\u001b[0m 938us/step - accuracy: 0.8591 - loss: 0.4138 - val_accuracy: 0.8679 - val_loss: 0.3640 - learning_rate: 1.5625e-06\n",
      "Epoch 136/150\n",
      "\u001b[1m367/386\u001b[0m \u001b[32m━━━━━━━━━━━━━━━━━━━\u001b[0m\u001b[37m━\u001b[0m \u001b[1m0s\u001b[0m 826us/step - accuracy: 0.8701 - loss: 0.3848\n",
      "Epoch 136: ReduceLROnPlateau reducing learning rate to 1e-06.\n",
      "\u001b[1m386/386\u001b[0m \u001b[32m━━━━━━━━━━━━━━━━━━━━\u001b[0m\u001b[37m\u001b[0m \u001b[1m0s\u001b[0m 1ms/step - accuracy: 0.8697 - loss: 0.3854 - val_accuracy: 0.8679 - val_loss: 0.3640 - learning_rate: 1.5625e-06\n",
      "Epoch 137/150\n",
      "\u001b[1m386/386\u001b[0m \u001b[32m━━━━━━━━━━━━━━━━━━━━\u001b[0m\u001b[37m\u001b[0m \u001b[1m0s\u001b[0m 978us/step - accuracy: 0.8677 - loss: 0.4015 - val_accuracy: 0.8679 - val_loss: 0.3640 - learning_rate: 1.0000e-06\n",
      "Epoch 138/150\n",
      "\u001b[1m386/386\u001b[0m \u001b[32m━━━━━━━━━━━━━━━━━━━━\u001b[0m\u001b[37m\u001b[0m \u001b[1m0s\u001b[0m 923us/step - accuracy: 0.8664 - loss: 0.3916 - val_accuracy: 0.8679 - val_loss: 0.3640 - learning_rate: 1.0000e-06\n",
      "Epoch 139/150\n",
      "\u001b[1m386/386\u001b[0m \u001b[32m━━━━━━━━━━━━━━━━━━━━\u001b[0m\u001b[37m\u001b[0m \u001b[1m1s\u001b[0m 1ms/step - accuracy: 0.8676 - loss: 0.4124 - val_accuracy: 0.8679 - val_loss: 0.3640 - learning_rate: 1.0000e-06\n",
      "Epoch 140/150\n",
      "\u001b[1m386/386\u001b[0m \u001b[32m━━━━━━━━━━━━━━━━━━━━\u001b[0m\u001b[37m\u001b[0m \u001b[1m0s\u001b[0m 901us/step - accuracy: 0.8691 - loss: 0.3935 - val_accuracy: 0.8679 - val_loss: 0.3640 - learning_rate: 1.0000e-06\n",
      "Epoch 141/150\n",
      "\u001b[1m386/386\u001b[0m \u001b[32m━━━━━━━━━━━━━━━━━━━━\u001b[0m\u001b[37m\u001b[0m \u001b[1m0s\u001b[0m 904us/step - accuracy: 0.8634 - loss: 0.4032 - val_accuracy: 0.8679 - val_loss: 0.3640 - learning_rate: 1.0000e-06\n",
      "Epoch 142/150\n",
      "\u001b[1m386/386\u001b[0m \u001b[32m━━━━━━━━━━━━━━━━━━━━\u001b[0m\u001b[37m\u001b[0m \u001b[1m1s\u001b[0m 1ms/step - accuracy: 0.8623 - loss: 0.4005 - val_accuracy: 0.8679 - val_loss: 0.3640 - learning_rate: 1.0000e-06\n",
      "Epoch 143/150\n",
      "\u001b[1m386/386\u001b[0m \u001b[32m━━━━━━━━━━━━━━━━━━━━\u001b[0m\u001b[37m\u001b[0m \u001b[1m0s\u001b[0m 955us/step - accuracy: 0.8610 - loss: 0.3987 - val_accuracy: 0.8679 - val_loss: 0.3640 - learning_rate: 1.0000e-06\n",
      "Epoch 144/150\n",
      "\u001b[1m386/386\u001b[0m \u001b[32m━━━━━━━━━━━━━━━━━━━━\u001b[0m\u001b[37m\u001b[0m \u001b[1m0s\u001b[0m 1ms/step - accuracy: 0.8632 - loss: 0.3963 - val_accuracy: 0.8679 - val_loss: 0.3640 - learning_rate: 1.0000e-06\n",
      "Epoch 145/150\n",
      "\u001b[1m386/386\u001b[0m \u001b[32m━━━━━━━━━━━━━━━━━━━━\u001b[0m\u001b[37m\u001b[0m \u001b[1m0s\u001b[0m 1ms/step - accuracy: 0.8628 - loss: 0.3937 - val_accuracy: 0.8679 - val_loss: 0.3640 - learning_rate: 1.0000e-06\n",
      "Epoch 146/150\n",
      "\u001b[1m386/386\u001b[0m \u001b[32m━━━━━━━━━━━━━━━━━━━━\u001b[0m\u001b[37m\u001b[0m \u001b[1m0s\u001b[0m 850us/step - accuracy: 0.8639 - loss: 0.3912 - val_accuracy: 0.8679 - val_loss: 0.3640 - learning_rate: 1.0000e-06\n",
      "Epoch 147/150\n",
      "\u001b[1m386/386\u001b[0m \u001b[32m━━━━━━━━━━━━━━━━━━━━\u001b[0m\u001b[37m\u001b[0m \u001b[1m0s\u001b[0m 1ms/step - accuracy: 0.8662 - loss: 0.4025 - val_accuracy: 0.8679 - val_loss: 0.3640 - learning_rate: 1.0000e-06\n",
      "Epoch 148/150\n",
      "\u001b[1m386/386\u001b[0m \u001b[32m━━━━━━━━━━━━━━━━━━━━\u001b[0m\u001b[37m\u001b[0m \u001b[1m0s\u001b[0m 997us/step - accuracy: 0.8632 - loss: 0.3973 - val_accuracy: 0.8679 - val_loss: 0.3640 - learning_rate: 1.0000e-06\n",
      "Epoch 148: early stopping\n"
     ]
    },
    {
     "data": {
      "text/plain": [
       "<keras.src.callbacks.history.History at 0x2464c2eda90>"
      ]
     },
     "execution_count": 318,
     "metadata": {},
     "output_type": "execute_result"
    }
   ],
   "source": [
    "model.fit(X_train, y_train, epochs=150, batch_size=32, validation_split=0.2, callbacks=[es, check_point, reduce_lr, lr_scheduler])"
   ]
  },
  {
   "cell_type": "code",
   "execution_count": 278,
   "id": "71c7abac-08a5-4edd-b780-5613b4d636df",
   "metadata": {},
   "outputs": [
    {
     "data": {
      "text/plain": [
       "['model2.pkl']"
      ]
     },
     "execution_count": 278,
     "metadata": {},
     "output_type": "execute_result"
    }
   ],
   "source": [
    "from joblib import dump\n",
    "dump(model2, 'model2.pkl')"
   ]
  },
  {
   "cell_type": "markdown",
   "id": "ed23939e-8f11-4e38-bc3e-d4f57a9099c6",
   "metadata": {},
   "source": [
    "Evaluation"
   ]
  },
  {
   "cell_type": "code",
   "execution_count": 281,
   "id": "8c3b49ee-dc95-42dc-8fd1-ecf737c31041",
   "metadata": {},
   "outputs": [
    {
     "name": "stdout",
     "output_type": "stream",
     "text": [
      "\u001b[1m121/121\u001b[0m \u001b[32m━━━━━━━━━━━━━━━━━━━━\u001b[0m\u001b[37m\u001b[0m \u001b[1m0s\u001b[0m 703us/step - accuracy: 0.9258 - loss: 0.2587\n",
      "Model Accuracy : 92.15229153633118\n"
     ]
    }
   ],
   "source": [
    "loss, accuracy = model.evaluate(X_test, y_test)\n",
    "print(f'Model Accuracy : {accuracy * 100}')"
   ]
  },
  {
   "cell_type": "code",
   "execution_count": 283,
   "id": "9113c81d-f6f9-4059-82be-d320136e2066",
   "metadata": {},
   "outputs": [
    {
     "name": "stdout",
     "output_type": "stream",
     "text": [
      "\u001b[1m121/121\u001b[0m \u001b[32m━━━━━━━━━━━━━━━━━━━━\u001b[0m\u001b[37m\u001b[0m \u001b[1m0s\u001b[0m 814us/step\n"
     ]
    }
   ],
   "source": [
    "pred = model.predict(X_test)"
   ]
  },
  {
   "cell_type": "code",
   "execution_count": 285,
   "id": "dee3c1d1-431a-4100-a8f6-01d1b8cf6f1b",
   "metadata": {},
   "outputs": [],
   "source": [
    "binary_pred = (pred > 0.5).astype('int')"
   ]
  },
  {
   "cell_type": "code",
   "execution_count": 287,
   "id": "edc7158c-546e-41f4-839e-3c7228f9bf73",
   "metadata": {},
   "outputs": [
    {
     "data": {
      "text/plain": [
       "array([[1],\n",
       "       [1],\n",
       "       [1],\n",
       "       ...,\n",
       "       [1],\n",
       "       [0],\n",
       "       [1]])"
      ]
     },
     "execution_count": 287,
     "metadata": {},
     "output_type": "execute_result"
    }
   ],
   "source": [
    "binary_pred"
   ]
  },
  {
   "cell_type": "code",
   "execution_count": 289,
   "id": "9be7e259-80f9-495f-b157-4bdd124f9ac6",
   "metadata": {},
   "outputs": [
    {
     "name": "stdout",
     "output_type": "stream",
     "text": [
      "              precision    recall  f1-score   support\n",
      "\n",
      "           0       0.90      0.94      0.92      1931\n",
      "           1       0.94      0.90      0.92      1930\n",
      "\n",
      "    accuracy                           0.92      3861\n",
      "   macro avg       0.92      0.92      0.92      3861\n",
      "weighted avg       0.92      0.92      0.92      3861\n",
      "\n"
     ]
    }
   ],
   "source": [
    "from sklearn.metrics import classification_report, confusion_matrix\n",
    "print(classification_report(y_test, binary_pred))"
   ]
  },
  {
   "cell_type": "code",
   "execution_count": 291,
   "id": "f174cf08-6eeb-4822-ac7b-0511d0c6fd41",
   "metadata": {},
   "outputs": [
    {
     "data": {
      "image/png": "[encoded data removed]",
      "text/plain": [
       "<Figure size 640x480 with 2 Axes>"
      ]
     },
     "metadata": {},
     "output_type": "display_data"
    }
   ],
   "source": [
    "import seaborn as sns\n",
    "import matplotlib.pyplot as plt\n",
    "\n",
    "\n",
    "cf = confusion_matrix(y_test, binary_pred, normalize = 'true')\n",
    "sns.heatmap(cf, annot = True, cmap = 'OrRd');\n",
    "plt.xlabel('PREDICTIONS');\n",
    "plt.ylabel('ACTUAL');"
   ]
  },
  {
   "cell_type": "code",
   "execution_count": 352,
   "id": "abeafa84-54c0-4a3c-b9d1-f389225d1211",
   "metadata": {},
   "outputs": [
    {
     "name": "stdout",
     "output_type": "stream",
     "text": [
      "model1 Error Analysis\n",
      "\u001b[1m121/121\u001b[0m \u001b[32m━━━━━━━━━━━━━━━━━━━━\u001b[0m\u001b[37m\u001b[0m \u001b[1m0s\u001b[0m 573us/step\n",
      "Mean Squared Error (MSE): 0.0460\n",
      "Mean Absolute Error (MAE): 0.0758\n",
      "Root Mean Squared Error (RMSE): 0.2145\n",
      "\n",
      "Confusion Matrix:\n",
      "            Pred Neg  Pred Pos\n",
      "Actual Neg      1866        65\n",
      "Actual Pos       175      1755\n",
      "Specificity: 0.9663\n",
      "F1 Score: 0.9360\n",
      "\n",
      "L1 Model Error Analysis\n",
      "\u001b[1m121/121\u001b[0m \u001b[32m━━━━━━━━━━━━━━━━━━━━\u001b[0m\u001b[37m\u001b[0m \u001b[1m0s\u001b[0m 496us/step\n",
      "Mean Squared Error (MSE): 0.0569\n",
      "Mean Absolute Error (MAE): 0.1211\n",
      "Root Mean Squared Error (RMSE): 0.2385\n",
      "\n",
      "Confusion Matrix:\n",
      "            Pred Neg  Pred Pos\n",
      "Actual Neg      1804       127\n",
      "Actual Pos       150      1780\n",
      "Specificity: 0.9342\n",
      "F1 Score: 0.9278\n",
      "\n",
      "L2 Model Error Analysis\n",
      "\u001b[1m121/121\u001b[0m \u001b[32m━━━━━━━━━━━━━━━━━━━━\u001b[0m\u001b[37m\u001b[0m \u001b[1m0s\u001b[0m 450us/step\n",
      "Mean Squared Error (MSE): 0.1080\n",
      "Mean Absolute Error (MAE): 0.2440\n",
      "Root Mean Squared Error (RMSE): 0.3287\n",
      "\n",
      "Confusion Matrix:\n",
      "            Pred Neg  Pred Pos\n",
      "Actual Neg      1824       107\n",
      "Actual Pos       476      1454\n",
      "Specificity: 0.9446\n",
      "F1 Score: 0.8330\n",
      "\n",
      "model2 Error Analysis\n",
      "\u001b[1m121/121\u001b[0m \u001b[32m━━━━━━━━━━━━━━━━━━━━\u001b[0m\u001b[37m\u001b[0m \u001b[1m0s\u001b[0m 545us/step\n",
      "Mean Squared Error (MSE): 0.2562\n",
      "Mean Absolute Error (MAE): 0.5033\n",
      "Root Mean Squared Error (RMSE): 0.5061\n",
      "\n",
      "Confusion Matrix:\n",
      "            Pred Neg  Pred Pos\n",
      "Actual Neg      1333       598\n",
      "Actual Pos      1397       533\n",
      "Specificity: 0.6903\n",
      "F1 Score: 0.3483\n",
      "\n"
     ]
    }
   ],
   "source": [
    "from sklearn.metrics import confusion_matrix, classification_report, f1_score\n",
    "import pandas as pd\n",
    "\n",
    "models = {\"model1\": vanilla, \"L1 Model\": l1_model, \"L2 Model\": l2_model, \"model2\": model2}\n",
    "\n",
    "for model_name, model in models.items():\n",
    "    print(f\"{model_name} Error Analysis\")\n",
    "    predictions = model.predict(X_test)\n",
    "    \n",
    "    # Convert probabilities to binary outcomes\n",
    "    predictions_binary = (predictions > 0.5).astype(int)\n",
    "\n",
    "    # Calculate and print MSE, MAE, RMSE\n",
    "    mse = mean_squared_error(y_test, predictions)\n",
    "    mae = mean_absolute_error(y_test, predictions)\n",
    "    rmse = np.sqrt(mse)\n",
    "    print(f\"Mean Squared Error (MSE): {mse:.4f}\")\n",
    "    print(f\"Mean Absolute Error (MAE): {mae:.4f}\")\n",
    "    print(f\"Root Mean Squared Error (RMSE): {rmse:.4f}\\n\")\n",
    "    \n",
    "    # Confusion Matrix\n",
    "    cm = confusion_matrix(y_test, predictions_binary)\n",
    "    print(\"Confusion Matrix:\")\n",
    "    cm_df = pd.DataFrame(cm, index=[\"Actual Neg\", \"Actual Pos\"], columns=[\"Pred Neg\", \"Pred Pos\"])\n",
    "    print(cm_df)\n",
    "\n",
    "    # Specificity calculation\n",
    "    TN, FP, FN, TP = cm.ravel()\n",
    "    specificity = TN / (TN + FP)\n",
    "    print(f\"Specificity: {specificity:.4f}\")\n",
    "\n",
    "    # F1 Score calculation\n",
    "    f1 = f1_score(y_test, predictions_binary)\n",
    "    print(f\"F1 Score: {f1:.4f}\\n\")"
   ]
  },
  {
   "cell_type": "code",
   "execution_count": null,
   "id": "765d919e-6133-4268-97f4-4bc2cc944dac",
   "metadata": {},
   "outputs": [],
   "source": []
  },
  {
   "cell_type": "code",
   "execution_count": null,
   "id": "b2423079-5a45-476b-a865-9c2e110018d8",
   "metadata": {},
   "outputs": [],
   "source": []
  },
  {
   "cell_type": "code",
   "execution_count": 350,
   "id": "0afce61a-fddd-47bd-b7a4-b47add1fbb49",
   "metadata": {},
   "outputs": [
    {
     "name": "stdout",
     "output_type": "stream",
     "text": [
      "\u001b[1m121/121\u001b[0m \u001b[32m━━━━━━━━━━━━━━━━━━━━\u001b[0m\u001b[37m\u001b[0m \u001b[1m0s\u001b[0m 1ms/step\n"
     ]
    },
    {
     "data": {
      "image/png": "[encoded data removed]",
      "text/plain": [
       "<Figure size 800x600 with 2 Axes>"
      ]
     },
     "metadata": {},
     "output_type": "display_data"
    },
    {
     "name": "stdout",
     "output_type": "stream",
     "text": [
      "Mean Squared Error (MSE): 0.2562\n",
      "Mean Absolute Error (MAE): 0.5033\n",
      "Root Mean Squared Error (RMSE): 0.5061\n",
      "\n",
      "Confusion Matrix:\n",
      "            Pred Neg  Pred Pos\n",
      "Actual Neg      1333       598\n",
      "Actual Pos      1397       533\n",
      "\n",
      "Specificity: 0.6903\n",
      "F1 Score: 0.3483\n"
     ]
    }
   ],
   "source": [
    "from sklearn.metrics import confusion_matrix\n",
    "import seaborn as sns\n",
    "import matplotlib.pyplot as plt\n",
    "import numpy as np\n",
    "import pandas as pd\n",
    "\n",
    "# Assuming model2 is already trained and y_test is defined\n",
    "# Get predictions for model2\n",
    "predictions = model2.predict(X_test)\n",
    "\n",
    "# Convert probabilities to binary outcomes\n",
    "predictions_binary = (predictions > 0.5).astype(int)\n",
    "\n",
    "# Calculate confusion matrix\n",
    "cm = confusion_matrix(y_test, predictions_binary)\n",
    "\n",
    "# Create the heatmap\n",
    "plt.figure(figsize=(8, 6))\n",
    "sns.heatmap(cm, annot=True, fmt='d', cmap='Blues', \n",
    "            xticklabels=[\"Pred Neg\", \"Pred Pos\"], \n",
    "            yticklabels=[\"Actual Neg\", \"Actual Pos\"])\n",
    "plt.title('Confusion Matrix for model2')  # Updated title\n",
    "plt.xlabel('Predicted Label')\n",
    "plt.ylabel('True Label')\n",
    "plt.show()\n",
    "\n",
    "# Print metrics for model 2\n",
    "print(f\"Mean Squared Error (MSE): 0.2562\")\n",
    "print(f\"Mean Absolute Error (MAE): 0.5033\")\n",
    "print(f\"Root Mean Squared Error (RMSE): 0.5061\")\n",
    "print(\"\\nConfusion Matrix:\")\n",
    "cm_df = pd.DataFrame(cm, index=[\"Actual Neg\", \"Actual Pos\"], columns=[\"Pred Neg\", \"Pred Pos\"])\n",
    "print(cm_df)\n",
    "print(f\"\\nSpecificity: 0.6903\")\n",
    "print(f\"F1 Score: 0.3483\")\n"
   ]
  },
  {
   "cell_type": "code",
   "execution_count": 356,
   "id": "dcef1c01-cb30-4981-99a0-938fb41b651c",
   "metadata": {},
   "outputs": [],
   "source": [
    "from keras.models import load_model\n",
    "import pandas as pd\n",
    "import numpy as np\n",
    "from sklearn.preprocessing import StandardScaler"
   ]
  },
  {
   "cell_type": "code",
   "execution_count": 364,
   "id": "9b07d69a-f450-4b4c-90fa-6e4330dd1e87",
   "metadata": {},
   "outputs": [
    {
     "name": "stdout",
     "output_type": "stream",
     "text": [
      "\u001b[1m1/1\u001b[0m \u001b[32m━━━━━━━━━━━━━━━━━━━━\u001b[0m\u001b[37m\u001b[0m \u001b[1m0s\u001b[0m 23ms/step\n",
      "Prediction (1 = is_fraud, 0 = is_not_fraud): 0\n"
     ]
    }
   ],
   "source": [
    "import joblib\n",
    "# Load the regularized model (model2)\n",
    "model2 = joblib.load('model2.pkl')\n",
    "new_data = [\n",
    "    [\n",
    "       5,24.84,0,23,21,6,2020,22,6\n",
    "    ]\n",
    "]\n",
    "\n",
    "columns = [\n",
    "    \"category  \",\n",
    "    \"amt\",\n",
    "    \"gender\",\n",
    "    \"city_pop\",\n",
    "    \"trans_day\",\n",
    "    \"trans_month\",\n",
    "    \"trans_year\",\n",
    "    \"trans_hour\",\n",
    "    \"trans_minute\t\",\n",
    "    \t\t\t\t\t\t\t\t\t\t\t\t\n",
    "]\n",
    "new_data_df = pd.DataFrame(new_data, columns=columns)\n",
    "scaler = StandardScaler()\n",
    "new_data_scaled = scaler.fit_transform(new_data_df)\n",
    "\n",
    "prediction = model.predict(new_data_scaled)\n",
    "result = (prediction > 0.5).astype(int)\n",
    "\n",
    "# Output the result\n",
    "print(f\"Prediction (1 = is_fraud, 0 = is_not_fraud): {result[0][0]}\")"
   ]
  },
  {
   "cell_type": "code",
   "execution_count": null,
   "id": "4866c5d5-a356-46f1-b74f-6ff6b7ddef25",
   "metadata": {},
   "outputs": [],
   "source": []
  }
 ],
 "metadata": {
  "kernelspec": {
   "display_name": "Python 3 (ipykernel)",
   "language": "python",
   "name": "python3"
  },
  "language_info": {
   "codemirror_mode": {
    "name": "ipython",
    "version": 3
   },
   "file_extension": ".py",
   "mimetype": "text/x-python",
   "name": "python",
   "nbconvert_exporter": "python",
   "pygments_lexer": "ipython3",
   "version": "3.12.4"
  }
 },
 "nbformat": 4,
 "nbformat_minor": 5
}
